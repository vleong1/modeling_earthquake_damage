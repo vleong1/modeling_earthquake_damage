{
 "cells": [
  {
   "cell_type": "code",
   "execution_count": 72,
   "id": "bc03a946",
   "metadata": {},
   "outputs": [],
   "source": [
    "import pandas as pd\n",
    "import numpy as np\n",
    "import seaborn as sns\n",
    "import matplotlib.pyplot as plt\n",
    "\n",
    "from sklearn.model_selection import train_test_split, cross_val_score, GridSearchCV\n",
    "from sklearn.preprocessing import StandardScaler, LabelEncoder, OrdinalEncoder\n",
    "from sklearn.pipeline import make_pipeline\n",
    "from category_encoders import OneHotEncoder\n",
    "from sklearn.metrics import f1_score, precision_score, recall_score, plot_confusion_matrix\n",
    "from sklearn.inspection import permutation_importance\n",
    "from sklearn.linear_model import LogisticRegression\n",
    "from sklearn.experimental import enable_hist_gradient_boosting\n",
    "from sklearn.ensemble import AdaBoostClassifier, GradientBoostingClassifier, HistGradientBoostingClassifier, RandomForestClassifier, BaggingClassifier, ExtraTreesClassifier\n",
    "from sklearn.tree import DecisionTreeClassifier\n",
    "from sklearn.neighbors import KNeighborsClassifier\n",
    "from sklearn.feature_selection import RFE\n",
    "\n",
    "import tensorflow as tf\n",
    "from keras.models import Sequential\n",
    "from keras.layers import Input, Dense, Dropout\n",
    "from keras.regularizers import l2\n",
    "from keras.callbacks import EarlyStopping\n",
    "from tensorflow.keras.utils import to_categorical\n",
    "\n",
    "import warnings\n",
    "warnings.simplefilter(action='ignore', category=FutureWarning)"
   ]
  },
  {
   "cell_type": "code",
   "execution_count": 4,
   "id": "b7d78671",
   "metadata": {},
   "outputs": [],
   "source": [
    "#Set viewing options\n",
    "pd.set_option('display.max_columns', None)  \n",
    "pd.set_option('display.expand_frame_repr', False)\n",
    "pd.set_option('display.max_colwidth', None)"
   ]
  },
  {
   "cell_type": "code",
   "execution_count": 5,
   "id": "6b7ad818",
   "metadata": {},
   "outputs": [],
   "source": [
    "trainlabel = pd.read_csv('data/train_10pct_labels.csv')\n",
    "train = pd.read_csv('data/train_10pct.csv')"
   ]
  },
  {
   "cell_type": "code",
   "execution_count": 6,
   "id": "7781d43f",
   "metadata": {},
   "outputs": [
    {
     "data": {
      "text/plain": [
       "2    0.567405\n",
       "3    0.336122\n",
       "1    0.096473\n",
       "Name: damage_grade, dtype: float64"
      ]
     },
     "execution_count": 6,
     "metadata": {},
     "output_type": "execute_result"
    }
   ],
   "source": [
    "# Create null model# \n",
    "trainlabel['damage_grade'].value_counts(normalize=True)\n"
   ]
  },
  {
   "cell_type": "markdown",
   "id": "df7a2d1f",
   "metadata": {},
   "source": [
    "#### Baseline model: 56.74%"
   ]
  },
  {
   "cell_type": "code",
   "execution_count": 7,
   "id": "3136a852",
   "metadata": {},
   "outputs": [
    {
     "data": {
      "text/html": [
       "<div>\n",
       "<style scoped>\n",
       "    .dataframe tbody tr th:only-of-type {\n",
       "        vertical-align: middle;\n",
       "    }\n",
       "\n",
       "    .dataframe tbody tr th {\n",
       "        vertical-align: top;\n",
       "    }\n",
       "\n",
       "    .dataframe thead th {\n",
       "        text-align: right;\n",
       "    }\n",
       "</style>\n",
       "<table border=\"1\" class=\"dataframe\">\n",
       "  <thead>\n",
       "    <tr style=\"text-align: right;\">\n",
       "      <th></th>\n",
       "      <th>building_id</th>\n",
       "      <th>geo_level_1_id</th>\n",
       "      <th>geo_level_2_id</th>\n",
       "      <th>geo_level_3_id</th>\n",
       "      <th>count_floors_pre_eq</th>\n",
       "      <th>age</th>\n",
       "      <th>area_percentage</th>\n",
       "      <th>height_percentage</th>\n",
       "      <th>land_surface_condition</th>\n",
       "      <th>foundation_type</th>\n",
       "      <th>roof_type</th>\n",
       "      <th>ground_floor_type</th>\n",
       "      <th>other_floor_type</th>\n",
       "      <th>position</th>\n",
       "      <th>plan_configuration</th>\n",
       "      <th>has_superstructure_adobe_mud</th>\n",
       "      <th>has_superstructure_mud_mortar_stone</th>\n",
       "      <th>has_superstructure_stone_flag</th>\n",
       "      <th>has_superstructure_cement_mortar_stone</th>\n",
       "      <th>has_superstructure_mud_mortar_brick</th>\n",
       "      <th>has_superstructure_cement_mortar_brick</th>\n",
       "      <th>has_superstructure_timber</th>\n",
       "      <th>has_superstructure_bamboo</th>\n",
       "      <th>has_superstructure_rc_non_engineered</th>\n",
       "      <th>has_superstructure_rc_engineered</th>\n",
       "      <th>has_superstructure_other</th>\n",
       "      <th>legal_ownership_status</th>\n",
       "      <th>count_families</th>\n",
       "      <th>has_secondary_use</th>\n",
       "      <th>has_secondary_use_agriculture</th>\n",
       "      <th>has_secondary_use_hotel</th>\n",
       "      <th>has_secondary_use_rental</th>\n",
       "      <th>has_secondary_use_institution</th>\n",
       "      <th>has_secondary_use_school</th>\n",
       "      <th>has_secondary_use_industry</th>\n",
       "      <th>has_secondary_use_health_post</th>\n",
       "      <th>has_secondary_use_gov_office</th>\n",
       "      <th>has_secondary_use_use_police</th>\n",
       "      <th>has_secondary_use_other</th>\n",
       "    </tr>\n",
       "  </thead>\n",
       "  <tbody>\n",
       "    <tr>\n",
       "      <th>0</th>\n",
       "      <td>19838</td>\n",
       "      <td>6</td>\n",
       "      <td>435</td>\n",
       "      <td>7525</td>\n",
       "      <td>1</td>\n",
       "      <td>6</td>\n",
       "      <td>5</td>\n",
       "      <td>3</td>\n",
       "      <td>2</td>\n",
       "      <td>2</td>\n",
       "      <td>0</td>\n",
       "      <td>0</td>\n",
       "      <td>1</td>\n",
       "      <td>3</td>\n",
       "      <td>2</td>\n",
       "      <td>1</td>\n",
       "      <td>1</td>\n",
       "      <td>0</td>\n",
       "      <td>0</td>\n",
       "      <td>0</td>\n",
       "      <td>0</td>\n",
       "      <td>0</td>\n",
       "      <td>0</td>\n",
       "      <td>0</td>\n",
       "      <td>0</td>\n",
       "      <td>0</td>\n",
       "      <td>2</td>\n",
       "      <td>1</td>\n",
       "      <td>0</td>\n",
       "      <td>0</td>\n",
       "      <td>0</td>\n",
       "      <td>0</td>\n",
       "      <td>0</td>\n",
       "      <td>0</td>\n",
       "      <td>0</td>\n",
       "      <td>0</td>\n",
       "      <td>0</td>\n",
       "      <td>0</td>\n",
       "      <td>0</td>\n",
       "    </tr>\n",
       "    <tr>\n",
       "      <th>1</th>\n",
       "      <td>678</td>\n",
       "      <td>8</td>\n",
       "      <td>802</td>\n",
       "      <td>1716</td>\n",
       "      <td>1</td>\n",
       "      <td>2</td>\n",
       "      <td>7</td>\n",
       "      <td>5</td>\n",
       "      <td>1</td>\n",
       "      <td>2</td>\n",
       "      <td>0</td>\n",
       "      <td>3</td>\n",
       "      <td>1</td>\n",
       "      <td>2</td>\n",
       "      <td>2</td>\n",
       "      <td>0</td>\n",
       "      <td>1</td>\n",
       "      <td>0</td>\n",
       "      <td>0</td>\n",
       "      <td>0</td>\n",
       "      <td>0</td>\n",
       "      <td>0</td>\n",
       "      <td>0</td>\n",
       "      <td>0</td>\n",
       "      <td>0</td>\n",
       "      <td>0</td>\n",
       "      <td>2</td>\n",
       "      <td>1</td>\n",
       "      <td>0</td>\n",
       "      <td>0</td>\n",
       "      <td>0</td>\n",
       "      <td>0</td>\n",
       "      <td>0</td>\n",
       "      <td>0</td>\n",
       "      <td>0</td>\n",
       "      <td>0</td>\n",
       "      <td>0</td>\n",
       "      <td>0</td>\n",
       "      <td>0</td>\n",
       "    </tr>\n",
       "    <tr>\n",
       "      <th>2</th>\n",
       "      <td>2319</td>\n",
       "      <td>21</td>\n",
       "      <td>322</td>\n",
       "      <td>5535</td>\n",
       "      <td>1</td>\n",
       "      <td>2</td>\n",
       "      <td>4</td>\n",
       "      <td>3</td>\n",
       "      <td>2</td>\n",
       "      <td>2</td>\n",
       "      <td>0</td>\n",
       "      <td>0</td>\n",
       "      <td>3</td>\n",
       "      <td>3</td>\n",
       "      <td>2</td>\n",
       "      <td>0</td>\n",
       "      <td>1</td>\n",
       "      <td>0</td>\n",
       "      <td>0</td>\n",
       "      <td>0</td>\n",
       "      <td>0</td>\n",
       "      <td>0</td>\n",
       "      <td>0</td>\n",
       "      <td>0</td>\n",
       "      <td>0</td>\n",
       "      <td>0</td>\n",
       "      <td>2</td>\n",
       "      <td>1</td>\n",
       "      <td>0</td>\n",
       "      <td>0</td>\n",
       "      <td>0</td>\n",
       "      <td>0</td>\n",
       "      <td>0</td>\n",
       "      <td>0</td>\n",
       "      <td>0</td>\n",
       "      <td>0</td>\n",
       "      <td>0</td>\n",
       "      <td>0</td>\n",
       "      <td>0</td>\n",
       "    </tr>\n",
       "    <tr>\n",
       "      <th>3</th>\n",
       "      <td>14549</td>\n",
       "      <td>22</td>\n",
       "      <td>370</td>\n",
       "      <td>6597</td>\n",
       "      <td>1</td>\n",
       "      <td>2</td>\n",
       "      <td>5</td>\n",
       "      <td>3</td>\n",
       "      <td>2</td>\n",
       "      <td>2</td>\n",
       "      <td>0</td>\n",
       "      <td>0</td>\n",
       "      <td>3</td>\n",
       "      <td>2</td>\n",
       "      <td>2</td>\n",
       "      <td>0</td>\n",
       "      <td>1</td>\n",
       "      <td>0</td>\n",
       "      <td>0</td>\n",
       "      <td>0</td>\n",
       "      <td>0</td>\n",
       "      <td>1</td>\n",
       "      <td>1</td>\n",
       "      <td>0</td>\n",
       "      <td>0</td>\n",
       "      <td>0</td>\n",
       "      <td>2</td>\n",
       "      <td>1</td>\n",
       "      <td>0</td>\n",
       "      <td>0</td>\n",
       "      <td>0</td>\n",
       "      <td>0</td>\n",
       "      <td>0</td>\n",
       "      <td>0</td>\n",
       "      <td>0</td>\n",
       "      <td>0</td>\n",
       "      <td>0</td>\n",
       "      <td>0</td>\n",
       "      <td>0</td>\n",
       "    </tr>\n",
       "    <tr>\n",
       "      <th>4</th>\n",
       "      <td>5001</td>\n",
       "      <td>11</td>\n",
       "      <td>115</td>\n",
       "      <td>928</td>\n",
       "      <td>2</td>\n",
       "      <td>6</td>\n",
       "      <td>7</td>\n",
       "      <td>7</td>\n",
       "      <td>2</td>\n",
       "      <td>2</td>\n",
       "      <td>0</td>\n",
       "      <td>0</td>\n",
       "      <td>3</td>\n",
       "      <td>2</td>\n",
       "      <td>2</td>\n",
       "      <td>1</td>\n",
       "      <td>0</td>\n",
       "      <td>0</td>\n",
       "      <td>0</td>\n",
       "      <td>0</td>\n",
       "      <td>0</td>\n",
       "      <td>0</td>\n",
       "      <td>0</td>\n",
       "      <td>0</td>\n",
       "      <td>0</td>\n",
       "      <td>0</td>\n",
       "      <td>2</td>\n",
       "      <td>1</td>\n",
       "      <td>0</td>\n",
       "      <td>0</td>\n",
       "      <td>0</td>\n",
       "      <td>0</td>\n",
       "      <td>0</td>\n",
       "      <td>0</td>\n",
       "      <td>0</td>\n",
       "      <td>0</td>\n",
       "      <td>0</td>\n",
       "      <td>0</td>\n",
       "      <td>0</td>\n",
       "    </tr>\n",
       "    <tr>\n",
       "      <th>...</th>\n",
       "      <td>...</td>\n",
       "      <td>...</td>\n",
       "      <td>...</td>\n",
       "      <td>...</td>\n",
       "      <td>...</td>\n",
       "      <td>...</td>\n",
       "      <td>...</td>\n",
       "      <td>...</td>\n",
       "      <td>...</td>\n",
       "      <td>...</td>\n",
       "      <td>...</td>\n",
       "      <td>...</td>\n",
       "      <td>...</td>\n",
       "      <td>...</td>\n",
       "      <td>...</td>\n",
       "      <td>...</td>\n",
       "      <td>...</td>\n",
       "      <td>...</td>\n",
       "      <td>...</td>\n",
       "      <td>...</td>\n",
       "      <td>...</td>\n",
       "      <td>...</td>\n",
       "      <td>...</td>\n",
       "      <td>...</td>\n",
       "      <td>...</td>\n",
       "      <td>...</td>\n",
       "      <td>...</td>\n",
       "      <td>...</td>\n",
       "      <td>...</td>\n",
       "      <td>...</td>\n",
       "      <td>...</td>\n",
       "      <td>...</td>\n",
       "      <td>...</td>\n",
       "      <td>...</td>\n",
       "      <td>...</td>\n",
       "      <td>...</td>\n",
       "      <td>...</td>\n",
       "      <td>...</td>\n",
       "      <td>...</td>\n",
       "    </tr>\n",
       "    <tr>\n",
       "      <th>26054</th>\n",
       "      <td>11229</td>\n",
       "      <td>20</td>\n",
       "      <td>169</td>\n",
       "      <td>1422</td>\n",
       "      <td>0</td>\n",
       "      <td>3</td>\n",
       "      <td>4</td>\n",
       "      <td>2</td>\n",
       "      <td>2</td>\n",
       "      <td>2</td>\n",
       "      <td>0</td>\n",
       "      <td>0</td>\n",
       "      <td>0</td>\n",
       "      <td>2</td>\n",
       "      <td>2</td>\n",
       "      <td>0</td>\n",
       "      <td>1</td>\n",
       "      <td>0</td>\n",
       "      <td>0</td>\n",
       "      <td>0</td>\n",
       "      <td>0</td>\n",
       "      <td>1</td>\n",
       "      <td>1</td>\n",
       "      <td>0</td>\n",
       "      <td>0</td>\n",
       "      <td>0</td>\n",
       "      <td>2</td>\n",
       "      <td>1</td>\n",
       "      <td>0</td>\n",
       "      <td>0</td>\n",
       "      <td>0</td>\n",
       "      <td>0</td>\n",
       "      <td>0</td>\n",
       "      <td>0</td>\n",
       "      <td>0</td>\n",
       "      <td>0</td>\n",
       "      <td>0</td>\n",
       "      <td>0</td>\n",
       "      <td>0</td>\n",
       "    </tr>\n",
       "    <tr>\n",
       "      <th>26055</th>\n",
       "      <td>347</td>\n",
       "      <td>20</td>\n",
       "      <td>1047</td>\n",
       "      <td>894</td>\n",
       "      <td>1</td>\n",
       "      <td>2</td>\n",
       "      <td>7</td>\n",
       "      <td>3</td>\n",
       "      <td>2</td>\n",
       "      <td>2</td>\n",
       "      <td>1</td>\n",
       "      <td>3</td>\n",
       "      <td>1</td>\n",
       "      <td>2</td>\n",
       "      <td>2</td>\n",
       "      <td>0</td>\n",
       "      <td>1</td>\n",
       "      <td>0</td>\n",
       "      <td>0</td>\n",
       "      <td>0</td>\n",
       "      <td>0</td>\n",
       "      <td>0</td>\n",
       "      <td>0</td>\n",
       "      <td>0</td>\n",
       "      <td>0</td>\n",
       "      <td>0</td>\n",
       "      <td>2</td>\n",
       "      <td>1</td>\n",
       "      <td>0</td>\n",
       "      <td>0</td>\n",
       "      <td>0</td>\n",
       "      <td>0</td>\n",
       "      <td>0</td>\n",
       "      <td>0</td>\n",
       "      <td>0</td>\n",
       "      <td>0</td>\n",
       "      <td>0</td>\n",
       "      <td>0</td>\n",
       "      <td>0</td>\n",
       "    </tr>\n",
       "    <tr>\n",
       "      <th>26056</th>\n",
       "      <td>5972</td>\n",
       "      <td>10</td>\n",
       "      <td>1268</td>\n",
       "      <td>7344</td>\n",
       "      <td>2</td>\n",
       "      <td>13</td>\n",
       "      <td>5</td>\n",
       "      <td>5</td>\n",
       "      <td>2</td>\n",
       "      <td>2</td>\n",
       "      <td>0</td>\n",
       "      <td>0</td>\n",
       "      <td>1</td>\n",
       "      <td>2</td>\n",
       "      <td>2</td>\n",
       "      <td>1</td>\n",
       "      <td>1</td>\n",
       "      <td>1</td>\n",
       "      <td>0</td>\n",
       "      <td>0</td>\n",
       "      <td>0</td>\n",
       "      <td>0</td>\n",
       "      <td>0</td>\n",
       "      <td>0</td>\n",
       "      <td>0</td>\n",
       "      <td>0</td>\n",
       "      <td>2</td>\n",
       "      <td>1</td>\n",
       "      <td>0</td>\n",
       "      <td>0</td>\n",
       "      <td>0</td>\n",
       "      <td>0</td>\n",
       "      <td>0</td>\n",
       "      <td>0</td>\n",
       "      <td>0</td>\n",
       "      <td>0</td>\n",
       "      <td>0</td>\n",
       "      <td>0</td>\n",
       "      <td>0</td>\n",
       "    </tr>\n",
       "    <tr>\n",
       "      <th>26057</th>\n",
       "      <td>24218</td>\n",
       "      <td>17</td>\n",
       "      <td>208</td>\n",
       "      <td>6169</td>\n",
       "      <td>2</td>\n",
       "      <td>5</td>\n",
       "      <td>7</td>\n",
       "      <td>5</td>\n",
       "      <td>2</td>\n",
       "      <td>2</td>\n",
       "      <td>1</td>\n",
       "      <td>0</td>\n",
       "      <td>1</td>\n",
       "      <td>3</td>\n",
       "      <td>2</td>\n",
       "      <td>0</td>\n",
       "      <td>1</td>\n",
       "      <td>0</td>\n",
       "      <td>0</td>\n",
       "      <td>0</td>\n",
       "      <td>0</td>\n",
       "      <td>0</td>\n",
       "      <td>0</td>\n",
       "      <td>0</td>\n",
       "      <td>0</td>\n",
       "      <td>0</td>\n",
       "      <td>2</td>\n",
       "      <td>1</td>\n",
       "      <td>0</td>\n",
       "      <td>0</td>\n",
       "      <td>0</td>\n",
       "      <td>0</td>\n",
       "      <td>0</td>\n",
       "      <td>0</td>\n",
       "      <td>0</td>\n",
       "      <td>0</td>\n",
       "      <td>0</td>\n",
       "      <td>0</td>\n",
       "      <td>0</td>\n",
       "    </tr>\n",
       "    <tr>\n",
       "      <th>26058</th>\n",
       "      <td>22448</td>\n",
       "      <td>21</td>\n",
       "      <td>41</td>\n",
       "      <td>3624</td>\n",
       "      <td>1</td>\n",
       "      <td>2</td>\n",
       "      <td>7</td>\n",
       "      <td>3</td>\n",
       "      <td>2</td>\n",
       "      <td>2</td>\n",
       "      <td>0</td>\n",
       "      <td>0</td>\n",
       "      <td>1</td>\n",
       "      <td>3</td>\n",
       "      <td>2</td>\n",
       "      <td>0</td>\n",
       "      <td>1</td>\n",
       "      <td>0</td>\n",
       "      <td>0</td>\n",
       "      <td>0</td>\n",
       "      <td>0</td>\n",
       "      <td>0</td>\n",
       "      <td>0</td>\n",
       "      <td>0</td>\n",
       "      <td>0</td>\n",
       "      <td>0</td>\n",
       "      <td>2</td>\n",
       "      <td>1</td>\n",
       "      <td>0</td>\n",
       "      <td>0</td>\n",
       "      <td>0</td>\n",
       "      <td>0</td>\n",
       "      <td>0</td>\n",
       "      <td>0</td>\n",
       "      <td>0</td>\n",
       "      <td>0</td>\n",
       "      <td>0</td>\n",
       "      <td>0</td>\n",
       "      <td>0</td>\n",
       "    </tr>\n",
       "  </tbody>\n",
       "</table>\n",
       "<p>26059 rows × 39 columns</p>\n",
       "</div>"
      ],
      "text/plain": [
       "       building_id  geo_level_1_id  geo_level_2_id  geo_level_3_id  count_floors_pre_eq  age  area_percentage  height_percentage  land_surface_condition  foundation_type  roof_type  ground_floor_type  other_floor_type  position  plan_configuration  has_superstructure_adobe_mud  has_superstructure_mud_mortar_stone  has_superstructure_stone_flag  has_superstructure_cement_mortar_stone  has_superstructure_mud_mortar_brick  has_superstructure_cement_mortar_brick  has_superstructure_timber  has_superstructure_bamboo  has_superstructure_rc_non_engineered  has_superstructure_rc_engineered  has_superstructure_other  legal_ownership_status  count_families  has_secondary_use  has_secondary_use_agriculture  has_secondary_use_hotel  has_secondary_use_rental  has_secondary_use_institution  has_secondary_use_school  has_secondary_use_industry  has_secondary_use_health_post  has_secondary_use_gov_office  has_secondary_use_use_police  has_secondary_use_other\n",
       "0            19838               6             435            7525                    1    6                5                  3                       2                2          0                  0                 1         3                   2                             1                                    1                              0                                       0                                    0                                       0                          0                          0                                     0                                 0                         0                       2               1                  0                              0                        0                         0                              0                         0                           0                              0                             0                             0                        0\n",
       "1              678               8             802            1716                    1    2                7                  5                       1                2          0                  3                 1         2                   2                             0                                    1                              0                                       0                                    0                                       0                          0                          0                                     0                                 0                         0                       2               1                  0                              0                        0                         0                              0                         0                           0                              0                             0                             0                        0\n",
       "2             2319              21             322            5535                    1    2                4                  3                       2                2          0                  0                 3         3                   2                             0                                    1                              0                                       0                                    0                                       0                          0                          0                                     0                                 0                         0                       2               1                  0                              0                        0                         0                              0                         0                           0                              0                             0                             0                        0\n",
       "3            14549              22             370            6597                    1    2                5                  3                       2                2          0                  0                 3         2                   2                             0                                    1                              0                                       0                                    0                                       0                          1                          1                                     0                                 0                         0                       2               1                  0                              0                        0                         0                              0                         0                           0                              0                             0                             0                        0\n",
       "4             5001              11             115             928                    2    6                7                  7                       2                2          0                  0                 3         2                   2                             1                                    0                              0                                       0                                    0                                       0                          0                          0                                     0                                 0                         0                       2               1                  0                              0                        0                         0                              0                         0                           0                              0                             0                             0                        0\n",
       "...            ...             ...             ...             ...                  ...  ...              ...                ...                     ...              ...        ...                ...               ...       ...                 ...                           ...                                  ...                            ...                                     ...                                  ...                                     ...                        ...                        ...                                   ...                               ...                       ...                     ...             ...                ...                            ...                      ...                       ...                            ...                       ...                         ...                            ...                           ...                           ...                      ...\n",
       "26054        11229              20             169            1422                    0    3                4                  2                       2                2          0                  0                 0         2                   2                             0                                    1                              0                                       0                                    0                                       0                          1                          1                                     0                                 0                         0                       2               1                  0                              0                        0                         0                              0                         0                           0                              0                             0                             0                        0\n",
       "26055          347              20            1047             894                    1    2                7                  3                       2                2          1                  3                 1         2                   2                             0                                    1                              0                                       0                                    0                                       0                          0                          0                                     0                                 0                         0                       2               1                  0                              0                        0                         0                              0                         0                           0                              0                             0                             0                        0\n",
       "26056         5972              10            1268            7344                    2   13                5                  5                       2                2          0                  0                 1         2                   2                             1                                    1                              1                                       0                                    0                                       0                          0                          0                                     0                                 0                         0                       2               1                  0                              0                        0                         0                              0                         0                           0                              0                             0                             0                        0\n",
       "26057        24218              17             208            6169                    2    5                7                  5                       2                2          1                  0                 1         3                   2                             0                                    1                              0                                       0                                    0                                       0                          0                          0                                     0                                 0                         0                       2               1                  0                              0                        0                         0                              0                         0                           0                              0                             0                             0                        0\n",
       "26058        22448              21              41            3624                    1    2                7                  3                       2                2          0                  0                 1         3                   2                             0                                    1                              0                                       0                                    0                                       0                          0                          0                                     0                                 0                         0                       2               1                  0                              0                        0                         0                              0                         0                           0                              0                             0                             0                        0\n",
       "\n",
       "[26059 rows x 39 columns]"
      ]
     },
     "execution_count": 7,
     "metadata": {},
     "output_type": "execute_result"
    }
   ],
   "source": [
    "# Encode variables \n",
    "le = LabelEncoder()\n",
    "train_enc = train.apply(le.fit_transform)\n",
    "train_enc"
   ]
  },
  {
   "cell_type": "code",
   "execution_count": 8,
   "id": "85ca55a3",
   "metadata": {},
   "outputs": [],
   "source": [
    "# Merge independent, dependent variable datasets\n",
    "train_merge = pd.concat([train_enc,trainlabel], axis=1)"
   ]
  },
  {
   "cell_type": "code",
   "execution_count": 39,
   "id": "84127f0a",
   "metadata": {},
   "outputs": [],
   "source": [
    "# set X and y\n",
    "X = train_merge.drop(['damage_grade'], axis=1)\n",
    "y = train_merge['damage_grade']"
   ]
  },
  {
   "cell_type": "code",
   "execution_count": 40,
   "id": "46d0cd06",
   "metadata": {},
   "outputs": [],
   "source": [
    "# Train/test/split\n",
    "X_train, X_test, y_train, y_test = train_test_split(X,y,stratify=y, random_state=123)"
   ]
  },
  {
   "cell_type": "markdown",
   "id": "716f73a1",
   "metadata": {},
   "source": [
    "# MODELING"
   ]
  },
  {
   "cell_type": "markdown",
   "id": "4fb789d2",
   "metadata": {},
   "source": [
    "### LOGISTIC REGRESSION CLASSIFIER"
   ]
  },
  {
   "cell_type": "code",
   "execution_count": 11,
   "id": "d8be3a12",
   "metadata": {},
   "outputs": [],
   "source": [
    "#LogisticRegression\n",
    "pipe_lgr = make_pipeline(StandardScaler(), LogisticRegression(max_iter = 1000))\n",
    "params = {'logisticregression__C' : [0.1, 0.75, 1, 10],\n",
    "          'logisticregression__solver' : ['newton-cg', 'lbfgs', 'liblinear'],\n",
    "         'logisticregression__random_state' : [123]}"
   ]
  },
  {
   "cell_type": "code",
   "execution_count": 12,
   "id": "af2b3b69",
   "metadata": {
    "collapsed": true
   },
   "outputs": [
    {
     "name": "stderr",
     "output_type": "stream",
     "text": [
      "C:\\Users\\cjmartin\\AppData\\Roaming\\Python\\Python38\\site-packages\\sklearn\\linear_model\\_logistic.py:1355: UserWarning: 'n_jobs' > 1 does not have any effect when 'solver' is set to 'liblinear'. Got 'n_jobs' = 4.\n",
      "  warnings.warn(\"'n_jobs' > 1 does not have any effect when\"\n",
      "C:\\Users\\cjmartin\\AppData\\Roaming\\Python\\Python38\\site-packages\\sklearn\\linear_model\\_logistic.py:1355: UserWarning: 'n_jobs' > 1 does not have any effect when 'solver' is set to 'liblinear'. Got 'n_jobs' = 4.\n",
      "  warnings.warn(\"'n_jobs' > 1 does not have any effect when\"\n",
      "C:\\Users\\cjmartin\\AppData\\Roaming\\Python\\Python38\\site-packages\\sklearn\\linear_model\\_logistic.py:1355: UserWarning: 'n_jobs' > 1 does not have any effect when 'solver' is set to 'liblinear'. Got 'n_jobs' = 4.\n",
      "  warnings.warn(\"'n_jobs' > 1 does not have any effect when\"\n",
      "C:\\Users\\cjmartin\\AppData\\Roaming\\Python\\Python38\\site-packages\\sklearn\\linear_model\\_logistic.py:1355: UserWarning: 'n_jobs' > 1 does not have any effect when 'solver' is set to 'liblinear'. Got 'n_jobs' = 4.\n",
      "  warnings.warn(\"'n_jobs' > 1 does not have any effect when\"\n",
      "C:\\Users\\cjmartin\\AppData\\Roaming\\Python\\Python38\\site-packages\\sklearn\\linear_model\\_logistic.py:1355: UserWarning: 'n_jobs' > 1 does not have any effect when 'solver' is set to 'liblinear'. Got 'n_jobs' = 4.\n",
      "  warnings.warn(\"'n_jobs' > 1 does not have any effect when\"\n",
      "C:\\Users\\cjmartin\\AppData\\Roaming\\Python\\Python38\\site-packages\\sklearn\\linear_model\\_logistic.py:1355: UserWarning: 'n_jobs' > 1 does not have any effect when 'solver' is set to 'liblinear'. Got 'n_jobs' = 4.\n",
      "  warnings.warn(\"'n_jobs' > 1 does not have any effect when\"\n",
      "C:\\Users\\cjmartin\\AppData\\Roaming\\Python\\Python38\\site-packages\\sklearn\\linear_model\\_logistic.py:1355: UserWarning: 'n_jobs' > 1 does not have any effect when 'solver' is set to 'liblinear'. Got 'n_jobs' = 4.\n",
      "  warnings.warn(\"'n_jobs' > 1 does not have any effect when\"\n",
      "C:\\Users\\cjmartin\\AppData\\Roaming\\Python\\Python38\\site-packages\\sklearn\\linear_model\\_logistic.py:1355: UserWarning: 'n_jobs' > 1 does not have any effect when 'solver' is set to 'liblinear'. Got 'n_jobs' = 4.\n",
      "  warnings.warn(\"'n_jobs' > 1 does not have any effect when\"\n",
      "C:\\Users\\cjmartin\\AppData\\Roaming\\Python\\Python38\\site-packages\\sklearn\\linear_model\\_logistic.py:1355: UserWarning: 'n_jobs' > 1 does not have any effect when 'solver' is set to 'liblinear'. Got 'n_jobs' = 4.\n",
      "  warnings.warn(\"'n_jobs' > 1 does not have any effect when\"\n",
      "C:\\Users\\cjmartin\\AppData\\Roaming\\Python\\Python38\\site-packages\\sklearn\\linear_model\\_logistic.py:1355: UserWarning: 'n_jobs' > 1 does not have any effect when 'solver' is set to 'liblinear'. Got 'n_jobs' = 4.\n",
      "  warnings.warn(\"'n_jobs' > 1 does not have any effect when\"\n",
      "C:\\Users\\cjmartin\\AppData\\Roaming\\Python\\Python38\\site-packages\\sklearn\\linear_model\\_logistic.py:1355: UserWarning: 'n_jobs' > 1 does not have any effect when 'solver' is set to 'liblinear'. Got 'n_jobs' = 4.\n",
      "  warnings.warn(\"'n_jobs' > 1 does not have any effect when\"\n",
      "C:\\Users\\cjmartin\\AppData\\Roaming\\Python\\Python38\\site-packages\\sklearn\\linear_model\\_logistic.py:1355: UserWarning: 'n_jobs' > 1 does not have any effect when 'solver' is set to 'liblinear'. Got 'n_jobs' = 4.\n",
      "  warnings.warn(\"'n_jobs' > 1 does not have any effect when\"\n",
      "C:\\Users\\cjmartin\\AppData\\Roaming\\Python\\Python38\\site-packages\\sklearn\\linear_model\\_logistic.py:1355: UserWarning: 'n_jobs' > 1 does not have any effect when 'solver' is set to 'liblinear'. Got 'n_jobs' = 4.\n",
      "  warnings.warn(\"'n_jobs' > 1 does not have any effect when\"\n",
      "C:\\Users\\cjmartin\\AppData\\Roaming\\Python\\Python38\\site-packages\\sklearn\\linear_model\\_logistic.py:1355: UserWarning: 'n_jobs' > 1 does not have any effect when 'solver' is set to 'liblinear'. Got 'n_jobs' = 4.\n",
      "  warnings.warn(\"'n_jobs' > 1 does not have any effect when\"\n",
      "C:\\Users\\cjmartin\\AppData\\Roaming\\Python\\Python38\\site-packages\\sklearn\\linear_model\\_logistic.py:1355: UserWarning: 'n_jobs' > 1 does not have any effect when 'solver' is set to 'liblinear'. Got 'n_jobs' = 4.\n",
      "  warnings.warn(\"'n_jobs' > 1 does not have any effect when\"\n",
      "C:\\Users\\cjmartin\\AppData\\Roaming\\Python\\Python38\\site-packages\\sklearn\\linear_model\\_logistic.py:1355: UserWarning: 'n_jobs' > 1 does not have any effect when 'solver' is set to 'liblinear'. Got 'n_jobs' = 4.\n",
      "  warnings.warn(\"'n_jobs' > 1 does not have any effect when\"\n",
      "C:\\Users\\cjmartin\\AppData\\Roaming\\Python\\Python38\\site-packages\\sklearn\\linear_model\\_logistic.py:1355: UserWarning: 'n_jobs' > 1 does not have any effect when 'solver' is set to 'liblinear'. Got 'n_jobs' = 4.\n",
      "  warnings.warn(\"'n_jobs' > 1 does not have any effect when\"\n",
      "C:\\Users\\cjmartin\\AppData\\Roaming\\Python\\Python38\\site-packages\\sklearn\\linear_model\\_logistic.py:1355: UserWarning: 'n_jobs' > 1 does not have any effect when 'solver' is set to 'liblinear'. Got 'n_jobs' = 4.\n",
      "  warnings.warn(\"'n_jobs' > 1 does not have any effect when\"\n",
      "C:\\Users\\cjmartin\\AppData\\Roaming\\Python\\Python38\\site-packages\\sklearn\\linear_model\\_logistic.py:1355: UserWarning: 'n_jobs' > 1 does not have any effect when 'solver' is set to 'liblinear'. Got 'n_jobs' = 4.\n",
      "  warnings.warn(\"'n_jobs' > 1 does not have any effect when\"\n",
      "C:\\Users\\cjmartin\\AppData\\Roaming\\Python\\Python38\\site-packages\\sklearn\\linear_model\\_logistic.py:1355: UserWarning: 'n_jobs' > 1 does not have any effect when 'solver' is set to 'liblinear'. Got 'n_jobs' = 4.\n",
      "  warnings.warn(\"'n_jobs' > 1 does not have any effect when\"\n"
     ]
    },
    {
     "data": {
      "text/plain": [
       "GridSearchCV(estimator=Pipeline(steps=[('standardscaler', StandardScaler()),\n",
       "                                       ('logisticregression',\n",
       "                                        LogisticRegression(max_iter=1000,\n",
       "                                                           n_jobs=-1))]),\n",
       "             param_grid={'logisticregression__C': [0.1, 0.75, 1, 10],\n",
       "                         'logisticregression__random_state': [123],\n",
       "                         'logisticregression__solver': ['newton-cg', 'lbfgs',\n",
       "                                                        'liblinear']})"
      ]
     },
     "execution_count": 12,
     "metadata": {},
     "output_type": "execute_result"
    }
   ],
   "source": [
    "grid_lgr = GridSearchCV(pipe_lgr, param_grid = params)\n",
    "grid_lgr.fit(X_train, y_train)"
   ]
  },
  {
   "cell_type": "code",
   "execution_count": 13,
   "id": "f35748ac",
   "metadata": {},
   "outputs": [
    {
     "name": "stdout",
     "output_type": "stream",
     "text": [
      "Train Score: 0.5849877200163733\n",
      "Test Score: 0.5823484267075979\n"
     ]
    }
   ],
   "source": [
    "print(f'Train Score: {grid_lgr.score(X_train, y_train)}')\n",
    "print(f'Test Score: {grid_lgr.score(X_test, y_test)}')"
   ]
  },
  {
   "cell_type": "code",
   "execution_count": 14,
   "id": "7d5a3241",
   "metadata": {},
   "outputs": [
    {
     "data": {
      "text/plain": [
       "{'logisticregression__C': 10,\n",
       " 'logisticregression__random_state': 123,\n",
       " 'logisticregression__solver': 'newton-cg'}"
      ]
     },
     "execution_count": 14,
     "metadata": {},
     "output_type": "execute_result"
    }
   ],
   "source": [
    "grid_lgr.best_params_"
   ]
  },
  {
   "cell_type": "markdown",
   "id": "28ed0dd7",
   "metadata": {},
   "source": [
    "#### Best Logistic Regression model hyperparameters:¶\n",
    "    C = 10\n",
    "    solver = 'newton-cg'\n",
    "    Accuracy = 58.2%"
   ]
  },
  {
   "cell_type": "markdown",
   "id": "d287ad9c",
   "metadata": {},
   "source": [
    "####  Logistic Regression models tested:\n",
    "    With C = .01, penalty = 'l2', and solver = 'lbfgs' : 55.91%\n",
    "    With C = .1, penalty = 'l2', and solver = 'lbfgs' : 56.33%\n",
    "    With C = 1, penalty = 'l2', and solver = 'lbfgs' : 56.04%\n",
    "    With C = 10, penalty = 'l2', and solver = 'lbfgs' : 56.11%\n",
    "    With C = 100, penalty = 'l2', and solver = 'lbfgs' : 56.06%"
   ]
  },
  {
   "cell_type": "markdown",
   "id": "6d292ffa",
   "metadata": {},
   "source": [
    "### K_NEAREST NEIGHBORS CLASSIFIER"
   ]
  },
  {
   "cell_type": "code",
   "execution_count": 20,
   "id": "1062ea3f",
   "metadata": {},
   "outputs": [],
   "source": [
    "pipe_knn = make_pipeline(StandardScaler(), KNeighborsClassifier())\n",
    "# n_neighbors must be odd to avoid an even split\n",
    "#Note: tried leaf size and p, but it didn’t give us any value\n",
    "params = {'kneighborsclassifier__n_neighbors' : [5, 7, 9, 11]}"
   ]
  },
  {
   "cell_type": "code",
   "execution_count": 21,
   "id": "46ce1260",
   "metadata": {},
   "outputs": [
    {
     "data": {
      "text/plain": [
       "GridSearchCV(estimator=Pipeline(steps=[('standardscaler', StandardScaler()),\n",
       "                                       ('kneighborsclassifier',\n",
       "                                        KNeighborsClassifier())]),\n",
       "             param_grid={'kneighborsclassifier__n_neighbors': [5, 7, 9, 11]})"
      ]
     },
     "execution_count": 21,
     "metadata": {},
     "output_type": "execute_result"
    }
   ],
   "source": [
    "grid_knn = GridSearchCV(pipe_knn, param_grid = params)\n",
    "grid_knn.fit(X_train, y_train)"
   ]
  },
  {
   "cell_type": "code",
   "execution_count": 24,
   "id": "7cb29ee9",
   "metadata": {},
   "outputs": [
    {
     "name": "stdout",
     "output_type": "stream",
     "text": [
      "Train Score: 0.6664449447400737\n",
      "Test Score: 0.5854182655410591\n"
     ]
    }
   ],
   "source": [
    "print(f'Train Score: {grid_knn.score(X_train, y_train)}')\n",
    "print(f'Test Score: {grid_knn.score(X_test, y_test)}')"
   ]
  },
  {
   "cell_type": "code",
   "execution_count": 25,
   "id": "5dde7c9a",
   "metadata": {},
   "outputs": [
    {
     "data": {
      "text/plain": [
       "{'kneighborsclassifier__n_neighbors': 11}"
      ]
     },
     "execution_count": 25,
     "metadata": {},
     "output_type": "execute_result"
    }
   ],
   "source": [
    "grid_knn.best_params_"
   ]
  },
  {
   "cell_type": "markdown",
   "id": "299b8290",
   "metadata": {},
   "source": [
    "#### Best K-Nearest Neighbors model hyperparameters:¶\n",
    "    n_neighbors = 11\n",
    "    Accuracy = 58.54%"
   ]
  },
  {
   "cell_type": "markdown",
   "id": "265c398a",
   "metadata": {},
   "source": [
    "####  K-Nearest Neighbors models tested:\n",
    "    With default parameters: 57.11%\n",
    "    With n_neighbors = 9: 57.53%"
   ]
  },
  {
   "cell_type": "markdown",
   "id": "f09d69ee",
   "metadata": {},
   "source": [
    "### NEURAL NETWORKS"
   ]
  },
  {
   "cell_type": "code",
   "execution_count": 26,
   "id": "35d85540",
   "metadata": {},
   "outputs": [],
   "source": [
    "y_train = to_categorical(y_train)\n",
    "y_test = to_categorical(y_test)\n",
    "early = EarlyStopping(patience=5)"
   ]
  },
  {
   "cell_type": "code",
   "execution_count": 27,
   "id": "2728b2f9",
   "metadata": {},
   "outputs": [],
   "source": [
    "# 3 Dense layers with dropout and regularization\n",
    "model2 = Sequential()\n",
    "model2.add(Dense(12, activation='relu', kernel_regularizer=l2(.1)))\n",
    "model2.add(Dropout(.3))\n",
    "model2.add(Dense(80, activation='relu', kernel_regularizer=l2(.1)))\n",
    "model2.add(Dropout(.3))\n",
    "model2.add(Dense(30, activation='relu'))\n",
    "model2.add(Dense(4, activation='softmax'))\n",
    "          \n",
    "model2.compile(loss='categorical_crossentropy', metrics=['acc'], optimizer='adam')\n"
   ]
  },
  {
   "cell_type": "code",
   "execution_count": 28,
   "id": "73418aa1",
   "metadata": {},
   "outputs": [
    {
     "name": "stdout",
     "output_type": "stream",
     "text": [
      "Epoch 1/50\n",
      "611/611 [==============================] - 33s 2ms/step - loss: 3041.3847 - acc: 0.4677 - val_loss: 26.3965 - val_acc: 0.5619\n",
      "Epoch 2/50\n",
      "611/611 [==============================] - 1s 1ms/step - loss: 17.4420 - acc: 0.5341 - val_loss: 1.4507 - val_acc: 0.5650\n",
      "Epoch 3/50\n",
      "611/611 [==============================] - 1s 1ms/step - loss: 1.4249 - acc: 0.5638 - val_loss: 1.3286 - val_acc: 0.5659\n",
      "Epoch 4/50\n",
      "611/611 [==============================] - 1s 1ms/step - loss: 1.3164 - acc: 0.5674 - val_loss: 1.2507 - val_acc: 0.5665\n",
      "Epoch 5/50\n",
      "611/611 [==============================] - 1s 1ms/step - loss: 1.2450 - acc: 0.5690 - val_loss: 1.2052 - val_acc: 0.5665\n",
      "Epoch 6/50\n",
      "611/611 [==============================] - 1s 1ms/step - loss: 1.2049 - acc: 0.5644 - val_loss: 1.1730 - val_acc: 0.5673\n",
      "Epoch 7/50\n",
      "611/611 [==============================] - 1s 1ms/step - loss: 1.1730 - acc: 0.5674 - val_loss: 1.1522 - val_acc: 0.5667\n",
      "Epoch 8/50\n",
      "611/611 [==============================] - 1s 1ms/step - loss: 1.1547 - acc: 0.5632 - val_loss: 1.1366 - val_acc: 0.5672\n",
      "Epoch 9/50\n",
      "611/611 [==============================] - 1s 1ms/step - loss: 1.1355 - acc: 0.5685 - val_loss: 1.1235 - val_acc: 0.5667\n",
      "Epoch 10/50\n",
      "611/611 [==============================] - 1s 1ms/step - loss: 1.1258 - acc: 0.5631 - val_loss: 1.1090 - val_acc: 0.5670\n",
      "Epoch 11/50\n",
      "611/611 [==============================] - 1s 1ms/step - loss: 1.1078 - acc: 0.5685 - val_loss: 1.0950 - val_acc: 0.5675\n",
      "Epoch 12/50\n",
      "611/611 [==============================] - 1s 1ms/step - loss: 1.0957 - acc: 0.5659 - val_loss: 1.0790 - val_acc: 0.5673\n",
      "Epoch 13/50\n",
      "611/611 [==============================] - 1s 1ms/step - loss: 1.0710 - acc: 0.5676 - val_loss: 1.0621 - val_acc: 0.5675\n",
      "Epoch 14/50\n",
      "611/611 [==============================] - 1s 1ms/step - loss: 1.0608 - acc: 0.5665 - val_loss: 1.0432 - val_acc: 0.5675\n",
      "Epoch 15/50\n",
      "611/611 [==============================] - 1s 1ms/step - loss: 1.0443 - acc: 0.5659 - val_loss: 1.0285 - val_acc: 0.5675\n",
      "Epoch 16/50\n",
      "611/611 [==============================] - 1s 1ms/step - loss: 1.0272 - acc: 0.5648 - val_loss: 1.0095 - val_acc: 0.5675\n",
      "Epoch 17/50\n",
      "611/611 [==============================] - 1s 1ms/step - loss: 1.0024 - acc: 0.5691 - val_loss: 0.9948 - val_acc: 0.5675\n",
      "Epoch 18/50\n",
      "611/611 [==============================] - 1s 1ms/step - loss: 0.9956 - acc: 0.5663 - val_loss: 0.9808 - val_acc: 0.5675\n",
      "Epoch 19/50\n",
      "611/611 [==============================] - 1s 1ms/step - loss: 0.9713 - acc: 0.5689 - val_loss: 0.9709 - val_acc: 0.5675\n",
      "Epoch 20/50\n",
      "611/611 [==============================] - 1s 1ms/step - loss: 0.9625 - acc: 0.5727 - val_loss: 0.9628 - val_acc: 0.5675\n",
      "Epoch 21/50\n",
      "611/611 [==============================] - 1s 1ms/step - loss: 0.9649 - acc: 0.5667 - val_loss: 0.9571 - val_acc: 0.5675\n",
      "Epoch 22/50\n",
      "611/611 [==============================] - 1s 1ms/step - loss: 0.9514 - acc: 0.5691 - val_loss: 0.9504 - val_acc: 0.5675\n",
      "Epoch 23/50\n",
      "611/611 [==============================] - 1s 1ms/step - loss: 0.9536 - acc: 0.5651 - val_loss: 0.9445 - val_acc: 0.5675\n",
      "Epoch 24/50\n",
      "611/611 [==============================] - 1s 1ms/step - loss: 0.9448 - acc: 0.5688 - val_loss: 0.9380 - val_acc: 0.5675\n",
      "Epoch 25/50\n",
      "611/611 [==============================] - 1s 1ms/step - loss: 0.9383 - acc: 0.5667 - val_loss: 0.9318 - val_acc: 0.5675\n",
      "Epoch 26/50\n",
      "611/611 [==============================] - 1s 1ms/step - loss: 0.9318 - acc: 0.5639 - val_loss: 0.9259 - val_acc: 0.5675\n",
      "Epoch 27/50\n",
      "611/611 [==============================] - 1s 1ms/step - loss: 0.9216 - acc: 0.5687 - val_loss: 0.9220 - val_acc: 0.5675\n",
      "Epoch 28/50\n",
      "611/611 [==============================] - 1s 1ms/step - loss: 0.9147 - acc: 0.5732 - val_loss: 0.9174 - val_acc: 0.5675\n",
      "Epoch 29/50\n",
      "611/611 [==============================] - 1s 1ms/step - loss: 0.9157 - acc: 0.5661 - val_loss: 0.9151 - val_acc: 0.5675\n",
      "Epoch 30/50\n",
      "611/611 [==============================] - 1s 1ms/step - loss: 0.9150 - acc: 0.5689 - val_loss: 0.9142 - val_acc: 0.5675\n",
      "Epoch 31/50\n",
      "611/611 [==============================] - 1s 1ms/step - loss: 0.9139 - acc: 0.5703 - val_loss: 0.9137 - val_acc: 0.5675\n",
      "Epoch 32/50\n",
      "611/611 [==============================] - 1s 1ms/step - loss: 0.9137 - acc: 0.5678 - val_loss: 0.9167 - val_acc: 0.5675\n",
      "Epoch 33/50\n",
      "611/611 [==============================] - 1s 1ms/step - loss: 0.9140 - acc: 0.5651 - val_loss: 0.9141 - val_acc: 0.5675\n",
      "Epoch 34/50\n",
      "611/611 [==============================] - 1s 1ms/step - loss: 0.9030 - acc: 0.5756 - val_loss: 0.9137 - val_acc: 0.5675\n",
      "Epoch 35/50\n",
      "611/611 [==============================] - 1s 1ms/step - loss: 0.9130 - acc: 0.5673 - val_loss: 0.9144 - val_acc: 0.5675\n",
      "Epoch 36/50\n",
      "611/611 [==============================] - 1s 1ms/step - loss: 0.9228 - acc: 0.5626 - val_loss: 0.9136 - val_acc: 0.5675\n",
      "Epoch 37/50\n",
      "611/611 [==============================] - 1s 1ms/step - loss: 0.9144 - acc: 0.5669 - val_loss: 0.9137 - val_acc: 0.5675\n",
      "Epoch 38/50\n",
      "611/611 [==============================] - 1s 1ms/step - loss: 0.9193 - acc: 0.5654 - val_loss: 0.9146 - val_acc: 0.5675\n",
      "Epoch 39/50\n",
      "611/611 [==============================] - 1s 1ms/step - loss: 0.9196 - acc: 0.5636 - val_loss: 0.9139 - val_acc: 0.5675\n",
      "Epoch 40/50\n",
      "611/611 [==============================] - 1s 1ms/step - loss: 0.9125 - acc: 0.5677 - val_loss: 0.9135 - val_acc: 0.5675\n",
      "Epoch 41/50\n",
      "611/611 [==============================] - 1s 1ms/step - loss: 0.9157 - acc: 0.5673 - val_loss: 0.9138 - val_acc: 0.5675\n",
      "Epoch 42/50\n",
      "611/611 [==============================] - 1s 1ms/step - loss: 0.9199 - acc: 0.5621 - val_loss: 0.9146 - val_acc: 0.5675\n",
      "Epoch 43/50\n",
      "611/611 [==============================] - 1s 1ms/step - loss: 0.9168 - acc: 0.5669 - val_loss: 0.9142 - val_acc: 0.5675\n",
      "Epoch 44/50\n",
      "611/611 [==============================] - 1s 1ms/step - loss: 0.9186 - acc: 0.5618 - val_loss: 0.9137 - val_acc: 0.5675\n",
      "Epoch 45/50\n",
      "611/611 [==============================] - 1s 1ms/step - loss: 0.9156 - acc: 0.5642 - val_loss: 0.9136 - val_acc: 0.5675\n"
     ]
    }
   ],
   "source": [
    "history2=model2.fit(X_train, y_train,\n",
    "                 validation_data=(X_test,y_test),\n",
    "                 epochs=50, callbacks=[early])\n",
    "# :56.75"
   ]
  },
  {
   "cell_type": "markdown",
   "id": "7b9f54d7",
   "metadata": {},
   "source": [
    "#### Best Neural Network model hyperparameters:¶\n",
    "    Dense layers = 3, with nodes of 12, 80, and 30\n",
    "    Dropout layers = 2, both with a value of 0.3\n",
    "    Epochs = 50\n",
    "    Early Stopping: yes, at 45 epochs\n",
    "    Accuracy: 56.75%"
   ]
  },
  {
   "cell_type": "markdown",
   "id": "c5e3b0ee",
   "metadata": {},
   "source": [
    "#### Neural Network models tested (all with 50 epochs):\n",
    "    With 2 Dense Layers of 12 and 40 nodes: 42.39%\n",
    "    With 2 Dense Layers of 80 and 40 nodes, l2 regularization of 0.1: 58.73%"
   ]
  },
  {
   "cell_type": "markdown",
   "id": "3516fe45",
   "metadata": {},
   "source": [
    "### DECISION TREE CLASSIFIER"
   ]
  },
  {
   "cell_type": "code",
   "execution_count": 43,
   "id": "e18d51a1",
   "metadata": {},
   "outputs": [],
   "source": [
    "# set X and y\n",
    "X = train_merge.drop(['damage_grade'], axis=1)\n",
    "y = train_merge['damage_grade']"
   ]
  },
  {
   "cell_type": "code",
   "execution_count": 44,
   "id": "03001d19",
   "metadata": {},
   "outputs": [],
   "source": [
    "# Train/test/split\n",
    "X_train, X_test, y_train, y_test = train_test_split(X,y,stratify=y, random_state=123)"
   ]
  },
  {
   "cell_type": "code",
   "execution_count": 45,
   "id": "e0d8e17e",
   "metadata": {
    "id": "e0d8e17e"
   },
   "outputs": [],
   "source": [
    "# Best Decision Tree model: with max_depth adjusted AGAIN\n",
    "pipe_forest = make_pipeline(StandardScaler(), DecisionTreeClassifier())\n",
    "params = {'decisiontreeclassifier__max_depth' : [5,6,7,8],\n",
    "          'decisiontreeclassifier__random_state' : [123]\n",
    "          ,'decisiontreeclassifier__min_samples_split' : [2, 3, 4]\n",
    "         }\n",
    "grid_forest = GridSearchCV(pipe_forest, param_grid = params)"
   ]
  },
  {
   "cell_type": "code",
   "execution_count": 30,
   "id": "fb419910",
   "metadata": {
    "id": "fb419910",
    "outputId": "2797ed4b-3291-49ad-980f-0e90e8b5d852"
   },
   "outputs": [
    {
     "data": {
      "text/plain": [
       "GridSearchCV(estimator=Pipeline(steps=[('standardscaler', StandardScaler()),\n",
       "                                       ('decisiontreeclassifier',\n",
       "                                        DecisionTreeClassifier())]),\n",
       "             param_grid={'decisiontreeclassifier__max_depth': [5, 6, 7, 8],\n",
       "                         'decisiontreeclassifier__min_samples_split': [2, 3, 4],\n",
       "                         'decisiontreeclassifier__random_state': [123]})"
      ]
     },
     "execution_count": 30,
     "metadata": {},
     "output_type": "execute_result"
    }
   ],
   "source": [
    "grid_forest.fit(X_train,y_train)"
   ]
  },
  {
   "cell_type": "code",
   "execution_count": 31,
   "id": "f100a323",
   "metadata": {
    "id": "f100a323",
    "outputId": "1edbed09-7405-485c-a75c-328c6fe47f94"
   },
   "outputs": [
    {
     "data": {
      "text/plain": [
       "0.6570990023023792"
      ]
     },
     "execution_count": 31,
     "metadata": {},
     "output_type": "execute_result"
    }
   ],
   "source": [
    "grid_forest.score(X_test,y_test)### best DT model"
   ]
  },
  {
   "cell_type": "code",
   "execution_count": 32,
   "id": "2ad39fa8",
   "metadata": {
    "id": "2ad39fa8"
   },
   "outputs": [],
   "source": [
    "pred = grid_forest.predict(X_test)"
   ]
  },
  {
   "cell_type": "code",
   "execution_count": 33,
   "id": "996ca75f",
   "metadata": {
    "id": "996ca75f",
    "outputId": "bd14dcec-bb9a-4329-c2e4-d2ff86d5bc5f"
   },
   "outputs": [
    {
     "data": {
      "text/plain": [
       "0.6629500580720094"
      ]
     },
     "execution_count": 33,
     "metadata": {},
     "output_type": "execute_result"
    }
   ],
   "source": [
    "f1_score(y_test,pred, average='micro')"
   ]
  },
  {
   "cell_type": "code",
   "execution_count": 34,
   "id": "d031f669",
   "metadata": {
    "id": "d031f669",
    "outputId": "2e9f546f-7ccb-421e-8d79-9f48473da512",
    "scrolled": true
   },
   "outputs": [
    {
     "data": {
      "text/plain": [
       "Pipeline(steps=[('standardscaler', StandardScaler()),\n",
       "                ('decisiontreeclassifier',\n",
       "                 DecisionTreeClassifier(max_depth=7, random_state=123))])"
      ]
     },
     "execution_count": 34,
     "metadata": {},
     "output_type": "execute_result"
    }
   ],
   "source": [
    "grid_forest.best_estimator_"
   ]
  },
  {
   "cell_type": "markdown",
   "id": "60cdd526",
   "metadata": {},
   "source": [
    "#### Best Decision Tree model hyperparameters:\n",
    "    max_depth = 7\n",
    "    min_samples_split=4\n",
    "    Accuracy: 66.6%"
   ]
  },
  {
   "cell_type": "markdown",
   "id": "faa82216",
   "metadata": {},
   "source": [
    "#### Decision Tree models tested:\n",
    "    With default parameters: 59.39%\n",
    "    With max_depth = 5: 64.68%\n",
    "    With max_depth = 7 & min_samples_split = 4: 66%\n",
    "    With max_depth = 7 & min_samples_split = 7: 66.58%\n",
    "        "
   ]
  },
  {
   "cell_type": "markdown",
   "id": "e6b094d8",
   "metadata": {},
   "source": [
    "### BAGGING CLASSIFIER"
   ]
  },
  {
   "cell_type": "code",
   "execution_count": 37,
   "id": "54db65d4",
   "metadata": {},
   "outputs": [],
   "source": [
    "pipe_bagged = make_pipeline(StandardScaler(), BaggingClassifier())\n",
    "params = {\n",
    "          'baggingclassifier__random_state' : [123]\n",
    "          ,'baggingclassifier__max_features' : [9,10, 12, 14, 16, 20]\n",
    "         }\n",
    "grid_bagged = GridSearchCV(pipe_bagged, param_grid = params)"
   ]
  },
  {
   "cell_type": "code",
   "execution_count": 41,
   "id": "be16ef60",
   "metadata": {},
   "outputs": [
    {
     "data": {
      "text/plain": [
       "GridSearchCV(estimator=Pipeline(steps=[('standardscaler', StandardScaler()),\n",
       "                                       ('baggingclassifier',\n",
       "                                        BaggingClassifier())]),\n",
       "             param_grid={'baggingclassifier__max_features': [9, 10, 12, 14, 16,\n",
       "                                                             20],\n",
       "                         'baggingclassifier__random_state': [123]})"
      ]
     },
     "execution_count": 41,
     "metadata": {},
     "output_type": "execute_result"
    }
   ],
   "source": [
    "grid_bagged.fit(X_train,y_train)"
   ]
  },
  {
   "cell_type": "code",
   "execution_count": 42,
   "id": "fbe57793",
   "metadata": {},
   "outputs": [
    {
     "data": {
      "text/plain": [
       "0.6681504221028396"
      ]
     },
     "execution_count": 42,
     "metadata": {},
     "output_type": "execute_result"
    }
   ],
   "source": [
    "grid_bagged.score(X_test,y_test)"
   ]
  },
  {
   "cell_type": "code",
   "execution_count": 46,
   "id": "3a826816",
   "metadata": {},
   "outputs": [
    {
     "data": {
      "text/plain": [
       "0.6653875671527245"
      ]
     },
     "execution_count": 46,
     "metadata": {},
     "output_type": "execute_result"
    }
   ],
   "source": [
    "pred = grid_bagged.predict(X_test)\n",
    "\n",
    "f1_score(y_test,pred, average='micro')"
   ]
  },
  {
   "cell_type": "code",
   "execution_count": 47,
   "id": "eaf2ce7f",
   "metadata": {},
   "outputs": [
    {
     "data": {
      "text/plain": [
       "Pipeline(steps=[('standardscaler', StandardScaler()),\n",
       "                ('baggingclassifier',\n",
       "                 BaggingClassifier(max_features=10, random_state=123))])"
      ]
     },
     "execution_count": 47,
     "metadata": {},
     "output_type": "execute_result"
    }
   ],
   "source": [
    "grid_bagged.best_estimator_"
   ]
  },
  {
   "cell_type": "markdown",
   "id": "fc0e1dd6",
   "metadata": {},
   "source": [
    "#### Best Bagging Classifier model hyperparameters:\n",
    "    max_features = 10\n",
    "    Accuracy: 66.82%"
   ]
  },
  {
   "cell_type": "markdown",
   "id": "f8b94dc5",
   "metadata": {},
   "source": [
    "#### Bagging Classifier models tested:¶\n",
    "    With default parameters: 65.56%\n",
    "    With max_features=10, max_samples=8, n_estimators=40: 56.13%\n"
   ]
  },
  {
   "cell_type": "markdown",
   "id": "a09fa910",
   "metadata": {},
   "source": [
    "### ADABOOST CLASSIFIER"
   ]
  },
  {
   "cell_type": "code",
   "execution_count": 50,
   "id": "aaa6f568",
   "metadata": {},
   "outputs": [],
   "source": [
    "pipe_ada = make_pipeline(StandardScaler(), AdaBoostClassifier())\n",
    "params = {'adaboostclassifier__n_estimators':[70,80,90,100,110],\n",
    "    'adaboostclassifier__learning_rate':[1.3,2, 2.3, 3],\n",
    "    'adaboostclassifier__random_state' : [123]\n",
    "}\n",
    "grid_ada = GridSearchCV(pipe_ada, param_grid = params)"
   ]
  },
  {
   "cell_type": "code",
   "execution_count": 51,
   "id": "1c4915ab",
   "metadata": {},
   "outputs": [
    {
     "data": {
      "text/plain": [
       "GridSearchCV(estimator=Pipeline(steps=[('standardscaler', StandardScaler()),\n",
       "                                       ('adaboostclassifier',\n",
       "                                        AdaBoostClassifier())]),\n",
       "             param_grid={'adaboostclassifier__learning_rate': [1.3, 2, 2.3, 3],\n",
       "                         'adaboostclassifier__n_estimators': [70, 80, 90, 100,\n",
       "                                                              110],\n",
       "                         'adaboostclassifier__random_state': [123]})"
      ]
     },
     "execution_count": 51,
     "metadata": {},
     "output_type": "execute_result"
    }
   ],
   "source": [
    "grid_ada.fit(X_train,y_train)"
   ]
  },
  {
   "cell_type": "code",
   "execution_count": 52,
   "id": "d65ecee7",
   "metadata": {},
   "outputs": [
    {
     "data": {
      "text/plain": [
       "0.6600153491941673"
      ]
     },
     "execution_count": 52,
     "metadata": {},
     "output_type": "execute_result"
    }
   ],
   "source": [
    "grid_ada.score(X_test,y_test)"
   ]
  },
  {
   "cell_type": "code",
   "execution_count": 53,
   "id": "dcd503a0",
   "metadata": {},
   "outputs": [
    {
     "data": {
      "text/plain": [
       "0.6600153491941673"
      ]
     },
     "execution_count": 53,
     "metadata": {},
     "output_type": "execute_result"
    }
   ],
   "source": [
    "pred = grid_ada.predict(X_test)\n",
    "\n",
    "f1_score(y_test,pred, average='micro')\n"
   ]
  },
  {
   "cell_type": "code",
   "execution_count": 54,
   "id": "02e9084b",
   "metadata": {},
   "outputs": [
    {
     "data": {
      "text/plain": [
       "Pipeline(steps=[('standardscaler', StandardScaler()),\n",
       "                ('adaboostclassifier',\n",
       "                 AdaBoostClassifier(learning_rate=1.3, n_estimators=80,\n",
       "                                    random_state=123))])"
      ]
     },
     "execution_count": 54,
     "metadata": {},
     "output_type": "execute_result"
    }
   ],
   "source": [
    "grid_ada.best_estimator_"
   ]
  },
  {
   "cell_type": "markdown",
   "id": "7acd8e88",
   "metadata": {},
   "source": [
    "#### Best AdaBoost Classifier model hyperparameters:¶\n",
    "    learning_rate = 1.3\n",
    "    n_estimators = 80\n",
    "    Accuracy: 66%"
   ]
  },
  {
   "cell_type": "markdown",
   "id": "b8e4231d",
   "metadata": {},
   "source": [
    "#### AdaBoost Classifier models tested:¶\n",
    "    With default parameters: 65.26%\n",
    "    With learning_rate=1.3 & n_estimators=70 : 66%\n",
    "    "
   ]
  },
  {
   "cell_type": "markdown",
   "id": "6c4d1dad",
   "metadata": {},
   "source": [
    "### EXTRA TREE CLASSIFIER"
   ]
  },
  {
   "cell_type": "code",
   "execution_count": 56,
   "id": "35f4c4e7",
   "metadata": {},
   "outputs": [],
   "source": [
    "pipe_trees = make_pipeline(StandardScaler(), ExtraTreesClassifier(n_jobs = -1, random_state = 123))\n",
    "\n",
    "params = {'extratreesclassifier__max_depth' : [6, 7, 8, 9, 10, 11],\n",
    "          'extratreesclassifier__max_features' : [15, 20, 30, 35]}\n",
    "\n",
    "grid_trees = GridSearchCV(pipe_trees, param_grid = params)"
   ]
  },
  {
   "cell_type": "code",
   "execution_count": 57,
   "id": "cea5cd49",
   "metadata": {},
   "outputs": [
    {
     "data": {
      "text/plain": [
       "GridSearchCV(estimator=Pipeline(steps=[('standardscaler', StandardScaler()),\n",
       "                                       ('extratreesclassifier',\n",
       "                                        ExtraTreesClassifier(n_jobs=-1,\n",
       "                                                             random_state=123))]),\n",
       "             param_grid={'extratreesclassifier__max_depth': [6, 7, 8, 9, 10,\n",
       "                                                             11],\n",
       "                         'extratreesclassifier__max_features': [15, 20, 30,\n",
       "                                                                35]})"
      ]
     },
     "execution_count": 57,
     "metadata": {},
     "output_type": "execute_result"
    }
   ],
   "source": [
    "grid_trees.fit(X_train, y_train)"
   ]
  },
  {
   "cell_type": "code",
   "execution_count": 58,
   "id": "5e9a708f",
   "metadata": {},
   "outputs": [
    {
     "name": "stdout",
     "output_type": "stream",
     "text": [
      "Train Score: 0.754195661072452\n",
      "Test Score: 0.6796623177283193\n"
     ]
    }
   ],
   "source": [
    "print(f'Train Score: {grid_trees.score(X_train, y_train)}')\n",
    "print(f'Test Score: {grid_trees.score(X_test, y_test)}')\n"
   ]
  },
  {
   "cell_type": "code",
   "execution_count": 59,
   "id": "8faa10ec",
   "metadata": {},
   "outputs": [
    {
     "data": {
      "text/plain": [
       "{'extratreesclassifier__max_depth': 11,\n",
       " 'extratreesclassifier__max_features': 35}"
      ]
     },
     "execution_count": 59,
     "metadata": {},
     "output_type": "execute_result"
    }
   ],
   "source": [
    "grid_trees.best_params_"
   ]
  },
  {
   "cell_type": "markdown",
   "id": "b4e71d93",
   "metadata": {},
   "source": [
    "#### Best Extra Trees model hyperparameters:\n",
    "    max_depth = 11,\n",
    "    max_features = 35\n",
    "    Accuracy: 67.97%"
   ]
  },
  {
   "cell_type": "markdown",
   "id": "f249ce61",
   "metadata": {},
   "source": [
    "#### RANDOM FOREST CLASSIFIER\n"
   ]
  },
  {
   "cell_type": "code",
   "execution_count": 60,
   "id": "4ec0b7c1",
   "metadata": {},
   "outputs": [],
   "source": [
    "pipe_forest = make_pipeline(StandardScaler(), RandomForestClassifier(n_jobs = -1, random_state = 123))\n",
    "\n",
    "params = {'randomforestclassifier__max_depth' : [6, 7, 8, 9, 10, 11],\n",
    "          'randomforestclassifier__max_features' : [15, 20, 30, 35]}"
   ]
  },
  {
   "cell_type": "code",
   "execution_count": 61,
   "id": "1483d42a",
   "metadata": {},
   "outputs": [
    {
     "data": {
      "text/plain": [
       "GridSearchCV(estimator=Pipeline(steps=[('standardscaler', StandardScaler()),\n",
       "                                       ('randomforestclassifier',\n",
       "                                        RandomForestClassifier(n_jobs=-1,\n",
       "                                                               random_state=123))]),\n",
       "             param_grid={'randomforestclassifier__max_depth': [6, 7, 8, 9, 10,\n",
       "                                                               11],\n",
       "                         'randomforestclassifier__max_features': [15, 20, 30,\n",
       "                                                                  35]})"
      ]
     },
     "execution_count": 61,
     "metadata": {},
     "output_type": "execute_result"
    }
   ],
   "source": [
    "grid_forest = GridSearchCV(pipe_forest, param_grid = params)\n",
    "\n",
    "grid_forest.fit(X_train, y_train)"
   ]
  },
  {
   "cell_type": "code",
   "execution_count": 62,
   "id": "ffd7c1f9",
   "metadata": {},
   "outputs": [
    {
     "name": "stdout",
     "output_type": "stream",
     "text": [
      "Train Score: 0.7765554645927139\n",
      "Test Score: 0.6853415195702226\n"
     ]
    }
   ],
   "source": [
    "print(f'Train Score: {grid_forest.score(X_train, y_train)}')\n",
    "print(f'Test Score: {grid_forest.score(X_test, y_test)}')"
   ]
  },
  {
   "cell_type": "code",
   "execution_count": 63,
   "id": "819484f5",
   "metadata": {},
   "outputs": [
    {
     "data": {
      "text/plain": [
       "{'randomforestclassifier__max_depth': 11,\n",
       " 'randomforestclassifier__max_features': 30}"
      ]
     },
     "execution_count": 63,
     "metadata": {},
     "output_type": "execute_result"
    }
   ],
   "source": [
    "grid_forest.best_params_"
   ]
  },
  {
   "cell_type": "markdown",
   "id": "3d3b5030",
   "metadata": {},
   "source": [
    "### Best Random Forest model hyperparameters:\n",
    "    max_depth = 11,\n",
    "    max_features = 35\n",
    "    Accuracy: 68.93%\n",
    "## This was our best model overall."
   ]
  },
  {
   "cell_type": "markdown",
   "id": "48ac2125",
   "metadata": {},
   "source": [
    "### MODELING ON THE TEST DATA"
   ]
  },
  {
   "cell_type": "code",
   "execution_count": 64,
   "id": "5d0f015e",
   "metadata": {},
   "outputs": [],
   "source": [
    "# read in data\n",
    "\n",
    "train_values = pd.read_csv('data/Proj5_train_values.csv')\n",
    "train_labels = pd.read_csv('data/Proj5_train_labels.csv')"
   ]
  },
  {
   "cell_type": "code",
   "execution_count": 65,
   "id": "61caca8b",
   "metadata": {
    "collapsed": true
   },
   "outputs": [
    {
     "data": {
      "text/html": [
       "<div>\n",
       "<style scoped>\n",
       "    .dataframe tbody tr th:only-of-type {\n",
       "        vertical-align: middle;\n",
       "    }\n",
       "\n",
       "    .dataframe tbody tr th {\n",
       "        vertical-align: top;\n",
       "    }\n",
       "\n",
       "    .dataframe thead th {\n",
       "        text-align: right;\n",
       "    }\n",
       "</style>\n",
       "<table border=\"1\" class=\"dataframe\">\n",
       "  <thead>\n",
       "    <tr style=\"text-align: right;\">\n",
       "      <th></th>\n",
       "      <th>building_id</th>\n",
       "      <th>geo_level_1_id</th>\n",
       "      <th>geo_level_2_id</th>\n",
       "      <th>geo_level_3_id</th>\n",
       "      <th>count_floors_pre_eq</th>\n",
       "      <th>age</th>\n",
       "      <th>area_percentage</th>\n",
       "      <th>height_percentage</th>\n",
       "      <th>land_surface_condition</th>\n",
       "      <th>foundation_type</th>\n",
       "      <th>roof_type</th>\n",
       "      <th>ground_floor_type</th>\n",
       "      <th>other_floor_type</th>\n",
       "      <th>position</th>\n",
       "      <th>plan_configuration</th>\n",
       "      <th>has_superstructure_adobe_mud</th>\n",
       "      <th>has_superstructure_mud_mortar_stone</th>\n",
       "      <th>has_superstructure_stone_flag</th>\n",
       "      <th>has_superstructure_cement_mortar_stone</th>\n",
       "      <th>has_superstructure_mud_mortar_brick</th>\n",
       "      <th>has_superstructure_cement_mortar_brick</th>\n",
       "      <th>has_superstructure_timber</th>\n",
       "      <th>has_superstructure_bamboo</th>\n",
       "      <th>has_superstructure_rc_non_engineered</th>\n",
       "      <th>has_superstructure_rc_engineered</th>\n",
       "      <th>has_superstructure_other</th>\n",
       "      <th>legal_ownership_status</th>\n",
       "      <th>count_families</th>\n",
       "      <th>has_secondary_use</th>\n",
       "      <th>has_secondary_use_agriculture</th>\n",
       "      <th>has_secondary_use_hotel</th>\n",
       "      <th>has_secondary_use_rental</th>\n",
       "      <th>has_secondary_use_institution</th>\n",
       "      <th>has_secondary_use_school</th>\n",
       "      <th>has_secondary_use_industry</th>\n",
       "      <th>has_secondary_use_health_post</th>\n",
       "      <th>has_secondary_use_gov_office</th>\n",
       "      <th>has_secondary_use_use_police</th>\n",
       "      <th>has_secondary_use_other</th>\n",
       "    </tr>\n",
       "  </thead>\n",
       "  <tbody>\n",
       "    <tr>\n",
       "      <th>0</th>\n",
       "      <td>198723</td>\n",
       "      <td>6</td>\n",
       "      <td>482</td>\n",
       "      <td>11250</td>\n",
       "      <td>1</td>\n",
       "      <td>6</td>\n",
       "      <td>5</td>\n",
       "      <td>3</td>\n",
       "      <td>2</td>\n",
       "      <td>2</td>\n",
       "      <td>0</td>\n",
       "      <td>0</td>\n",
       "      <td>1</td>\n",
       "      <td>3</td>\n",
       "      <td>2</td>\n",
       "      <td>1</td>\n",
       "      <td>1</td>\n",
       "      <td>0</td>\n",
       "      <td>0</td>\n",
       "      <td>0</td>\n",
       "      <td>0</td>\n",
       "      <td>0</td>\n",
       "      <td>0</td>\n",
       "      <td>0</td>\n",
       "      <td>0</td>\n",
       "      <td>0</td>\n",
       "      <td>2</td>\n",
       "      <td>1</td>\n",
       "      <td>0</td>\n",
       "      <td>0</td>\n",
       "      <td>0</td>\n",
       "      <td>0</td>\n",
       "      <td>0</td>\n",
       "      <td>0</td>\n",
       "      <td>0</td>\n",
       "      <td>0</td>\n",
       "      <td>0</td>\n",
       "      <td>0</td>\n",
       "      <td>0</td>\n",
       "    </tr>\n",
       "    <tr>\n",
       "      <th>1</th>\n",
       "      <td>7210</td>\n",
       "      <td>8</td>\n",
       "      <td>891</td>\n",
       "      <td>2602</td>\n",
       "      <td>1</td>\n",
       "      <td>2</td>\n",
       "      <td>7</td>\n",
       "      <td>5</td>\n",
       "      <td>1</td>\n",
       "      <td>2</td>\n",
       "      <td>0</td>\n",
       "      <td>3</td>\n",
       "      <td>1</td>\n",
       "      <td>2</td>\n",
       "      <td>2</td>\n",
       "      <td>0</td>\n",
       "      <td>1</td>\n",
       "      <td>0</td>\n",
       "      <td>0</td>\n",
       "      <td>0</td>\n",
       "      <td>0</td>\n",
       "      <td>0</td>\n",
       "      <td>0</td>\n",
       "      <td>0</td>\n",
       "      <td>0</td>\n",
       "      <td>0</td>\n",
       "      <td>2</td>\n",
       "      <td>1</td>\n",
       "      <td>0</td>\n",
       "      <td>0</td>\n",
       "      <td>0</td>\n",
       "      <td>0</td>\n",
       "      <td>0</td>\n",
       "      <td>0</td>\n",
       "      <td>0</td>\n",
       "      <td>0</td>\n",
       "      <td>0</td>\n",
       "      <td>0</td>\n",
       "      <td>0</td>\n",
       "    </tr>\n",
       "    <tr>\n",
       "      <th>2</th>\n",
       "      <td>23774</td>\n",
       "      <td>21</td>\n",
       "      <td>359</td>\n",
       "      <td>8286</td>\n",
       "      <td>1</td>\n",
       "      <td>2</td>\n",
       "      <td>4</td>\n",
       "      <td>3</td>\n",
       "      <td>2</td>\n",
       "      <td>2</td>\n",
       "      <td>0</td>\n",
       "      <td>0</td>\n",
       "      <td>3</td>\n",
       "      <td>3</td>\n",
       "      <td>2</td>\n",
       "      <td>0</td>\n",
       "      <td>1</td>\n",
       "      <td>0</td>\n",
       "      <td>0</td>\n",
       "      <td>0</td>\n",
       "      <td>0</td>\n",
       "      <td>0</td>\n",
       "      <td>0</td>\n",
       "      <td>0</td>\n",
       "      <td>0</td>\n",
       "      <td>0</td>\n",
       "      <td>2</td>\n",
       "      <td>1</td>\n",
       "      <td>0</td>\n",
       "      <td>0</td>\n",
       "      <td>0</td>\n",
       "      <td>0</td>\n",
       "      <td>0</td>\n",
       "      <td>0</td>\n",
       "      <td>0</td>\n",
       "      <td>0</td>\n",
       "      <td>0</td>\n",
       "      <td>0</td>\n",
       "      <td>0</td>\n",
       "    </tr>\n",
       "    <tr>\n",
       "      <th>3</th>\n",
       "      <td>146212</td>\n",
       "      <td>22</td>\n",
       "      <td>413</td>\n",
       "      <td>9868</td>\n",
       "      <td>1</td>\n",
       "      <td>2</td>\n",
       "      <td>5</td>\n",
       "      <td>3</td>\n",
       "      <td>2</td>\n",
       "      <td>2</td>\n",
       "      <td>0</td>\n",
       "      <td>0</td>\n",
       "      <td>3</td>\n",
       "      <td>2</td>\n",
       "      <td>2</td>\n",
       "      <td>0</td>\n",
       "      <td>1</td>\n",
       "      <td>0</td>\n",
       "      <td>0</td>\n",
       "      <td>0</td>\n",
       "      <td>0</td>\n",
       "      <td>1</td>\n",
       "      <td>1</td>\n",
       "      <td>0</td>\n",
       "      <td>0</td>\n",
       "      <td>0</td>\n",
       "      <td>2</td>\n",
       "      <td>1</td>\n",
       "      <td>0</td>\n",
       "      <td>0</td>\n",
       "      <td>0</td>\n",
       "      <td>0</td>\n",
       "      <td>0</td>\n",
       "      <td>0</td>\n",
       "      <td>0</td>\n",
       "      <td>0</td>\n",
       "      <td>0</td>\n",
       "      <td>0</td>\n",
       "      <td>0</td>\n",
       "    </tr>\n",
       "    <tr>\n",
       "      <th>4</th>\n",
       "      <td>50437</td>\n",
       "      <td>11</td>\n",
       "      <td>129</td>\n",
       "      <td>1371</td>\n",
       "      <td>2</td>\n",
       "      <td>6</td>\n",
       "      <td>7</td>\n",
       "      <td>7</td>\n",
       "      <td>2</td>\n",
       "      <td>2</td>\n",
       "      <td>0</td>\n",
       "      <td>0</td>\n",
       "      <td>3</td>\n",
       "      <td>2</td>\n",
       "      <td>2</td>\n",
       "      <td>1</td>\n",
       "      <td>0</td>\n",
       "      <td>0</td>\n",
       "      <td>0</td>\n",
       "      <td>0</td>\n",
       "      <td>0</td>\n",
       "      <td>0</td>\n",
       "      <td>0</td>\n",
       "      <td>0</td>\n",
       "      <td>0</td>\n",
       "      <td>0</td>\n",
       "      <td>2</td>\n",
       "      <td>1</td>\n",
       "      <td>0</td>\n",
       "      <td>0</td>\n",
       "      <td>0</td>\n",
       "      <td>0</td>\n",
       "      <td>0</td>\n",
       "      <td>0</td>\n",
       "      <td>0</td>\n",
       "      <td>0</td>\n",
       "      <td>0</td>\n",
       "      <td>0</td>\n",
       "      <td>0</td>\n",
       "    </tr>\n",
       "    <tr>\n",
       "      <th>...</th>\n",
       "      <td>...</td>\n",
       "      <td>...</td>\n",
       "      <td>...</td>\n",
       "      <td>...</td>\n",
       "      <td>...</td>\n",
       "      <td>...</td>\n",
       "      <td>...</td>\n",
       "      <td>...</td>\n",
       "      <td>...</td>\n",
       "      <td>...</td>\n",
       "      <td>...</td>\n",
       "      <td>...</td>\n",
       "      <td>...</td>\n",
       "      <td>...</td>\n",
       "      <td>...</td>\n",
       "      <td>...</td>\n",
       "      <td>...</td>\n",
       "      <td>...</td>\n",
       "      <td>...</td>\n",
       "      <td>...</td>\n",
       "      <td>...</td>\n",
       "      <td>...</td>\n",
       "      <td>...</td>\n",
       "      <td>...</td>\n",
       "      <td>...</td>\n",
       "      <td>...</td>\n",
       "      <td>...</td>\n",
       "      <td>...</td>\n",
       "      <td>...</td>\n",
       "      <td>...</td>\n",
       "      <td>...</td>\n",
       "      <td>...</td>\n",
       "      <td>...</td>\n",
       "      <td>...</td>\n",
       "      <td>...</td>\n",
       "      <td>...</td>\n",
       "      <td>...</td>\n",
       "      <td>...</td>\n",
       "      <td>...</td>\n",
       "    </tr>\n",
       "    <tr>\n",
       "      <th>260596</th>\n",
       "      <td>170650</td>\n",
       "      <td>25</td>\n",
       "      <td>1322</td>\n",
       "      <td>1491</td>\n",
       "      <td>0</td>\n",
       "      <td>11</td>\n",
       "      <td>5</td>\n",
       "      <td>1</td>\n",
       "      <td>0</td>\n",
       "      <td>2</td>\n",
       "      <td>0</td>\n",
       "      <td>0</td>\n",
       "      <td>0</td>\n",
       "      <td>2</td>\n",
       "      <td>7</td>\n",
       "      <td>0</td>\n",
       "      <td>1</td>\n",
       "      <td>0</td>\n",
       "      <td>0</td>\n",
       "      <td>0</td>\n",
       "      <td>0</td>\n",
       "      <td>0</td>\n",
       "      <td>0</td>\n",
       "      <td>0</td>\n",
       "      <td>0</td>\n",
       "      <td>0</td>\n",
       "      <td>2</td>\n",
       "      <td>1</td>\n",
       "      <td>0</td>\n",
       "      <td>0</td>\n",
       "      <td>0</td>\n",
       "      <td>0</td>\n",
       "      <td>0</td>\n",
       "      <td>0</td>\n",
       "      <td>0</td>\n",
       "      <td>0</td>\n",
       "      <td>0</td>\n",
       "      <td>0</td>\n",
       "      <td>0</td>\n",
       "    </tr>\n",
       "    <tr>\n",
       "      <th>260597</th>\n",
       "      <td>165884</td>\n",
       "      <td>17</td>\n",
       "      <td>708</td>\n",
       "      <td>1893</td>\n",
       "      <td>1</td>\n",
       "      <td>0</td>\n",
       "      <td>5</td>\n",
       "      <td>3</td>\n",
       "      <td>2</td>\n",
       "      <td>2</td>\n",
       "      <td>0</td>\n",
       "      <td>0</td>\n",
       "      <td>1</td>\n",
       "      <td>2</td>\n",
       "      <td>2</td>\n",
       "      <td>0</td>\n",
       "      <td>1</td>\n",
       "      <td>0</td>\n",
       "      <td>0</td>\n",
       "      <td>0</td>\n",
       "      <td>0</td>\n",
       "      <td>0</td>\n",
       "      <td>0</td>\n",
       "      <td>0</td>\n",
       "      <td>0</td>\n",
       "      <td>0</td>\n",
       "      <td>2</td>\n",
       "      <td>1</td>\n",
       "      <td>0</td>\n",
       "      <td>0</td>\n",
       "      <td>0</td>\n",
       "      <td>0</td>\n",
       "      <td>0</td>\n",
       "      <td>0</td>\n",
       "      <td>0</td>\n",
       "      <td>0</td>\n",
       "      <td>0</td>\n",
       "      <td>0</td>\n",
       "      <td>0</td>\n",
       "    </tr>\n",
       "    <tr>\n",
       "      <th>260598</th>\n",
       "      <td>149084</td>\n",
       "      <td>17</td>\n",
       "      <td>50</td>\n",
       "      <td>7546</td>\n",
       "      <td>2</td>\n",
       "      <td>11</td>\n",
       "      <td>5</td>\n",
       "      <td>5</td>\n",
       "      <td>2</td>\n",
       "      <td>2</td>\n",
       "      <td>1</td>\n",
       "      <td>0</td>\n",
       "      <td>1</td>\n",
       "      <td>2</td>\n",
       "      <td>2</td>\n",
       "      <td>0</td>\n",
       "      <td>1</td>\n",
       "      <td>0</td>\n",
       "      <td>0</td>\n",
       "      <td>0</td>\n",
       "      <td>0</td>\n",
       "      <td>0</td>\n",
       "      <td>0</td>\n",
       "      <td>0</td>\n",
       "      <td>0</td>\n",
       "      <td>0</td>\n",
       "      <td>2</td>\n",
       "      <td>1</td>\n",
       "      <td>0</td>\n",
       "      <td>0</td>\n",
       "      <td>0</td>\n",
       "      <td>0</td>\n",
       "      <td>0</td>\n",
       "      <td>0</td>\n",
       "      <td>0</td>\n",
       "      <td>0</td>\n",
       "      <td>0</td>\n",
       "      <td>0</td>\n",
       "      <td>0</td>\n",
       "    </tr>\n",
       "    <tr>\n",
       "      <th>260599</th>\n",
       "      <td>37871</td>\n",
       "      <td>26</td>\n",
       "      <td>38</td>\n",
       "      <td>1702</td>\n",
       "      <td>1</td>\n",
       "      <td>2</td>\n",
       "      <td>13</td>\n",
       "      <td>4</td>\n",
       "      <td>2</td>\n",
       "      <td>2</td>\n",
       "      <td>2</td>\n",
       "      <td>2</td>\n",
       "      <td>2</td>\n",
       "      <td>0</td>\n",
       "      <td>2</td>\n",
       "      <td>0</td>\n",
       "      <td>0</td>\n",
       "      <td>0</td>\n",
       "      <td>0</td>\n",
       "      <td>0</td>\n",
       "      <td>1</td>\n",
       "      <td>0</td>\n",
       "      <td>0</td>\n",
       "      <td>0</td>\n",
       "      <td>0</td>\n",
       "      <td>0</td>\n",
       "      <td>2</td>\n",
       "      <td>1</td>\n",
       "      <td>0</td>\n",
       "      <td>0</td>\n",
       "      <td>0</td>\n",
       "      <td>0</td>\n",
       "      <td>0</td>\n",
       "      <td>0</td>\n",
       "      <td>0</td>\n",
       "      <td>0</td>\n",
       "      <td>0</td>\n",
       "      <td>0</td>\n",
       "      <td>0</td>\n",
       "    </tr>\n",
       "    <tr>\n",
       "      <th>260600</th>\n",
       "      <td>185249</td>\n",
       "      <td>21</td>\n",
       "      <td>8</td>\n",
       "      <td>8406</td>\n",
       "      <td>2</td>\n",
       "      <td>2</td>\n",
       "      <td>6</td>\n",
       "      <td>4</td>\n",
       "      <td>0</td>\n",
       "      <td>2</td>\n",
       "      <td>0</td>\n",
       "      <td>0</td>\n",
       "      <td>1</td>\n",
       "      <td>0</td>\n",
       "      <td>2</td>\n",
       "      <td>0</td>\n",
       "      <td>1</td>\n",
       "      <td>0</td>\n",
       "      <td>0</td>\n",
       "      <td>0</td>\n",
       "      <td>0</td>\n",
       "      <td>0</td>\n",
       "      <td>0</td>\n",
       "      <td>0</td>\n",
       "      <td>0</td>\n",
       "      <td>0</td>\n",
       "      <td>2</td>\n",
       "      <td>3</td>\n",
       "      <td>0</td>\n",
       "      <td>0</td>\n",
       "      <td>0</td>\n",
       "      <td>0</td>\n",
       "      <td>0</td>\n",
       "      <td>0</td>\n",
       "      <td>0</td>\n",
       "      <td>0</td>\n",
       "      <td>0</td>\n",
       "      <td>0</td>\n",
       "      <td>0</td>\n",
       "    </tr>\n",
       "  </tbody>\n",
       "</table>\n",
       "<p>260601 rows × 39 columns</p>\n",
       "</div>"
      ],
      "text/plain": [
       "        building_id  geo_level_1_id  geo_level_2_id  geo_level_3_id  count_floors_pre_eq  age  area_percentage  height_percentage  land_surface_condition  foundation_type  roof_type  ground_floor_type  other_floor_type  position  plan_configuration  has_superstructure_adobe_mud  has_superstructure_mud_mortar_stone  has_superstructure_stone_flag  has_superstructure_cement_mortar_stone  has_superstructure_mud_mortar_brick  has_superstructure_cement_mortar_brick  has_superstructure_timber  has_superstructure_bamboo  has_superstructure_rc_non_engineered  has_superstructure_rc_engineered  has_superstructure_other  legal_ownership_status  count_families  has_secondary_use  has_secondary_use_agriculture  has_secondary_use_hotel  has_secondary_use_rental  has_secondary_use_institution  has_secondary_use_school  has_secondary_use_industry  has_secondary_use_health_post  has_secondary_use_gov_office  has_secondary_use_use_police  has_secondary_use_other\n",
       "0            198723               6             482           11250                    1    6                5                  3                       2                2          0                  0                 1         3                   2                             1                                    1                              0                                       0                                    0                                       0                          0                          0                                     0                                 0                         0                       2               1                  0                              0                        0                         0                              0                         0                           0                              0                             0                             0                        0\n",
       "1              7210               8             891            2602                    1    2                7                  5                       1                2          0                  3                 1         2                   2                             0                                    1                              0                                       0                                    0                                       0                          0                          0                                     0                                 0                         0                       2               1                  0                              0                        0                         0                              0                         0                           0                              0                             0                             0                        0\n",
       "2             23774              21             359            8286                    1    2                4                  3                       2                2          0                  0                 3         3                   2                             0                                    1                              0                                       0                                    0                                       0                          0                          0                                     0                                 0                         0                       2               1                  0                              0                        0                         0                              0                         0                           0                              0                             0                             0                        0\n",
       "3            146212              22             413            9868                    1    2                5                  3                       2                2          0                  0                 3         2                   2                             0                                    1                              0                                       0                                    0                                       0                          1                          1                                     0                                 0                         0                       2               1                  0                              0                        0                         0                              0                         0                           0                              0                             0                             0                        0\n",
       "4             50437              11             129            1371                    2    6                7                  7                       2                2          0                  0                 3         2                   2                             1                                    0                              0                                       0                                    0                                       0                          0                          0                                     0                                 0                         0                       2               1                  0                              0                        0                         0                              0                         0                           0                              0                             0                             0                        0\n",
       "...             ...             ...             ...             ...                  ...  ...              ...                ...                     ...              ...        ...                ...               ...       ...                 ...                           ...                                  ...                            ...                                     ...                                  ...                                     ...                        ...                        ...                                   ...                               ...                       ...                     ...             ...                ...                            ...                      ...                       ...                            ...                       ...                         ...                            ...                           ...                           ...                      ...\n",
       "260596       170650              25            1322            1491                    0   11                5                  1                       0                2          0                  0                 0         2                   7                             0                                    1                              0                                       0                                    0                                       0                          0                          0                                     0                                 0                         0                       2               1                  0                              0                        0                         0                              0                         0                           0                              0                             0                             0                        0\n",
       "260597       165884              17             708            1893                    1    0                5                  3                       2                2          0                  0                 1         2                   2                             0                                    1                              0                                       0                                    0                                       0                          0                          0                                     0                                 0                         0                       2               1                  0                              0                        0                         0                              0                         0                           0                              0                             0                             0                        0\n",
       "260598       149084              17              50            7546                    2   11                5                  5                       2                2          1                  0                 1         2                   2                             0                                    1                              0                                       0                                    0                                       0                          0                          0                                     0                                 0                         0                       2               1                  0                              0                        0                         0                              0                         0                           0                              0                             0                             0                        0\n",
       "260599        37871              26              38            1702                    1    2               13                  4                       2                2          2                  2                 2         0                   2                             0                                    0                              0                                       0                                    0                                       1                          0                          0                                     0                                 0                         0                       2               1                  0                              0                        0                         0                              0                         0                           0                              0                             0                             0                        0\n",
       "260600       185249              21               8            8406                    2    2                6                  4                       0                2          0                  0                 1         0                   2                             0                                    1                              0                                       0                                    0                                       0                          0                          0                                     0                                 0                         0                       2               3                  0                              0                        0                         0                              0                         0                           0                              0                             0                             0                        0\n",
       "\n",
       "[260601 rows x 39 columns]"
      ]
     },
     "execution_count": 65,
     "metadata": {},
     "output_type": "execute_result"
    }
   ],
   "source": [
    "# Label Encode categorical features\n",
    "\n",
    "le = LabelEncoder()\n",
    "train_enc = train_values.apply(le.fit_transform)\n",
    "train_enc"
   ]
  },
  {
   "cell_type": "code",
   "execution_count": 66,
   "id": "6e905a8a",
   "metadata": {},
   "outputs": [],
   "source": [
    "# establish X + y\n",
    "\n",
    "X = train_enc.drop(columns = ['building_id'])\n",
    "y = train_labels['damage_grade']"
   ]
  },
  {
   "cell_type": "code",
   "execution_count": 67,
   "id": "ffbd454c",
   "metadata": {},
   "outputs": [],
   "source": [
    "# Train/test/split\n",
    "X_train, X_test, y_train, y_test = train_test_split(X, y, stratify = y, random_state = 123)"
   ]
  },
  {
   "cell_type": "code",
   "execution_count": 75,
   "id": "2e743a0b",
   "metadata": {},
   "outputs": [],
   "source": [
    "pipe_forest = make_pipeline(StandardScaler(), RandomForestClassifier(n_jobs = -1, random_state = 123))\n",
    "\n",
    "params = {'randomforestclassifier__max_depth' : [11],\n",
    "          'randomforestclassifier__max_features' : [35]}"
   ]
  },
  {
   "cell_type": "code",
   "execution_count": 69,
   "id": "6d1cbdc4",
   "metadata": {},
   "outputs": [
    {
     "data": {
      "text/plain": [
       "GridSearchCV(estimator=Pipeline(steps=[('standardscaler', StandardScaler()),\n",
       "                                       ('randomforestclassifier',\n",
       "                                        RandomForestClassifier(n_jobs=-1,\n",
       "                                                               random_state=123))]),\n",
       "             param_grid={'randomforestclassifier__max_depth': [11],\n",
       "                         'randomforestclassifier__max_features': [35]})"
      ]
     },
     "execution_count": 69,
     "metadata": {},
     "output_type": "execute_result"
    }
   ],
   "source": [
    "grid_forest = GridSearchCV(pipe_forest, param_grid = params)\n",
    "\n",
    "grid_forest.fit(X_train, y_train)"
   ]
  },
  {
   "cell_type": "code",
   "execution_count": 70,
   "id": "14548630",
   "metadata": {},
   "outputs": [
    {
     "name": "stdout",
     "output_type": "stream",
     "text": [
      "Train Score: 0.7229828600665131\n",
      "Test Score: 0.7049930162238492\n"
     ]
    }
   ],
   "source": [
    "print(f'Train Score: {grid_forest.score(X_train, y_train)}')\n",
    "print(f'Test Score: {grid_forest.score(X_test, y_test)}')"
   ]
  },
  {
   "cell_type": "markdown",
   "id": "86156db3",
   "metadata": {},
   "source": [
    "## ACCURACY OF BEST MODEL AGAINST TEST DATA: 70.5%"
   ]
  },
  {
   "cell_type": "markdown",
   "id": "2bf16c02",
   "metadata": {},
   "source": [
    "#### Evaluation Metrics\n",
    "    Accuracy Score (against the Test data, above)\n",
    "    Confusion Matrix\n",
    "    Feature Importances\n",
    "    Permutation Feature Importances"
   ]
  },
  {
   "cell_type": "code",
   "execution_count": 78,
   "id": "f45ee724",
   "metadata": {},
   "outputs": [
    {
     "data": {
      "text/plain": [
       "RandomForestClassifier(max_depth=11, max_features=35, random_state=123)"
      ]
     },
     "execution_count": 78,
     "metadata": {},
     "output_type": "execute_result"
    }
   ],
   "source": [
    "# confusion matrix\n",
    "rf = RandomForestClassifier(max_depth = 11, max_features = 35, random_state = 123)\n",
    "rf.fit(X_train, y_train)\n",
    "\n"
   ]
  },
  {
   "cell_type": "code",
   "execution_count": 79,
   "id": "3d9a0b95",
   "metadata": {},
   "outputs": [
    {
     "data": {
      "image/png": "[encoded data removed]",
      "text/plain": [
       "<Figure size 432x288 with 2 Axes>"
      ]
     },
     "metadata": {
      "needs_background": "light"
     },
     "output_type": "display_data"
    }
   ],
   "source": [
    "plot_confusion_matrix(rf, X_test, y_test, cmap = 'Reds');"
   ]
  },
  {
   "cell_type": "markdown",
   "id": "bcbc259f",
   "metadata": {},
   "source": [
    "### FEATURE IMPORTANCES"
   ]
  },
  {
   "cell_type": "code",
   "execution_count": 80,
   "id": "f5f05d40",
   "metadata": {},
   "outputs": [
    {
     "data": {
      "text/html": [
       "<div>\n",
       "<style scoped>\n",
       "    .dataframe tbody tr th:only-of-type {\n",
       "        vertical-align: middle;\n",
       "    }\n",
       "\n",
       "    .dataframe tbody tr th {\n",
       "        vertical-align: top;\n",
       "    }\n",
       "\n",
       "    .dataframe thead th {\n",
       "        text-align: right;\n",
       "    }\n",
       "</style>\n",
       "<table border=\"1\" class=\"dataframe\">\n",
       "  <thead>\n",
       "    <tr style=\"text-align: right;\">\n",
       "      <th></th>\n",
       "      <th>importances</th>\n",
       "      <th>name</th>\n",
       "    </tr>\n",
       "  </thead>\n",
       "  <tbody>\n",
       "    <tr>\n",
       "      <th>0</th>\n",
       "      <td>0.477771</td>\n",
       "      <td>geo_level_1_id</td>\n",
       "    </tr>\n",
       "    <tr>\n",
       "      <th>1</th>\n",
       "      <td>0.121657</td>\n",
       "      <td>geo_level_2_id</td>\n",
       "    </tr>\n",
       "    <tr>\n",
       "      <th>15</th>\n",
       "      <td>0.093691</td>\n",
       "      <td>has_superstructure_mud_mortar_stone</td>\n",
       "    </tr>\n",
       "    <tr>\n",
       "      <th>4</th>\n",
       "      <td>0.075044</td>\n",
       "      <td>age</td>\n",
       "    </tr>\n",
       "    <tr>\n",
       "      <th>2</th>\n",
       "      <td>0.038465</td>\n",
       "      <td>geo_level_3_id</td>\n",
       "    </tr>\n",
       "  </tbody>\n",
       "</table>\n",
       "</div>"
      ],
      "text/plain": [
       "    importances                                 name\n",
       "0      0.477771                       geo_level_1_id\n",
       "1      0.121657                       geo_level_2_id\n",
       "15     0.093691  has_superstructure_mud_mortar_stone\n",
       "4      0.075044                                  age\n",
       "2      0.038465                       geo_level_3_id"
      ]
     },
     "execution_count": 80,
     "metadata": {},
     "output_type": "execute_result"
    }
   ],
   "source": [
    "# grab feature importances -- CONSOLIDATED\n",
    "\n",
    "forest_fi_df = pd.DataFrame({'importances': rf.feature_importances_, \n",
    "                             'name': X_train.columns}).sort_values('importances', ascending = False)\n",
    "forest_fi_df[:5]"
   ]
  },
  {
   "cell_type": "code",
   "execution_count": 82,
   "id": "3ca39f41",
   "metadata": {},
   "outputs": [],
   "source": [
    "# referenced https://git.generalassemb.ly/DSI-322/6.04_Forests_and_Features/blob/master/starter-code.ipynb\n",
    "from sklearn.inspection import permutation_importance\n",
    "# extract permutation importances\n",
    "pimports = permutation_importance(rf, X_test, y_test, n_repeats = 10, n_jobs = -1, random_state = 123)\n",
    "\n",
    "#sort by averages\n",
    "sort_idx = pimports.importances_mean.argsort()\n",
    "\n",
    "#create a Dataframe sorted by importance\n",
    "imp_df = pd.DataFrame(pimports.importances[sort_idx].T, columns = X_test.columns[sort_idx])"
   ]
  },
  {
   "cell_type": "code",
   "execution_count": 83,
   "id": "d1c7d45c",
   "metadata": {},
   "outputs": [
    {
     "data": {
      "text/html": [
       "<div>\n",
       "<style scoped>\n",
       "    .dataframe tbody tr th:only-of-type {\n",
       "        vertical-align: middle;\n",
       "    }\n",
       "\n",
       "    .dataframe tbody tr th {\n",
       "        vertical-align: top;\n",
       "    }\n",
       "\n",
       "    .dataframe thead th {\n",
       "        text-align: right;\n",
       "    }\n",
       "</style>\n",
       "<table border=\"1\" class=\"dataframe\">\n",
       "  <thead>\n",
       "    <tr style=\"text-align: right;\">\n",
       "      <th></th>\n",
       "      <th>has_superstructure_rc_non_engineered</th>\n",
       "      <th>has_superstructure_cement_mortar_stone</th>\n",
       "      <th>has_secondary_use_use_police</th>\n",
       "      <th>has_secondary_use_gov_office</th>\n",
       "      <th>has_secondary_use_health_post</th>\n",
       "      <th>has_secondary_use_industry</th>\n",
       "      <th>has_secondary_use_school</th>\n",
       "      <th>has_secondary_use_institution</th>\n",
       "      <th>has_secondary_use_other</th>\n",
       "      <th>plan_configuration</th>\n",
       "      <th>has_secondary_use_hotel</th>\n",
       "      <th>has_secondary_use_rental</th>\n",
       "      <th>position</th>\n",
       "      <th>has_superstructure_rc_engineered</th>\n",
       "      <th>has_secondary_use_agriculture</th>\n",
       "      <th>has_superstructure_other</th>\n",
       "      <th>legal_ownership_status</th>\n",
       "      <th>has_superstructure_bamboo</th>\n",
       "      <th>land_surface_condition</th>\n",
       "      <th>has_superstructure_mud_mortar_brick</th>\n",
       "      <th>has_secondary_use</th>\n",
       "      <th>has_superstructure_timber</th>\n",
       "      <th>count_families</th>\n",
       "      <th>has_superstructure_cement_mortar_brick</th>\n",
       "      <th>ground_floor_type</th>\n",
       "      <th>has_superstructure_adobe_mud</th>\n",
       "      <th>count_floors_pre_eq</th>\n",
       "      <th>height_percentage</th>\n",
       "      <th>area_percentage</th>\n",
       "      <th>has_superstructure_stone_flag</th>\n",
       "      <th>other_floor_type</th>\n",
       "      <th>geo_level_3_id</th>\n",
       "      <th>roof_type</th>\n",
       "      <th>age</th>\n",
       "      <th>foundation_type</th>\n",
       "      <th>geo_level_2_id</th>\n",
       "      <th>has_superstructure_mud_mortar_stone</th>\n",
       "      <th>geo_level_1_id</th>\n",
       "    </tr>\n",
       "  </thead>\n",
       "  <tbody>\n",
       "    <tr>\n",
       "      <th>0</th>\n",
       "      <td>0.000015</td>\n",
       "      <td>-0.000077</td>\n",
       "      <td>0.0</td>\n",
       "      <td>0.0</td>\n",
       "      <td>0.0</td>\n",
       "      <td>0.0</td>\n",
       "      <td>0.0</td>\n",
       "      <td>0.0</td>\n",
       "      <td>-0.000015</td>\n",
       "      <td>-0.000031</td>\n",
       "      <td>0.000000</td>\n",
       "      <td>0.000061</td>\n",
       "      <td>0.000200</td>\n",
       "      <td>0.000107</td>\n",
       "      <td>0.000138</td>\n",
       "      <td>0.000230</td>\n",
       "      <td>0.000261</td>\n",
       "      <td>0.000184</td>\n",
       "      <td>0.000230</td>\n",
       "      <td>0.000338</td>\n",
       "      <td>0.000982</td>\n",
       "      <td>0.001090</td>\n",
       "      <td>0.001105</td>\n",
       "      <td>0.001704</td>\n",
       "      <td>0.001688</td>\n",
       "      <td>0.001704</td>\n",
       "      <td>0.001903</td>\n",
       "      <td>0.001750</td>\n",
       "      <td>0.001811</td>\n",
       "      <td>0.002487</td>\n",
       "      <td>0.003469</td>\n",
       "      <td>0.005802</td>\n",
       "      <td>0.006232</td>\n",
       "      <td>0.009685</td>\n",
       "      <td>0.009931</td>\n",
       "      <td>0.036914</td>\n",
       "      <td>0.039002</td>\n",
       "      <td>0.161471</td>\n",
       "    </tr>\n",
       "    <tr>\n",
       "      <th>1</th>\n",
       "      <td>0.000000</td>\n",
       "      <td>0.000000</td>\n",
       "      <td>0.0</td>\n",
       "      <td>0.0</td>\n",
       "      <td>0.0</td>\n",
       "      <td>0.0</td>\n",
       "      <td>0.0</td>\n",
       "      <td>0.0</td>\n",
       "      <td>0.000015</td>\n",
       "      <td>0.000031</td>\n",
       "      <td>0.000015</td>\n",
       "      <td>0.000077</td>\n",
       "      <td>0.000138</td>\n",
       "      <td>0.000092</td>\n",
       "      <td>0.000046</td>\n",
       "      <td>0.000153</td>\n",
       "      <td>0.000246</td>\n",
       "      <td>0.000292</td>\n",
       "      <td>0.000246</td>\n",
       "      <td>0.000384</td>\n",
       "      <td>0.000844</td>\n",
       "      <td>0.001059</td>\n",
       "      <td>0.000998</td>\n",
       "      <td>0.001381</td>\n",
       "      <td>0.001750</td>\n",
       "      <td>0.001919</td>\n",
       "      <td>0.001688</td>\n",
       "      <td>0.002471</td>\n",
       "      <td>0.002471</td>\n",
       "      <td>0.002471</td>\n",
       "      <td>0.003684</td>\n",
       "      <td>0.005510</td>\n",
       "      <td>0.006216</td>\n",
       "      <td>0.009163</td>\n",
       "      <td>0.010483</td>\n",
       "      <td>0.036745</td>\n",
       "      <td>0.038894</td>\n",
       "      <td>0.160120</td>\n",
       "    </tr>\n",
       "    <tr>\n",
       "      <th>2</th>\n",
       "      <td>-0.000077</td>\n",
       "      <td>0.000046</td>\n",
       "      <td>0.0</td>\n",
       "      <td>0.0</td>\n",
       "      <td>0.0</td>\n",
       "      <td>0.0</td>\n",
       "      <td>0.0</td>\n",
       "      <td>0.0</td>\n",
       "      <td>0.000000</td>\n",
       "      <td>0.000031</td>\n",
       "      <td>-0.000015</td>\n",
       "      <td>0.000077</td>\n",
       "      <td>0.000107</td>\n",
       "      <td>0.000169</td>\n",
       "      <td>0.000107</td>\n",
       "      <td>0.000169</td>\n",
       "      <td>0.000215</td>\n",
       "      <td>0.000138</td>\n",
       "      <td>0.000230</td>\n",
       "      <td>0.000322</td>\n",
       "      <td>0.000921</td>\n",
       "      <td>0.001120</td>\n",
       "      <td>0.000998</td>\n",
       "      <td>0.000998</td>\n",
       "      <td>0.001259</td>\n",
       "      <td>0.001704</td>\n",
       "      <td>0.001120</td>\n",
       "      <td>0.001366</td>\n",
       "      <td>0.002057</td>\n",
       "      <td>0.002579</td>\n",
       "      <td>0.003699</td>\n",
       "      <td>0.005679</td>\n",
       "      <td>0.005863</td>\n",
       "      <td>0.009977</td>\n",
       "      <td>0.010268</td>\n",
       "      <td>0.037022</td>\n",
       "      <td>0.038910</td>\n",
       "      <td>0.162638</td>\n",
       "    </tr>\n",
       "    <tr>\n",
       "      <th>3</th>\n",
       "      <td>-0.000031</td>\n",
       "      <td>-0.000046</td>\n",
       "      <td>0.0</td>\n",
       "      <td>0.0</td>\n",
       "      <td>0.0</td>\n",
       "      <td>0.0</td>\n",
       "      <td>0.0</td>\n",
       "      <td>0.0</td>\n",
       "      <td>0.000000</td>\n",
       "      <td>-0.000061</td>\n",
       "      <td>0.000107</td>\n",
       "      <td>0.000061</td>\n",
       "      <td>0.000307</td>\n",
       "      <td>0.000123</td>\n",
       "      <td>0.000092</td>\n",
       "      <td>0.000123</td>\n",
       "      <td>0.000246</td>\n",
       "      <td>0.000215</td>\n",
       "      <td>0.000215</td>\n",
       "      <td>0.000292</td>\n",
       "      <td>0.000660</td>\n",
       "      <td>0.001167</td>\n",
       "      <td>0.001120</td>\n",
       "      <td>0.001811</td>\n",
       "      <td>0.001642</td>\n",
       "      <td>0.001919</td>\n",
       "      <td>0.002118</td>\n",
       "      <td>0.001734</td>\n",
       "      <td>0.001995</td>\n",
       "      <td>0.002625</td>\n",
       "      <td>0.004313</td>\n",
       "      <td>0.006815</td>\n",
       "      <td>0.006769</td>\n",
       "      <td>0.009670</td>\n",
       "      <td>0.009685</td>\n",
       "      <td>0.036224</td>\n",
       "      <td>0.038572</td>\n",
       "      <td>0.160811</td>\n",
       "    </tr>\n",
       "    <tr>\n",
       "      <th>4</th>\n",
       "      <td>-0.000092</td>\n",
       "      <td>0.000000</td>\n",
       "      <td>0.0</td>\n",
       "      <td>0.0</td>\n",
       "      <td>0.0</td>\n",
       "      <td>0.0</td>\n",
       "      <td>0.0</td>\n",
       "      <td>0.0</td>\n",
       "      <td>0.000046</td>\n",
       "      <td>0.000092</td>\n",
       "      <td>0.000046</td>\n",
       "      <td>0.000061</td>\n",
       "      <td>-0.000031</td>\n",
       "      <td>0.000169</td>\n",
       "      <td>0.000292</td>\n",
       "      <td>0.000169</td>\n",
       "      <td>0.000169</td>\n",
       "      <td>0.000292</td>\n",
       "      <td>0.000215</td>\n",
       "      <td>0.000230</td>\n",
       "      <td>0.000952</td>\n",
       "      <td>0.000844</td>\n",
       "      <td>0.001105</td>\n",
       "      <td>0.001596</td>\n",
       "      <td>0.002026</td>\n",
       "      <td>0.001059</td>\n",
       "      <td>0.001366</td>\n",
       "      <td>0.002118</td>\n",
       "      <td>0.001873</td>\n",
       "      <td>0.002579</td>\n",
       "      <td>0.003530</td>\n",
       "      <td>0.006401</td>\n",
       "      <td>0.007245</td>\n",
       "      <td>0.010238</td>\n",
       "      <td>0.010130</td>\n",
       "      <td>0.033676</td>\n",
       "      <td>0.037191</td>\n",
       "      <td>0.161456</td>\n",
       "    </tr>\n",
       "    <tr>\n",
       "      <th>5</th>\n",
       "      <td>-0.000031</td>\n",
       "      <td>-0.000015</td>\n",
       "      <td>0.0</td>\n",
       "      <td>0.0</td>\n",
       "      <td>0.0</td>\n",
       "      <td>0.0</td>\n",
       "      <td>0.0</td>\n",
       "      <td>0.0</td>\n",
       "      <td>-0.000015</td>\n",
       "      <td>-0.000092</td>\n",
       "      <td>0.000092</td>\n",
       "      <td>0.000061</td>\n",
       "      <td>0.000384</td>\n",
       "      <td>0.000153</td>\n",
       "      <td>0.000184</td>\n",
       "      <td>0.000169</td>\n",
       "      <td>0.000230</td>\n",
       "      <td>0.000123</td>\n",
       "      <td>0.000399</td>\n",
       "      <td>0.000353</td>\n",
       "      <td>0.000829</td>\n",
       "      <td>0.001120</td>\n",
       "      <td>0.000829</td>\n",
       "      <td>0.001458</td>\n",
       "      <td>0.001474</td>\n",
       "      <td>0.001658</td>\n",
       "      <td>0.001458</td>\n",
       "      <td>0.002118</td>\n",
       "      <td>0.001780</td>\n",
       "      <td>0.002364</td>\n",
       "      <td>0.003300</td>\n",
       "      <td>0.006262</td>\n",
       "      <td>0.006017</td>\n",
       "      <td>0.010361</td>\n",
       "      <td>0.010606</td>\n",
       "      <td>0.036684</td>\n",
       "      <td>0.039431</td>\n",
       "      <td>0.159384</td>\n",
       "    </tr>\n",
       "    <tr>\n",
       "      <th>6</th>\n",
       "      <td>-0.000184</td>\n",
       "      <td>0.000015</td>\n",
       "      <td>0.0</td>\n",
       "      <td>0.0</td>\n",
       "      <td>0.0</td>\n",
       "      <td>0.0</td>\n",
       "      <td>0.0</td>\n",
       "      <td>0.0</td>\n",
       "      <td>0.000031</td>\n",
       "      <td>0.000061</td>\n",
       "      <td>-0.000015</td>\n",
       "      <td>0.000046</td>\n",
       "      <td>0.000092</td>\n",
       "      <td>0.000138</td>\n",
       "      <td>0.000123</td>\n",
       "      <td>0.000261</td>\n",
       "      <td>0.000215</td>\n",
       "      <td>0.000153</td>\n",
       "      <td>0.000384</td>\n",
       "      <td>0.000460</td>\n",
       "      <td>0.000721</td>\n",
       "      <td>0.001151</td>\n",
       "      <td>0.001028</td>\n",
       "      <td>0.001412</td>\n",
       "      <td>0.001090</td>\n",
       "      <td>0.001673</td>\n",
       "      <td>0.001581</td>\n",
       "      <td>0.001612</td>\n",
       "      <td>0.002625</td>\n",
       "      <td>0.002548</td>\n",
       "      <td>0.003254</td>\n",
       "      <td>0.005787</td>\n",
       "      <td>0.005833</td>\n",
       "      <td>0.009394</td>\n",
       "      <td>0.009885</td>\n",
       "      <td>0.036239</td>\n",
       "      <td>0.037359</td>\n",
       "      <td>0.160596</td>\n",
       "    </tr>\n",
       "    <tr>\n",
       "      <th>7</th>\n",
       "      <td>-0.000015</td>\n",
       "      <td>-0.000031</td>\n",
       "      <td>0.0</td>\n",
       "      <td>0.0</td>\n",
       "      <td>0.0</td>\n",
       "      <td>0.0</td>\n",
       "      <td>0.0</td>\n",
       "      <td>0.0</td>\n",
       "      <td>-0.000015</td>\n",
       "      <td>-0.000061</td>\n",
       "      <td>0.000031</td>\n",
       "      <td>0.000077</td>\n",
       "      <td>-0.000169</td>\n",
       "      <td>0.000123</td>\n",
       "      <td>0.000200</td>\n",
       "      <td>0.000184</td>\n",
       "      <td>0.000215</td>\n",
       "      <td>0.000292</td>\n",
       "      <td>0.000368</td>\n",
       "      <td>0.000522</td>\n",
       "      <td>0.001243</td>\n",
       "      <td>0.000844</td>\n",
       "      <td>0.001044</td>\n",
       "      <td>0.001320</td>\n",
       "      <td>0.001458</td>\n",
       "      <td>0.001366</td>\n",
       "      <td>0.001704</td>\n",
       "      <td>0.001320</td>\n",
       "      <td>0.001535</td>\n",
       "      <td>0.002471</td>\n",
       "      <td>0.003668</td>\n",
       "      <td>0.006769</td>\n",
       "      <td>0.007352</td>\n",
       "      <td>0.009010</td>\n",
       "      <td>0.010637</td>\n",
       "      <td>0.036224</td>\n",
       "      <td>0.041534</td>\n",
       "      <td>0.160550</td>\n",
       "    </tr>\n",
       "    <tr>\n",
       "      <th>8</th>\n",
       "      <td>-0.000107</td>\n",
       "      <td>-0.000015</td>\n",
       "      <td>0.0</td>\n",
       "      <td>0.0</td>\n",
       "      <td>0.0</td>\n",
       "      <td>0.0</td>\n",
       "      <td>0.0</td>\n",
       "      <td>0.0</td>\n",
       "      <td>0.000000</td>\n",
       "      <td>0.000046</td>\n",
       "      <td>0.000077</td>\n",
       "      <td>0.000061</td>\n",
       "      <td>-0.000046</td>\n",
       "      <td>0.000092</td>\n",
       "      <td>0.000292</td>\n",
       "      <td>0.000200</td>\n",
       "      <td>0.000230</td>\n",
       "      <td>0.000200</td>\n",
       "      <td>0.000307</td>\n",
       "      <td>0.000246</td>\n",
       "      <td>0.000921</td>\n",
       "      <td>0.000737</td>\n",
       "      <td>0.001074</td>\n",
       "      <td>0.001581</td>\n",
       "      <td>0.001550</td>\n",
       "      <td>0.001351</td>\n",
       "      <td>0.001627</td>\n",
       "      <td>0.002195</td>\n",
       "      <td>0.001796</td>\n",
       "      <td>0.002287</td>\n",
       "      <td>0.003592</td>\n",
       "      <td>0.006262</td>\n",
       "      <td>0.006569</td>\n",
       "      <td>0.009701</td>\n",
       "      <td>0.010146</td>\n",
       "      <td>0.037375</td>\n",
       "      <td>0.037590</td>\n",
       "      <td>0.161855</td>\n",
       "    </tr>\n",
       "    <tr>\n",
       "      <th>9</th>\n",
       "      <td>0.000123</td>\n",
       "      <td>0.000000</td>\n",
       "      <td>0.0</td>\n",
       "      <td>0.0</td>\n",
       "      <td>0.0</td>\n",
       "      <td>0.0</td>\n",
       "      <td>0.0</td>\n",
       "      <td>0.0</td>\n",
       "      <td>-0.000015</td>\n",
       "      <td>0.000031</td>\n",
       "      <td>-0.000015</td>\n",
       "      <td>0.000061</td>\n",
       "      <td>0.000153</td>\n",
       "      <td>0.000123</td>\n",
       "      <td>0.000215</td>\n",
       "      <td>0.000184</td>\n",
       "      <td>0.000215</td>\n",
       "      <td>0.000399</td>\n",
       "      <td>0.000061</td>\n",
       "      <td>0.000307</td>\n",
       "      <td>0.000583</td>\n",
       "      <td>0.001105</td>\n",
       "      <td>0.001013</td>\n",
       "      <td>0.001228</td>\n",
       "      <td>0.001259</td>\n",
       "      <td>0.001627</td>\n",
       "      <td>0.001673</td>\n",
       "      <td>0.002180</td>\n",
       "      <td>0.001888</td>\n",
       "      <td>0.002256</td>\n",
       "      <td>0.003361</td>\n",
       "      <td>0.006078</td>\n",
       "      <td>0.006646</td>\n",
       "      <td>0.009102</td>\n",
       "      <td>0.010038</td>\n",
       "      <td>0.036960</td>\n",
       "      <td>0.037590</td>\n",
       "      <td>0.158140</td>\n",
       "    </tr>\n",
       "  </tbody>\n",
       "</table>\n",
       "</div>"
      ],
      "text/plain": [
       "   has_superstructure_rc_non_engineered  has_superstructure_cement_mortar_stone  has_secondary_use_use_police  has_secondary_use_gov_office  has_secondary_use_health_post  has_secondary_use_industry  has_secondary_use_school  has_secondary_use_institution  has_secondary_use_other  plan_configuration  has_secondary_use_hotel  has_secondary_use_rental  position  has_superstructure_rc_engineered  has_secondary_use_agriculture  has_superstructure_other  legal_ownership_status  has_superstructure_bamboo  land_surface_condition  has_superstructure_mud_mortar_brick  has_secondary_use  has_superstructure_timber  count_families  has_superstructure_cement_mortar_brick  ground_floor_type  has_superstructure_adobe_mud  count_floors_pre_eq  height_percentage  area_percentage  has_superstructure_stone_flag  other_floor_type  geo_level_3_id  roof_type       age  foundation_type  geo_level_2_id  has_superstructure_mud_mortar_stone  geo_level_1_id\n",
       "0                              0.000015                               -0.000077                           0.0                           0.0                            0.0                         0.0                       0.0                            0.0                -0.000015           -0.000031                 0.000000                  0.000061  0.000200                          0.000107                       0.000138                  0.000230                0.000261                   0.000184                0.000230                             0.000338           0.000982                   0.001090        0.001105                                0.001704           0.001688                      0.001704             0.001903           0.001750         0.001811                       0.002487          0.003469        0.005802   0.006232  0.009685         0.009931        0.036914                             0.039002        0.161471\n",
       "1                              0.000000                                0.000000                           0.0                           0.0                            0.0                         0.0                       0.0                            0.0                 0.000015            0.000031                 0.000015                  0.000077  0.000138                          0.000092                       0.000046                  0.000153                0.000246                   0.000292                0.000246                             0.000384           0.000844                   0.001059        0.000998                                0.001381           0.001750                      0.001919             0.001688           0.002471         0.002471                       0.002471          0.003684        0.005510   0.006216  0.009163         0.010483        0.036745                             0.038894        0.160120\n",
       "2                             -0.000077                                0.000046                           0.0                           0.0                            0.0                         0.0                       0.0                            0.0                 0.000000            0.000031                -0.000015                  0.000077  0.000107                          0.000169                       0.000107                  0.000169                0.000215                   0.000138                0.000230                             0.000322           0.000921                   0.001120        0.000998                                0.000998           0.001259                      0.001704             0.001120           0.001366         0.002057                       0.002579          0.003699        0.005679   0.005863  0.009977         0.010268        0.037022                             0.038910        0.162638\n",
       "3                             -0.000031                               -0.000046                           0.0                           0.0                            0.0                         0.0                       0.0                            0.0                 0.000000           -0.000061                 0.000107                  0.000061  0.000307                          0.000123                       0.000092                  0.000123                0.000246                   0.000215                0.000215                             0.000292           0.000660                   0.001167        0.001120                                0.001811           0.001642                      0.001919             0.002118           0.001734         0.001995                       0.002625          0.004313        0.006815   0.006769  0.009670         0.009685        0.036224                             0.038572        0.160811\n",
       "4                             -0.000092                                0.000000                           0.0                           0.0                            0.0                         0.0                       0.0                            0.0                 0.000046            0.000092                 0.000046                  0.000061 -0.000031                          0.000169                       0.000292                  0.000169                0.000169                   0.000292                0.000215                             0.000230           0.000952                   0.000844        0.001105                                0.001596           0.002026                      0.001059             0.001366           0.002118         0.001873                       0.002579          0.003530        0.006401   0.007245  0.010238         0.010130        0.033676                             0.037191        0.161456\n",
       "5                             -0.000031                               -0.000015                           0.0                           0.0                            0.0                         0.0                       0.0                            0.0                -0.000015           -0.000092                 0.000092                  0.000061  0.000384                          0.000153                       0.000184                  0.000169                0.000230                   0.000123                0.000399                             0.000353           0.000829                   0.001120        0.000829                                0.001458           0.001474                      0.001658             0.001458           0.002118         0.001780                       0.002364          0.003300        0.006262   0.006017  0.010361         0.010606        0.036684                             0.039431        0.159384\n",
       "6                             -0.000184                                0.000015                           0.0                           0.0                            0.0                         0.0                       0.0                            0.0                 0.000031            0.000061                -0.000015                  0.000046  0.000092                          0.000138                       0.000123                  0.000261                0.000215                   0.000153                0.000384                             0.000460           0.000721                   0.001151        0.001028                                0.001412           0.001090                      0.001673             0.001581           0.001612         0.002625                       0.002548          0.003254        0.005787   0.005833  0.009394         0.009885        0.036239                             0.037359        0.160596\n",
       "7                             -0.000015                               -0.000031                           0.0                           0.0                            0.0                         0.0                       0.0                            0.0                -0.000015           -0.000061                 0.000031                  0.000077 -0.000169                          0.000123                       0.000200                  0.000184                0.000215                   0.000292                0.000368                             0.000522           0.001243                   0.000844        0.001044                                0.001320           0.001458                      0.001366             0.001704           0.001320         0.001535                       0.002471          0.003668        0.006769   0.007352  0.009010         0.010637        0.036224                             0.041534        0.160550\n",
       "8                             -0.000107                               -0.000015                           0.0                           0.0                            0.0                         0.0                       0.0                            0.0                 0.000000            0.000046                 0.000077                  0.000061 -0.000046                          0.000092                       0.000292                  0.000200                0.000230                   0.000200                0.000307                             0.000246           0.000921                   0.000737        0.001074                                0.001581           0.001550                      0.001351             0.001627           0.002195         0.001796                       0.002287          0.003592        0.006262   0.006569  0.009701         0.010146        0.037375                             0.037590        0.161855\n",
       "9                              0.000123                                0.000000                           0.0                           0.0                            0.0                         0.0                       0.0                            0.0                -0.000015            0.000031                -0.000015                  0.000061  0.000153                          0.000123                       0.000215                  0.000184                0.000215                   0.000399                0.000061                             0.000307           0.000583                   0.001105        0.001013                                0.001228           0.001259                      0.001627             0.001673           0.002180         0.001888                       0.002256          0.003361        0.006078   0.006646  0.009102         0.010038        0.036960                             0.037590        0.158140"
      ]
     },
     "execution_count": 83,
     "metadata": {},
     "output_type": "execute_result"
    }
   ],
   "source": [
    "imp_df"
   ]
  },
  {
   "cell_type": "code",
   "execution_count": 84,
   "id": "2bb4b3fa",
   "metadata": {},
   "outputs": [
    {
     "data": {
      "text/plain": [
       "<AxesSubplot:>"
      ]
     },
     "execution_count": 84,
     "metadata": {},
     "output_type": "execute_result"
    },
    {
     "data": {
      "image/png": "[encoded data removed]",
      "text/plain": [
       "<Figure size 432x288 with 1 Axes>"
      ]
     },
     "metadata": {
      "needs_background": "light"
     },
     "output_type": "display_data"
    }
   ],
   "source": [
    "#draw a boxplot\n",
    "\n",
    "imp_df.plot(kind = 'box', vert = False)"
   ]
  },
  {
   "cell_type": "code",
   "execution_count": 85,
   "id": "524782f9",
   "metadata": {},
   "outputs": [
    {
     "data": {
      "text/plain": [
       "<AxesSubplot:>"
      ]
     },
     "execution_count": 85,
     "metadata": {},
     "output_type": "execute_result"
    },
    {
     "data": {
      "image/png": "[encoded data removed]",
      "text/plain": [
       "<Figure size 432x288 with 1 Axes>"
      ]
     },
     "metadata": {
      "needs_background": "light"
     },
     "output_type": "display_data"
    }
   ],
   "source": [
    "#draw a boxplot -- first 10 features\n",
    "\n",
    "imp_df.iloc[:, :10].plot(kind = 'box', vert = False)"
   ]
  },
  {
   "cell_type": "code",
   "execution_count": 86,
   "id": "0a95e509",
   "metadata": {},
   "outputs": [
    {
     "data": {
      "text/plain": [
       "<AxesSubplot:>"
      ]
     },
     "execution_count": 86,
     "metadata": {},
     "output_type": "execute_result"
    },
    {
     "data": {
      "image/png": "[encoded data removed]",
      "text/plain": [
       "<Figure size 432x288 with 1 Axes>"
      ]
     },
     "metadata": {
      "needs_background": "light"
     },
     "output_type": "display_data"
    }
   ],
   "source": [
    "# next 10 features\n",
    "\n",
    "imp_df.iloc[:, 10:20].plot(kind = 'box', vert = False)"
   ]
  },
  {
   "cell_type": "code",
   "execution_count": 87,
   "id": "fa963634",
   "metadata": {},
   "outputs": [
    {
     "data": {
      "text/plain": [
       "<AxesSubplot:>"
      ]
     },
     "execution_count": 87,
     "metadata": {},
     "output_type": "execute_result"
    },
    {
     "data": {
      "image/png": "[encoded data removed]",
      "text/plain": [
       "<Figure size 432x288 with 1 Axes>"
      ]
     },
     "metadata": {
      "needs_background": "light"
     },
     "output_type": "display_data"
    }
   ],
   "source": [
    "# next 10 features\n",
    "\n",
    "imp_df.iloc[:, 20:30].plot(kind = 'box', vert = False)"
   ]
  },
  {
   "cell_type": "code",
   "execution_count": 88,
   "id": "ef6aec4c",
   "metadata": {},
   "outputs": [
    {
     "data": {
      "text/plain": [
       "<AxesSubplot:>"
      ]
     },
     "execution_count": 88,
     "metadata": {},
     "output_type": "execute_result"
    },
    {
     "data": {
      "image/png": "[encoded data removed]",
      "text/plain": [
       "<Figure size 432x288 with 1 Axes>"
      ]
     },
     "metadata": {
      "needs_background": "light"
     },
     "output_type": "display_data"
    }
   ],
   "source": [
    "# last 8 features\n",
    "\n",
    "imp_df.iloc[:, 30:-1].plot(kind = 'box', vert = False)"
   ]
  },
  {
   "cell_type": "markdown",
   "id": "1592ac87",
   "metadata": {},
   "source": [
    "- A lot of variation in many features, for example 'position', 'area_percentage' and several 'has_superstructure' features --> least important features?\n",
    "- Least variation:\n",
    "\t- foundation_type, age, roof_type, geo_level_3_id, other_floor_type\n",
    "\t- has_secondary_use_rental, count_families, legal_ownership_status"
   ]
  },
  {
   "cell_type": "markdown",
   "id": "a17607de",
   "metadata": {},
   "source": [
    "**--> Brief Interpretation (BEST MODEL)**\n",
    "\n",
    "**Defining Random Forest Classifier:** Exposes different decision trees to different sub-samples of the training data, selecting random subsets of the features at each split point of the tree.\n",
    "\n",
    "**Rationale:** Our group decided to model against all types of classification models and parameters to see which combination of model + parameter generates the highest accuracy score against the test data.\n",
    "\n",
    "**Model Score:** This model can classify the earthquake damage grade of a building with 70% accuracy, exceeding our baseline accuracy model of 56.89%. The model is slightly overfit, but overall the train and test scores are relatively consistent.\n",
    "\n",
    "**Feature Importances:** Based on the parameters used, the top 5 features that were most important to the model include 'geo_level_1_id', 'geo_level_2_id', 'geo_level_3_id', 'has_superstructure_mud_mortar_stone', and 'age'. However, for tree models, feature importances is bias towards continuous features, as there would be a larger range of values for the trees to split on. This leads to the model noting high importance for features, even when they're not that predictive of the target variable. So, we'll also take a look at permutation importances.\n",
    "\n",
    "**Permutation Importances:** The generated model changes the order and arrangement of values within each feature *n* times (n_repeats) and the shuffled feature that changes the score signifcantly will be noted as a more important feature. There was a lot of variation in many features, for example 'position', 'area_percentage' and several 'has_superstructure' features. This indicates that the importance of the feature is less certain. Some features with the least variation include 'foundation_type', 'age', 'roof_type', 'other_floor_type', 'count_families', 'legal_ownership_status'. Lower variation indicates that there is more confidence in the importance of the feature, as the score didn't vary as much based on the 10 iterations that were noted for *n_repeats*."
   ]
  },
  {
   "cell_type": "code",
   "execution_count": null,
   "id": "fabe271f",
   "metadata": {},
   "outputs": [],
   "source": []
  }
 ],
 "metadata": {
  "kernelspec": {
   "display_name": "Python 3",
   "language": "python",
   "name": "python3"
  },
  "language_info": {
   "codemirror_mode": {
    "name": "ipython",
    "version": 3
   },
   "file_extension": ".py",
   "mimetype": "text/x-python",
   "name": "python",
   "nbconvert_exporter": "python",
   "pygments_lexer": "ipython3",
   "version": "3.8.5"
  }
 },
 "nbformat": 4,
 "nbformat_minor": 5
}
