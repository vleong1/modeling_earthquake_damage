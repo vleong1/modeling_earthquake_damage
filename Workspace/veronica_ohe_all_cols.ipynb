{
 "cells": [
  {
   "cell_type": "code",
   "execution_count": 1,
   "metadata": {},
   "outputs": [],
   "source": [
    "import pandas as pd\n",
    "import numpy as np\n",
    "import seaborn as sns\n",
    "import matplotlib.pyplot as plt\n",
    "\n",
    "from sklearn.model_selection import train_test_split, cross_val_score, GridSearchCV\n",
    "from sklearn.preprocessing import StandardScaler, LabelEncoder, OrdinalEncoder\n",
    "from sklearn.pipeline import make_pipeline\n",
    "from category_encoders import OneHotEncoder\n",
    "from sklearn.metrics import f1_score, precision_score, recall_score\n",
    "\n",
    "from sklearn.linear_model import LogisticRegression\n",
    "from sklearn.experimental import enable_hist_gradient_boosting\n",
    "from sklearn.ensemble import AdaBoostClassifier, GradientBoostingClassifier, HistGradientBoostingClassifier, RandomForestClassifier, BaggingClassifier, ExtraTreesClassifier\n",
    "from sklearn.tree import DecisionTreeClassifier\n",
    "from sklearn.neighbors import KNeighborsClassifier\n",
    "from sklearn.feature_selection import RFE\n",
    "\n",
    "import warnings\n",
    "warnings.simplefilter(action='ignore', category=FutureWarning)"
   ]
  },
  {
   "cell_type": "code",
   "execution_count": 2,
   "metadata": {},
   "outputs": [],
   "source": [
    "# read in data\n",
    "\n",
    "train_values = pd.read_csv('data/Proj5_train_values.csv')\n",
    "train_labels = pd.read_csv('data/Proj5_train_labels.csv')"
   ]
  },
  {
   "cell_type": "markdown",
   "metadata": {},
   "source": [
    "## Modeling with 10% of data\n",
    "- For faster processing"
   ]
  },
  {
   "cell_type": "code",
   "execution_count": 3,
   "metadata": {},
   "outputs": [],
   "source": [
    "# grab first 10% of rows\n",
    "\n",
    "train_values_10pct = train_values.head(int(len(train_values) * 0.1))\n",
    "train_labels_10pct = train_labels.head(int(len(train_labels) * 0.1))"
   ]
  },
  {
   "cell_type": "markdown",
   "metadata": {},
   "source": [
    "#### Baseline + TTS"
   ]
  },
  {
   "cell_type": "code",
   "execution_count": 10,
   "metadata": {},
   "outputs": [
    {
     "data": {
      "text/plain": [
       "2    0.567421\n",
       "3    0.336109\n",
       "1    0.096470\n",
       "Name: damage_grade, dtype: float64"
      ]
     },
     "execution_count": 10,
     "metadata": {},
     "output_type": "execute_result"
    }
   ],
   "source": [
    "# baseline model\n",
    "\n",
    "train_labels_10pct['damage_grade'].value_counts(normalize = True)"
   ]
  },
  {
   "cell_type": "code",
   "execution_count": 4,
   "metadata": {},
   "outputs": [],
   "source": [
    "# establish X + y\n",
    "\n",
    "X = train_values_10pct.drop(columns = ['building_id'])\n",
    "y = train_labels_10pct['damage_grade']"
   ]
  },
  {
   "cell_type": "code",
   "execution_count": 5,
   "metadata": {},
   "outputs": [],
   "source": [
    "# tts\n",
    "\n",
    "X_train, X_test, y_train, y_test = train_test_split(X, y, stratify = y, random_state = 123)"
   ]
  },
  {
   "cell_type": "markdown",
   "metadata": {},
   "source": [
    "#### Modeling"
   ]
  },
  {
   "cell_type": "code",
   "execution_count": 6,
   "metadata": {},
   "outputs": [
    {
     "name": "stdout",
     "output_type": "stream",
     "text": [
      "Train Score: 0.7649015093374264\n",
      "Test Score: 0.6836531082118189\n"
     ]
    },
    {
     "data": {
      "text/plain": [
       "{'randomforestclassifier__max_depth': 11,\n",
       " 'randomforestclassifier__max_features': 35}"
      ]
     },
     "execution_count": 6,
     "metadata": {},
     "output_type": "execute_result"
    }
   ],
   "source": [
    "# Random Forest\n",
    "\n",
    "pipe_forest = make_pipeline(OneHotEncoder(use_cat_names = True), StandardScaler(), RandomForestClassifier(n_jobs = -1, random_state = 123))\n",
    "\n",
    "params = {'randomforestclassifier__max_depth' : [6, 7, 8, 9, 10, 11],\n",
    "          'randomforestclassifier__max_features' : [15, 20, 30, 35]}\n",
    "\n",
    "grid_forest = GridSearchCV(pipe_forest, param_grid = params)\n",
    "\n",
    "grid_forest.fit(X_train, y_train)\n",
    "\n",
    "print(f'Train Score: {grid_forest.score(X_train, y_train)}')\n",
    "print(f'Test Score: {grid_forest.score(X_test, y_test)}')\n",
    "\n",
    "grid_forest.best_params_"
   ]
  },
  {
   "cell_type": "code",
   "execution_count": 34,
   "metadata": {},
   "outputs": [
    {
     "data": {
      "text/html": [
       "<div>\n",
       "<style scoped>\n",
       "    .dataframe tbody tr th:only-of-type {\n",
       "        vertical-align: middle;\n",
       "    }\n",
       "\n",
       "    .dataframe tbody tr th {\n",
       "        vertical-align: top;\n",
       "    }\n",
       "\n",
       "    .dataframe thead th {\n",
       "        text-align: right;\n",
       "    }\n",
       "</style>\n",
       "<table border=\"1\" class=\"dataframe\">\n",
       "  <thead>\n",
       "    <tr style=\"text-align: right;\">\n",
       "      <th></th>\n",
       "      <th>importances</th>\n",
       "      <th>name</th>\n",
       "    </tr>\n",
       "  </thead>\n",
       "  <tbody>\n",
       "    <tr>\n",
       "      <th>0</th>\n",
       "      <td>0.322698</td>\n",
       "      <td>geo_level_1_id</td>\n",
       "    </tr>\n",
       "    <tr>\n",
       "      <th>1</th>\n",
       "      <td>0.091739</td>\n",
       "      <td>geo_level_2_id</td>\n",
       "    </tr>\n",
       "    <tr>\n",
       "      <th>2</th>\n",
       "      <td>0.076912</td>\n",
       "      <td>geo_level_3_id</td>\n",
       "    </tr>\n",
       "    <tr>\n",
       "      <th>10</th>\n",
       "      <td>0.064281</td>\n",
       "      <td>foundation_type_r</td>\n",
       "    </tr>\n",
       "    <tr>\n",
       "      <th>4</th>\n",
       "      <td>0.056407</td>\n",
       "      <td>age</td>\n",
       "    </tr>\n",
       "  </tbody>\n",
       "</table>\n",
       "</div>"
      ],
      "text/plain": [
       "    importances               name\n",
       "0      0.322698     geo_level_1_id\n",
       "1      0.091739     geo_level_2_id\n",
       "2      0.076912     geo_level_3_id\n",
       "10     0.064281  foundation_type_r\n",
       "4      0.056407                age"
      ]
     },
     "execution_count": 34,
     "metadata": {},
     "output_type": "execute_result"
    }
   ],
   "source": [
    "# grab feature importances\n",
    "\n",
    "forest_fi_df = pd.DataFrame({'importances': grid_forest.best_estimator_.named_steps['randomforestclassifier'].feature_importances_, \n",
    "                             'name': grid_forest.best_estimator_.named_steps['onehotencoder'].get_feature_names()}).sort_values('importances', ascending = False)\n",
    "forest_fi_df[:5]"
   ]
  },
  {
   "cell_type": "code",
   "execution_count": 37,
   "metadata": {},
   "outputs": [
    {
     "name": "stdout",
     "output_type": "stream",
     "text": [
      "68\n",
      "68\n"
     ]
    }
   ],
   "source": [
    "# test to ensure X_train.columns + feature_importances are same length\n",
    "\n",
    "print(len(grid_forest.best_estimator_.named_steps['randomforestclassifier'].feature_importances_))\n",
    "print(len(grid_forest.best_estimator_.named_steps['onehotencoder'].get_feature_names()))"
   ]
  },
  {
   "cell_type": "code",
   "execution_count": 7,
   "metadata": {},
   "outputs": [
    {
     "name": "stdout",
     "output_type": "stream",
     "text": [
      "Train Score: 0.7266820158608339\n",
      "Test Score: 0.664313123561013\n"
     ]
    },
    {
     "data": {
      "text/plain": [
       "{'extratreesclassifier__max_depth': 11,\n",
       " 'extratreesclassifier__max_features': 35}"
      ]
     },
     "execution_count": 7,
     "metadata": {},
     "output_type": "execute_result"
    }
   ],
   "source": [
    "# Extra Trees\n",
    "\n",
    "pipe_trees = make_pipeline(OneHotEncoder(use_cat_names = True), StandardScaler(), ExtraTreesClassifier(n_jobs = -1, random_state = 123))\n",
    "\n",
    "params = {'extratreesclassifier__max_depth' : [6, 7, 8, 9, 10, 11],\n",
    "          'extratreesclassifier__max_features' : [15, 20, 30, 35]}\n",
    "\n",
    "grid_trees = GridSearchCV(pipe_trees, param_grid = params)\n",
    "\n",
    "grid_trees.fit(X_train, y_train)\n",
    "\n",
    "print(f'Train Score: {grid_trees.score(X_train, y_train)}')\n",
    "print(f'Test Score: {grid_trees.score(X_test, y_test)}')\n",
    "\n",
    "grid_trees.best_params_"
   ]
  },
  {
   "cell_type": "code",
   "execution_count": 32,
   "metadata": {},
   "outputs": [
    {
     "data": {
      "text/html": [
       "<div>\n",
       "<style scoped>\n",
       "    .dataframe tbody tr th:only-of-type {\n",
       "        vertical-align: middle;\n",
       "    }\n",
       "\n",
       "    .dataframe tbody tr th {\n",
       "        vertical-align: top;\n",
       "    }\n",
       "\n",
       "    .dataframe thead th {\n",
       "        text-align: right;\n",
       "    }\n",
       "</style>\n",
       "<table border=\"1\" class=\"dataframe\">\n",
       "  <thead>\n",
       "    <tr style=\"text-align: right;\">\n",
       "      <th></th>\n",
       "      <th>importances</th>\n",
       "      <th>name</th>\n",
       "    </tr>\n",
       "  </thead>\n",
       "  <tbody>\n",
       "    <tr>\n",
       "      <th>0</th>\n",
       "      <td>0.286205</td>\n",
       "      <td>geo_level_1_id</td>\n",
       "    </tr>\n",
       "    <tr>\n",
       "      <th>10</th>\n",
       "      <td>0.118760</td>\n",
       "      <td>foundation_type_r</td>\n",
       "    </tr>\n",
       "    <tr>\n",
       "      <th>19</th>\n",
       "      <td>0.054393</td>\n",
       "      <td>ground_floor_type_v</td>\n",
       "    </tr>\n",
       "    <tr>\n",
       "      <th>42</th>\n",
       "      <td>0.041385</td>\n",
       "      <td>has_superstructure_mud_mortar_stone</td>\n",
       "    </tr>\n",
       "    <tr>\n",
       "      <th>1</th>\n",
       "      <td>0.026127</td>\n",
       "      <td>geo_level_2_id</td>\n",
       "    </tr>\n",
       "  </tbody>\n",
       "</table>\n",
       "</div>"
      ],
      "text/plain": [
       "    importances                                 name\n",
       "0      0.286205                       geo_level_1_id\n",
       "10     0.118760                    foundation_type_r\n",
       "19     0.054393                  ground_floor_type_v\n",
       "42     0.041385  has_superstructure_mud_mortar_stone\n",
       "1      0.026127                       geo_level_2_id"
      ]
     },
     "execution_count": 32,
     "metadata": {},
     "output_type": "execute_result"
    }
   ],
   "source": [
    "# grab feature importances\n",
    "\n",
    "trees_fi_df = pd.DataFrame({'importances': grid_trees.best_estimator_.named_steps['extratreesclassifier'].feature_importances_, \n",
    "                             'name': grid_trees.best_estimator_.named_steps['onehotencoder'].get_feature_names()}).sort_values('importances', ascending = False)\n",
    "trees_fi_df[:5]"
   ]
  },
  {
   "cell_type": "code",
   "execution_count": 31,
   "metadata": {},
   "outputs": [
    {
     "name": "stdout",
     "output_type": "stream",
     "text": [
      "68\n",
      "68\n"
     ]
    }
   ],
   "source": [
    "# test to ensure X_train.columns + feature_importances are same length\n",
    "\n",
    "print(len(grid_trees.best_estimator_.named_steps['extratreesclassifier'].feature_importances_))\n",
    "print(len(grid_trees.best_estimator_.named_steps['onehotencoder'].get_feature_names()))"
   ]
  },
  {
   "cell_type": "code",
   "execution_count": null,
   "metadata": {},
   "outputs": [],
   "source": []
  }
 ],
 "metadata": {
  "kernelspec": {
   "display_name": "Python 3",
   "language": "python",
   "name": "python3"
  },
  "language_info": {
   "codemirror_mode": {
    "name": "ipython",
    "version": 3
   },
   "file_extension": ".py",
   "mimetype": "text/x-python",
   "name": "python",
   "nbconvert_exporter": "python",
   "pygments_lexer": "ipython3",
   "version": "3.8.5"
  }
 },
 "nbformat": 4,
 "nbformat_minor": 4
}
