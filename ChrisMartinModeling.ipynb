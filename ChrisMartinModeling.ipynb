{
 "cells": [
  {
   "cell_type": "code",
   "execution_count": 1,
   "id": "4538becf",
   "metadata": {
    "id": "4538becf"
   },
   "outputs": [],
   "source": [
    "import pandas as pd\n",
    "import numpy as np\n",
    "from sklearn.preprocessing import StandardScaler, OneHotEncoder, LabelEncoder\n",
    "from sklearn.tree import DecisionTreeClassifier\n",
    "from sklearn.ensemble import BaggingClassifier, AdaBoostClassifier\n",
    "from sklearn.pipeline import make_pipeline\n",
    "from sklearn.model_selection import GridSearchCV, train_test_split\n",
    "from sklearn.metrics import f1_score"
   ]
  },
  {
   "cell_type": "code",
   "execution_count": 2,
   "id": "d893859b",
   "metadata": {
    "id": "d893859b"
   },
   "outputs": [],
   "source": [
    "#Set viewing options\n",
    "pd.set_option('display.max_columns', None)  \n",
    "pd.set_option('display.expand_frame_repr', False)\n",
    "pd.set_option('display.max_colwidth', None)"
   ]
  },
  {
   "cell_type": "code",
   "execution_count": 3,
   "id": "573a3bd7",
   "metadata": {
    "id": "573a3bd7"
   },
   "outputs": [],
   "source": [
    "# Read in data\n",
    "trainlabel = pd.read_csv('train_10pct_labels.csv')"
   ]
  },
  {
   "cell_type": "code",
   "execution_count": 4,
   "id": "41d2a64b",
   "metadata": {
    "id": "41d2a64b"
   },
   "outputs": [],
   "source": [
    "train = pd.read_csv('train_10pct.csv')"
   ]
  },
  {
   "cell_type": "code",
   "execution_count": 5,
   "id": "893e113c",
   "metadata": {
    "colab": {
     "base_uri": "https://localhost:8080/"
    },
    "id": "893e113c",
    "outputId": "f17e961a-b494-4656-a63c-19f1cb8a8941"
   },
   "outputs": [
    {
     "data": {
      "text/plain": [
       "(26059, 2)"
      ]
     },
     "execution_count": 5,
     "metadata": {},
     "output_type": "execute_result"
    }
   ],
   "source": [
    "trainlabel.shape"
   ]
  },
  {
   "cell_type": "code",
   "execution_count": 7,
   "id": "9b81baa6",
   "metadata": {
    "colab": {
     "base_uri": "https://localhost:8080/",
     "height": 224
    },
    "id": "9b81baa6",
    "outputId": "e1582e04-67db-4b3b-f05c-d704e4ede8cf"
   },
   "outputs": [
    {
     "data": {
      "text/html": [
       "<div>\n",
       "<style scoped>\n",
       "    .dataframe tbody tr th:only-of-type {\n",
       "        vertical-align: middle;\n",
       "    }\n",
       "\n",
       "    .dataframe tbody tr th {\n",
       "        vertical-align: top;\n",
       "    }\n",
       "\n",
       "    .dataframe thead th {\n",
       "        text-align: right;\n",
       "    }\n",
       "</style>\n",
       "<table border=\"1\" class=\"dataframe\">\n",
       "  <thead>\n",
       "    <tr style=\"text-align: right;\">\n",
       "      <th></th>\n",
       "      <th>building_id</th>\n",
       "      <th>geo_level_1_id</th>\n",
       "      <th>geo_level_2_id</th>\n",
       "      <th>geo_level_3_id</th>\n",
       "      <th>count_floors_pre_eq</th>\n",
       "      <th>age</th>\n",
       "      <th>area_percentage</th>\n",
       "      <th>height_percentage</th>\n",
       "      <th>land_surface_condition</th>\n",
       "      <th>foundation_type</th>\n",
       "      <th>roof_type</th>\n",
       "      <th>ground_floor_type</th>\n",
       "      <th>other_floor_type</th>\n",
       "      <th>position</th>\n",
       "      <th>plan_configuration</th>\n",
       "      <th>has_superstructure_adobe_mud</th>\n",
       "      <th>has_superstructure_mud_mortar_stone</th>\n",
       "      <th>has_superstructure_stone_flag</th>\n",
       "      <th>has_superstructure_cement_mortar_stone</th>\n",
       "      <th>has_superstructure_mud_mortar_brick</th>\n",
       "      <th>has_superstructure_cement_mortar_brick</th>\n",
       "      <th>has_superstructure_timber</th>\n",
       "      <th>has_superstructure_bamboo</th>\n",
       "      <th>has_superstructure_rc_non_engineered</th>\n",
       "      <th>has_superstructure_rc_engineered</th>\n",
       "      <th>has_superstructure_other</th>\n",
       "      <th>legal_ownership_status</th>\n",
       "      <th>count_families</th>\n",
       "      <th>has_secondary_use</th>\n",
       "      <th>has_secondary_use_agriculture</th>\n",
       "      <th>has_secondary_use_hotel</th>\n",
       "      <th>has_secondary_use_rental</th>\n",
       "      <th>has_secondary_use_institution</th>\n",
       "      <th>has_secondary_use_school</th>\n",
       "      <th>has_secondary_use_industry</th>\n",
       "      <th>has_secondary_use_health_post</th>\n",
       "      <th>has_secondary_use_gov_office</th>\n",
       "      <th>has_secondary_use_use_police</th>\n",
       "      <th>has_secondary_use_other</th>\n",
       "    </tr>\n",
       "  </thead>\n",
       "  <tbody>\n",
       "    <tr>\n",
       "      <th>0</th>\n",
       "      <td>802906</td>\n",
       "      <td>6</td>\n",
       "      <td>487</td>\n",
       "      <td>12198</td>\n",
       "      <td>2</td>\n",
       "      <td>30</td>\n",
       "      <td>6</td>\n",
       "      <td>5</td>\n",
       "      <td>t</td>\n",
       "      <td>r</td>\n",
       "      <td>n</td>\n",
       "      <td>f</td>\n",
       "      <td>q</td>\n",
       "      <td>t</td>\n",
       "      <td>d</td>\n",
       "      <td>1</td>\n",
       "      <td>1</td>\n",
       "      <td>0</td>\n",
       "      <td>0</td>\n",
       "      <td>0</td>\n",
       "      <td>0</td>\n",
       "      <td>0</td>\n",
       "      <td>0</td>\n",
       "      <td>0</td>\n",
       "      <td>0</td>\n",
       "      <td>0</td>\n",
       "      <td>v</td>\n",
       "      <td>1</td>\n",
       "      <td>0</td>\n",
       "      <td>0</td>\n",
       "      <td>0</td>\n",
       "      <td>0</td>\n",
       "      <td>0</td>\n",
       "      <td>0</td>\n",
       "      <td>0</td>\n",
       "      <td>0</td>\n",
       "      <td>0</td>\n",
       "      <td>0</td>\n",
       "      <td>0</td>\n",
       "    </tr>\n",
       "    <tr>\n",
       "      <th>1</th>\n",
       "      <td>28830</td>\n",
       "      <td>8</td>\n",
       "      <td>900</td>\n",
       "      <td>2812</td>\n",
       "      <td>2</td>\n",
       "      <td>10</td>\n",
       "      <td>8</td>\n",
       "      <td>7</td>\n",
       "      <td>o</td>\n",
       "      <td>r</td>\n",
       "      <td>n</td>\n",
       "      <td>x</td>\n",
       "      <td>q</td>\n",
       "      <td>s</td>\n",
       "      <td>d</td>\n",
       "      <td>0</td>\n",
       "      <td>1</td>\n",
       "      <td>0</td>\n",
       "      <td>0</td>\n",
       "      <td>0</td>\n",
       "      <td>0</td>\n",
       "      <td>0</td>\n",
       "      <td>0</td>\n",
       "      <td>0</td>\n",
       "      <td>0</td>\n",
       "      <td>0</td>\n",
       "      <td>v</td>\n",
       "      <td>1</td>\n",
       "      <td>0</td>\n",
       "      <td>0</td>\n",
       "      <td>0</td>\n",
       "      <td>0</td>\n",
       "      <td>0</td>\n",
       "      <td>0</td>\n",
       "      <td>0</td>\n",
       "      <td>0</td>\n",
       "      <td>0</td>\n",
       "      <td>0</td>\n",
       "      <td>0</td>\n",
       "    </tr>\n",
       "    <tr>\n",
       "      <th>2</th>\n",
       "      <td>94947</td>\n",
       "      <td>21</td>\n",
       "      <td>363</td>\n",
       "      <td>8973</td>\n",
       "      <td>2</td>\n",
       "      <td>10</td>\n",
       "      <td>5</td>\n",
       "      <td>5</td>\n",
       "      <td>t</td>\n",
       "      <td>r</td>\n",
       "      <td>n</td>\n",
       "      <td>f</td>\n",
       "      <td>x</td>\n",
       "      <td>t</td>\n",
       "      <td>d</td>\n",
       "      <td>0</td>\n",
       "      <td>1</td>\n",
       "      <td>0</td>\n",
       "      <td>0</td>\n",
       "      <td>0</td>\n",
       "      <td>0</td>\n",
       "      <td>0</td>\n",
       "      <td>0</td>\n",
       "      <td>0</td>\n",
       "      <td>0</td>\n",
       "      <td>0</td>\n",
       "      <td>v</td>\n",
       "      <td>1</td>\n",
       "      <td>0</td>\n",
       "      <td>0</td>\n",
       "      <td>0</td>\n",
       "      <td>0</td>\n",
       "      <td>0</td>\n",
       "      <td>0</td>\n",
       "      <td>0</td>\n",
       "      <td>0</td>\n",
       "      <td>0</td>\n",
       "      <td>0</td>\n",
       "      <td>0</td>\n",
       "    </tr>\n",
       "    <tr>\n",
       "      <th>3</th>\n",
       "      <td>590882</td>\n",
       "      <td>22</td>\n",
       "      <td>418</td>\n",
       "      <td>10694</td>\n",
       "      <td>2</td>\n",
       "      <td>10</td>\n",
       "      <td>6</td>\n",
       "      <td>5</td>\n",
       "      <td>t</td>\n",
       "      <td>r</td>\n",
       "      <td>n</td>\n",
       "      <td>f</td>\n",
       "      <td>x</td>\n",
       "      <td>s</td>\n",
       "      <td>d</td>\n",
       "      <td>0</td>\n",
       "      <td>1</td>\n",
       "      <td>0</td>\n",
       "      <td>0</td>\n",
       "      <td>0</td>\n",
       "      <td>0</td>\n",
       "      <td>1</td>\n",
       "      <td>1</td>\n",
       "      <td>0</td>\n",
       "      <td>0</td>\n",
       "      <td>0</td>\n",
       "      <td>v</td>\n",
       "      <td>1</td>\n",
       "      <td>0</td>\n",
       "      <td>0</td>\n",
       "      <td>0</td>\n",
       "      <td>0</td>\n",
       "      <td>0</td>\n",
       "      <td>0</td>\n",
       "      <td>0</td>\n",
       "      <td>0</td>\n",
       "      <td>0</td>\n",
       "      <td>0</td>\n",
       "      <td>0</td>\n",
       "    </tr>\n",
       "    <tr>\n",
       "      <th>4</th>\n",
       "      <td>201944</td>\n",
       "      <td>11</td>\n",
       "      <td>131</td>\n",
       "      <td>1488</td>\n",
       "      <td>3</td>\n",
       "      <td>30</td>\n",
       "      <td>8</td>\n",
       "      <td>9</td>\n",
       "      <td>t</td>\n",
       "      <td>r</td>\n",
       "      <td>n</td>\n",
       "      <td>f</td>\n",
       "      <td>x</td>\n",
       "      <td>s</td>\n",
       "      <td>d</td>\n",
       "      <td>1</td>\n",
       "      <td>0</td>\n",
       "      <td>0</td>\n",
       "      <td>0</td>\n",
       "      <td>0</td>\n",
       "      <td>0</td>\n",
       "      <td>0</td>\n",
       "      <td>0</td>\n",
       "      <td>0</td>\n",
       "      <td>0</td>\n",
       "      <td>0</td>\n",
       "      <td>v</td>\n",
       "      <td>1</td>\n",
       "      <td>0</td>\n",
       "      <td>0</td>\n",
       "      <td>0</td>\n",
       "      <td>0</td>\n",
       "      <td>0</td>\n",
       "      <td>0</td>\n",
       "      <td>0</td>\n",
       "      <td>0</td>\n",
       "      <td>0</td>\n",
       "      <td>0</td>\n",
       "      <td>0</td>\n",
       "    </tr>\n",
       "  </tbody>\n",
       "</table>\n",
       "</div>"
      ],
      "text/plain": [
       "   building_id  geo_level_1_id  geo_level_2_id  geo_level_3_id  count_floors_pre_eq  age  area_percentage  height_percentage land_surface_condition foundation_type roof_type ground_floor_type other_floor_type position plan_configuration  has_superstructure_adobe_mud  has_superstructure_mud_mortar_stone  has_superstructure_stone_flag  has_superstructure_cement_mortar_stone  has_superstructure_mud_mortar_brick  has_superstructure_cement_mortar_brick  has_superstructure_timber  has_superstructure_bamboo  has_superstructure_rc_non_engineered  has_superstructure_rc_engineered  has_superstructure_other legal_ownership_status  count_families  has_secondary_use  has_secondary_use_agriculture  has_secondary_use_hotel  has_secondary_use_rental  has_secondary_use_institution  has_secondary_use_school  has_secondary_use_industry  has_secondary_use_health_post  has_secondary_use_gov_office  has_secondary_use_use_police  has_secondary_use_other\n",
       "0       802906               6             487           12198                    2   30                6                  5                      t               r         n                 f                q        t                  d                             1                                    1                              0                                       0                                    0                                       0                          0                          0                                     0                                 0                         0                      v               1                  0                              0                        0                         0                              0                         0                           0                              0                             0                             0                        0\n",
       "1        28830               8             900            2812                    2   10                8                  7                      o               r         n                 x                q        s                  d                             0                                    1                              0                                       0                                    0                                       0                          0                          0                                     0                                 0                         0                      v               1                  0                              0                        0                         0                              0                         0                           0                              0                             0                             0                        0\n",
       "2        94947              21             363            8973                    2   10                5                  5                      t               r         n                 f                x        t                  d                             0                                    1                              0                                       0                                    0                                       0                          0                          0                                     0                                 0                         0                      v               1                  0                              0                        0                         0                              0                         0                           0                              0                             0                             0                        0\n",
       "3       590882              22             418           10694                    2   10                6                  5                      t               r         n                 f                x        s                  d                             0                                    1                              0                                       0                                    0                                       0                          1                          1                                     0                                 0                         0                      v               1                  0                              0                        0                         0                              0                         0                           0                              0                             0                             0                        0\n",
       "4       201944              11             131            1488                    3   30                8                  9                      t               r         n                 f                x        s                  d                             1                                    0                              0                                       0                                    0                                       0                          0                          0                                     0                                 0                         0                      v               1                  0                              0                        0                         0                              0                         0                           0                              0                             0                             0                        0"
      ]
     },
     "execution_count": 7,
     "metadata": {},
     "output_type": "execute_result"
    }
   ],
   "source": [
    "train.head()"
   ]
  },
  {
   "cell_type": "code",
   "execution_count": 8,
   "id": "c3f0e35f",
   "metadata": {
    "collapsed": true,
    "id": "c3f0e35f",
    "outputId": "dbbbb49b-69ea-46fd-f486-53766858c053"
   },
   "outputs": [
    {
     "data": {
      "text/plain": [
       "building_id                               0\n",
       "geo_level_1_id                            0\n",
       "geo_level_2_id                            0\n",
       "geo_level_3_id                            0\n",
       "count_floors_pre_eq                       0\n",
       "age                                       0\n",
       "area_percentage                           0\n",
       "height_percentage                         0\n",
       "land_surface_condition                    0\n",
       "foundation_type                           0\n",
       "roof_type                                 0\n",
       "ground_floor_type                         0\n",
       "other_floor_type                          0\n",
       "position                                  0\n",
       "plan_configuration                        0\n",
       "has_superstructure_adobe_mud              0\n",
       "has_superstructure_mud_mortar_stone       0\n",
       "has_superstructure_stone_flag             0\n",
       "has_superstructure_cement_mortar_stone    0\n",
       "has_superstructure_mud_mortar_brick       0\n",
       "has_superstructure_cement_mortar_brick    0\n",
       "has_superstructure_timber                 0\n",
       "has_superstructure_bamboo                 0\n",
       "has_superstructure_rc_non_engineered      0\n",
       "has_superstructure_rc_engineered          0\n",
       "has_superstructure_other                  0\n",
       "legal_ownership_status                    0\n",
       "count_families                            0\n",
       "has_secondary_use                         0\n",
       "has_secondary_use_agriculture             0\n",
       "has_secondary_use_hotel                   0\n",
       "has_secondary_use_rental                  0\n",
       "has_secondary_use_institution             0\n",
       "has_secondary_use_school                  0\n",
       "has_secondary_use_industry                0\n",
       "has_secondary_use_health_post             0\n",
       "has_secondary_use_gov_office              0\n",
       "has_secondary_use_use_police              0\n",
       "has_secondary_use_other                   0\n",
       "dtype: int64"
      ]
     },
     "execution_count": 8,
     "metadata": {},
     "output_type": "execute_result"
    }
   ],
   "source": [
    "train.isna().sum()\n"
   ]
  },
  {
   "cell_type": "code",
   "execution_count": 9,
   "id": "a8beb5ca",
   "metadata": {
    "id": "a8beb5ca",
    "outputId": "d9376723-2546-4140-df78-319c4731950a"
   },
   "outputs": [
    {
     "data": {
      "text/plain": [
       "2    0.567405\n",
       "3    0.336122\n",
       "1    0.096473\n",
       "Name: damage_grade, dtype: float64"
      ]
     },
     "execution_count": 9,
     "metadata": {},
     "output_type": "execute_result"
    }
   ],
   "source": [
    "#Create null model\n",
    "trainlabel['damage_grade'].value_counts(normalize=True)"
   ]
  },
  {
   "cell_type": "code",
   "execution_count": 10,
   "id": "739133f4",
   "metadata": {
    "collapsed": true,
    "id": "739133f4",
    "outputId": "35fd5ec0-e815-422f-a647-8803b07f8b9e"
   },
   "outputs": [
    {
     "name": "stdout",
     "output_type": "stream",
     "text": [
      "<class 'pandas.core.frame.DataFrame'>\n",
      "RangeIndex: 26059 entries, 0 to 26058\n",
      "Data columns (total 39 columns):\n",
      " #   Column                                  Non-Null Count  Dtype \n",
      "---  ------                                  --------------  ----- \n",
      " 0   building_id                             26059 non-null  int64 \n",
      " 1   geo_level_1_id                          26059 non-null  int64 \n",
      " 2   geo_level_2_id                          26059 non-null  int64 \n",
      " 3   geo_level_3_id                          26059 non-null  int64 \n",
      " 4   count_floors_pre_eq                     26059 non-null  int64 \n",
      " 5   age                                     26059 non-null  int64 \n",
      " 6   area_percentage                         26059 non-null  int64 \n",
      " 7   height_percentage                       26059 non-null  int64 \n",
      " 8   land_surface_condition                  26059 non-null  object\n",
      " 9   foundation_type                         26059 non-null  object\n",
      " 10  roof_type                               26059 non-null  object\n",
      " 11  ground_floor_type                       26059 non-null  object\n",
      " 12  other_floor_type                        26059 non-null  object\n",
      " 13  position                                26059 non-null  object\n",
      " 14  plan_configuration                      26059 non-null  object\n",
      " 15  has_superstructure_adobe_mud            26059 non-null  int64 \n",
      " 16  has_superstructure_mud_mortar_stone     26059 non-null  int64 \n",
      " 17  has_superstructure_stone_flag           26059 non-null  int64 \n",
      " 18  has_superstructure_cement_mortar_stone  26059 non-null  int64 \n",
      " 19  has_superstructure_mud_mortar_brick     26059 non-null  int64 \n",
      " 20  has_superstructure_cement_mortar_brick  26059 non-null  int64 \n",
      " 21  has_superstructure_timber               26059 non-null  int64 \n",
      " 22  has_superstructure_bamboo               26059 non-null  int64 \n",
      " 23  has_superstructure_rc_non_engineered    26059 non-null  int64 \n",
      " 24  has_superstructure_rc_engineered        26059 non-null  int64 \n",
      " 25  has_superstructure_other                26059 non-null  int64 \n",
      " 26  legal_ownership_status                  26059 non-null  object\n",
      " 27  count_families                          26059 non-null  int64 \n",
      " 28  has_secondary_use                       26059 non-null  int64 \n",
      " 29  has_secondary_use_agriculture           26059 non-null  int64 \n",
      " 30  has_secondary_use_hotel                 26059 non-null  int64 \n",
      " 31  has_secondary_use_rental                26059 non-null  int64 \n",
      " 32  has_secondary_use_institution           26059 non-null  int64 \n",
      " 33  has_secondary_use_school                26059 non-null  int64 \n",
      " 34  has_secondary_use_industry              26059 non-null  int64 \n",
      " 35  has_secondary_use_health_post           26059 non-null  int64 \n",
      " 36  has_secondary_use_gov_office            26059 non-null  int64 \n",
      " 37  has_secondary_use_use_police            26059 non-null  int64 \n",
      " 38  has_secondary_use_other                 26059 non-null  int64 \n",
      "dtypes: int64(31), object(8)\n",
      "memory usage: 7.8+ MB\n"
     ]
    }
   ],
   "source": [
    "train.info()"
   ]
  },
  {
   "cell_type": "code",
   "execution_count": 11,
   "id": "cc8068ff",
   "metadata": {
    "collapsed": true,
    "id": "cc8068ff",
    "outputId": "eabdc810-23d5-4377-bfd1-d23781bce59f"
   },
   "outputs": [
    {
     "data": {
      "text/plain": [
       "Index(['building_id', 'geo_level_1_id', 'geo_level_2_id', 'geo_level_3_id',\n",
       "       'count_floors_pre_eq', 'age', 'area_percentage', 'height_percentage',\n",
       "       'land_surface_condition', 'foundation_type', 'roof_type',\n",
       "       'ground_floor_type', 'other_floor_type', 'position',\n",
       "       'plan_configuration', 'has_superstructure_adobe_mud',\n",
       "       'has_superstructure_mud_mortar_stone', 'has_superstructure_stone_flag',\n",
       "       'has_superstructure_cement_mortar_stone',\n",
       "       'has_superstructure_mud_mortar_brick',\n",
       "       'has_superstructure_cement_mortar_brick', 'has_superstructure_timber',\n",
       "       'has_superstructure_bamboo', 'has_superstructure_rc_non_engineered',\n",
       "       'has_superstructure_rc_engineered', 'has_superstructure_other',\n",
       "       'legal_ownership_status', 'count_families', 'has_secondary_use',\n",
       "       'has_secondary_use_agriculture', 'has_secondary_use_hotel',\n",
       "       'has_secondary_use_rental', 'has_secondary_use_institution',\n",
       "       'has_secondary_use_school', 'has_secondary_use_industry',\n",
       "       'has_secondary_use_health_post', 'has_secondary_use_gov_office',\n",
       "       'has_secondary_use_use_police', 'has_secondary_use_other'],\n",
       "      dtype='object')"
      ]
     },
     "execution_count": 11,
     "metadata": {},
     "output_type": "execute_result"
    }
   ],
   "source": [
    "train.columns"
   ]
  },
  {
   "cell_type": "code",
   "execution_count": 12,
   "id": "4e4d8c68",
   "metadata": {
    "colab": {
     "base_uri": "https://localhost:8080/",
     "height": 439
    },
    "collapsed": true,
    "id": "4e4d8c68",
    "outputId": "1d407f53-c157-48cb-9e2a-be819818c961"
   },
   "outputs": [
    {
     "data": {
      "text/html": [
       "<div>\n",
       "<style scoped>\n",
       "    .dataframe tbody tr th:only-of-type {\n",
       "        vertical-align: middle;\n",
       "    }\n",
       "\n",
       "    .dataframe tbody tr th {\n",
       "        vertical-align: top;\n",
       "    }\n",
       "\n",
       "    .dataframe thead th {\n",
       "        text-align: right;\n",
       "    }\n",
       "</style>\n",
       "<table border=\"1\" class=\"dataframe\">\n",
       "  <thead>\n",
       "    <tr style=\"text-align: right;\">\n",
       "      <th></th>\n",
       "      <th>building_id</th>\n",
       "      <th>geo_level_1_id</th>\n",
       "      <th>geo_level_2_id</th>\n",
       "      <th>geo_level_3_id</th>\n",
       "      <th>count_floors_pre_eq</th>\n",
       "      <th>age</th>\n",
       "      <th>area_percentage</th>\n",
       "      <th>height_percentage</th>\n",
       "      <th>land_surface_condition</th>\n",
       "      <th>foundation_type</th>\n",
       "      <th>roof_type</th>\n",
       "      <th>ground_floor_type</th>\n",
       "      <th>other_floor_type</th>\n",
       "      <th>position</th>\n",
       "      <th>plan_configuration</th>\n",
       "      <th>has_superstructure_adobe_mud</th>\n",
       "      <th>has_superstructure_mud_mortar_stone</th>\n",
       "      <th>has_superstructure_stone_flag</th>\n",
       "      <th>has_superstructure_cement_mortar_stone</th>\n",
       "      <th>has_superstructure_mud_mortar_brick</th>\n",
       "      <th>has_superstructure_cement_mortar_brick</th>\n",
       "      <th>has_superstructure_timber</th>\n",
       "      <th>has_superstructure_bamboo</th>\n",
       "      <th>has_superstructure_rc_non_engineered</th>\n",
       "      <th>has_superstructure_rc_engineered</th>\n",
       "      <th>has_superstructure_other</th>\n",
       "      <th>legal_ownership_status</th>\n",
       "      <th>count_families</th>\n",
       "      <th>has_secondary_use</th>\n",
       "      <th>has_secondary_use_agriculture</th>\n",
       "      <th>has_secondary_use_hotel</th>\n",
       "      <th>has_secondary_use_rental</th>\n",
       "      <th>has_secondary_use_institution</th>\n",
       "      <th>has_secondary_use_school</th>\n",
       "      <th>has_secondary_use_industry</th>\n",
       "      <th>has_secondary_use_health_post</th>\n",
       "      <th>has_secondary_use_gov_office</th>\n",
       "      <th>has_secondary_use_use_police</th>\n",
       "      <th>has_secondary_use_other</th>\n",
       "    </tr>\n",
       "  </thead>\n",
       "  <tbody>\n",
       "    <tr>\n",
       "      <th>0</th>\n",
       "      <td>19838</td>\n",
       "      <td>6</td>\n",
       "      <td>435</td>\n",
       "      <td>7525</td>\n",
       "      <td>1</td>\n",
       "      <td>6</td>\n",
       "      <td>5</td>\n",
       "      <td>3</td>\n",
       "      <td>2</td>\n",
       "      <td>2</td>\n",
       "      <td>0</td>\n",
       "      <td>0</td>\n",
       "      <td>1</td>\n",
       "      <td>3</td>\n",
       "      <td>2</td>\n",
       "      <td>1</td>\n",
       "      <td>1</td>\n",
       "      <td>0</td>\n",
       "      <td>0</td>\n",
       "      <td>0</td>\n",
       "      <td>0</td>\n",
       "      <td>0</td>\n",
       "      <td>0</td>\n",
       "      <td>0</td>\n",
       "      <td>0</td>\n",
       "      <td>0</td>\n",
       "      <td>2</td>\n",
       "      <td>1</td>\n",
       "      <td>0</td>\n",
       "      <td>0</td>\n",
       "      <td>0</td>\n",
       "      <td>0</td>\n",
       "      <td>0</td>\n",
       "      <td>0</td>\n",
       "      <td>0</td>\n",
       "      <td>0</td>\n",
       "      <td>0</td>\n",
       "      <td>0</td>\n",
       "      <td>0</td>\n",
       "    </tr>\n",
       "    <tr>\n",
       "      <th>1</th>\n",
       "      <td>678</td>\n",
       "      <td>8</td>\n",
       "      <td>802</td>\n",
       "      <td>1716</td>\n",
       "      <td>1</td>\n",
       "      <td>2</td>\n",
       "      <td>7</td>\n",
       "      <td>5</td>\n",
       "      <td>1</td>\n",
       "      <td>2</td>\n",
       "      <td>0</td>\n",
       "      <td>3</td>\n",
       "      <td>1</td>\n",
       "      <td>2</td>\n",
       "      <td>2</td>\n",
       "      <td>0</td>\n",
       "      <td>1</td>\n",
       "      <td>0</td>\n",
       "      <td>0</td>\n",
       "      <td>0</td>\n",
       "      <td>0</td>\n",
       "      <td>0</td>\n",
       "      <td>0</td>\n",
       "      <td>0</td>\n",
       "      <td>0</td>\n",
       "      <td>0</td>\n",
       "      <td>2</td>\n",
       "      <td>1</td>\n",
       "      <td>0</td>\n",
       "      <td>0</td>\n",
       "      <td>0</td>\n",
       "      <td>0</td>\n",
       "      <td>0</td>\n",
       "      <td>0</td>\n",
       "      <td>0</td>\n",
       "      <td>0</td>\n",
       "      <td>0</td>\n",
       "      <td>0</td>\n",
       "      <td>0</td>\n",
       "    </tr>\n",
       "    <tr>\n",
       "      <th>2</th>\n",
       "      <td>2319</td>\n",
       "      <td>21</td>\n",
       "      <td>322</td>\n",
       "      <td>5535</td>\n",
       "      <td>1</td>\n",
       "      <td>2</td>\n",
       "      <td>4</td>\n",
       "      <td>3</td>\n",
       "      <td>2</td>\n",
       "      <td>2</td>\n",
       "      <td>0</td>\n",
       "      <td>0</td>\n",
       "      <td>3</td>\n",
       "      <td>3</td>\n",
       "      <td>2</td>\n",
       "      <td>0</td>\n",
       "      <td>1</td>\n",
       "      <td>0</td>\n",
       "      <td>0</td>\n",
       "      <td>0</td>\n",
       "      <td>0</td>\n",
       "      <td>0</td>\n",
       "      <td>0</td>\n",
       "      <td>0</td>\n",
       "      <td>0</td>\n",
       "      <td>0</td>\n",
       "      <td>2</td>\n",
       "      <td>1</td>\n",
       "      <td>0</td>\n",
       "      <td>0</td>\n",
       "      <td>0</td>\n",
       "      <td>0</td>\n",
       "      <td>0</td>\n",
       "      <td>0</td>\n",
       "      <td>0</td>\n",
       "      <td>0</td>\n",
       "      <td>0</td>\n",
       "      <td>0</td>\n",
       "      <td>0</td>\n",
       "    </tr>\n",
       "    <tr>\n",
       "      <th>3</th>\n",
       "      <td>14549</td>\n",
       "      <td>22</td>\n",
       "      <td>370</td>\n",
       "      <td>6597</td>\n",
       "      <td>1</td>\n",
       "      <td>2</td>\n",
       "      <td>5</td>\n",
       "      <td>3</td>\n",
       "      <td>2</td>\n",
       "      <td>2</td>\n",
       "      <td>0</td>\n",
       "      <td>0</td>\n",
       "      <td>3</td>\n",
       "      <td>2</td>\n",
       "      <td>2</td>\n",
       "      <td>0</td>\n",
       "      <td>1</td>\n",
       "      <td>0</td>\n",
       "      <td>0</td>\n",
       "      <td>0</td>\n",
       "      <td>0</td>\n",
       "      <td>1</td>\n",
       "      <td>1</td>\n",
       "      <td>0</td>\n",
       "      <td>0</td>\n",
       "      <td>0</td>\n",
       "      <td>2</td>\n",
       "      <td>1</td>\n",
       "      <td>0</td>\n",
       "      <td>0</td>\n",
       "      <td>0</td>\n",
       "      <td>0</td>\n",
       "      <td>0</td>\n",
       "      <td>0</td>\n",
       "      <td>0</td>\n",
       "      <td>0</td>\n",
       "      <td>0</td>\n",
       "      <td>0</td>\n",
       "      <td>0</td>\n",
       "    </tr>\n",
       "    <tr>\n",
       "      <th>4</th>\n",
       "      <td>5001</td>\n",
       "      <td>11</td>\n",
       "      <td>115</td>\n",
       "      <td>928</td>\n",
       "      <td>2</td>\n",
       "      <td>6</td>\n",
       "      <td>7</td>\n",
       "      <td>7</td>\n",
       "      <td>2</td>\n",
       "      <td>2</td>\n",
       "      <td>0</td>\n",
       "      <td>0</td>\n",
       "      <td>3</td>\n",
       "      <td>2</td>\n",
       "      <td>2</td>\n",
       "      <td>1</td>\n",
       "      <td>0</td>\n",
       "      <td>0</td>\n",
       "      <td>0</td>\n",
       "      <td>0</td>\n",
       "      <td>0</td>\n",
       "      <td>0</td>\n",
       "      <td>0</td>\n",
       "      <td>0</td>\n",
       "      <td>0</td>\n",
       "      <td>0</td>\n",
       "      <td>2</td>\n",
       "      <td>1</td>\n",
       "      <td>0</td>\n",
       "      <td>0</td>\n",
       "      <td>0</td>\n",
       "      <td>0</td>\n",
       "      <td>0</td>\n",
       "      <td>0</td>\n",
       "      <td>0</td>\n",
       "      <td>0</td>\n",
       "      <td>0</td>\n",
       "      <td>0</td>\n",
       "      <td>0</td>\n",
       "    </tr>\n",
       "    <tr>\n",
       "      <th>...</th>\n",
       "      <td>...</td>\n",
       "      <td>...</td>\n",
       "      <td>...</td>\n",
       "      <td>...</td>\n",
       "      <td>...</td>\n",
       "      <td>...</td>\n",
       "      <td>...</td>\n",
       "      <td>...</td>\n",
       "      <td>...</td>\n",
       "      <td>...</td>\n",
       "      <td>...</td>\n",
       "      <td>...</td>\n",
       "      <td>...</td>\n",
       "      <td>...</td>\n",
       "      <td>...</td>\n",
       "      <td>...</td>\n",
       "      <td>...</td>\n",
       "      <td>...</td>\n",
       "      <td>...</td>\n",
       "      <td>...</td>\n",
       "      <td>...</td>\n",
       "      <td>...</td>\n",
       "      <td>...</td>\n",
       "      <td>...</td>\n",
       "      <td>...</td>\n",
       "      <td>...</td>\n",
       "      <td>...</td>\n",
       "      <td>...</td>\n",
       "      <td>...</td>\n",
       "      <td>...</td>\n",
       "      <td>...</td>\n",
       "      <td>...</td>\n",
       "      <td>...</td>\n",
       "      <td>...</td>\n",
       "      <td>...</td>\n",
       "      <td>...</td>\n",
       "      <td>...</td>\n",
       "      <td>...</td>\n",
       "      <td>...</td>\n",
       "    </tr>\n",
       "    <tr>\n",
       "      <th>26054</th>\n",
       "      <td>11229</td>\n",
       "      <td>20</td>\n",
       "      <td>169</td>\n",
       "      <td>1422</td>\n",
       "      <td>0</td>\n",
       "      <td>3</td>\n",
       "      <td>4</td>\n",
       "      <td>2</td>\n",
       "      <td>2</td>\n",
       "      <td>2</td>\n",
       "      <td>0</td>\n",
       "      <td>0</td>\n",
       "      <td>0</td>\n",
       "      <td>2</td>\n",
       "      <td>2</td>\n",
       "      <td>0</td>\n",
       "      <td>1</td>\n",
       "      <td>0</td>\n",
       "      <td>0</td>\n",
       "      <td>0</td>\n",
       "      <td>0</td>\n",
       "      <td>1</td>\n",
       "      <td>1</td>\n",
       "      <td>0</td>\n",
       "      <td>0</td>\n",
       "      <td>0</td>\n",
       "      <td>2</td>\n",
       "      <td>1</td>\n",
       "      <td>0</td>\n",
       "      <td>0</td>\n",
       "      <td>0</td>\n",
       "      <td>0</td>\n",
       "      <td>0</td>\n",
       "      <td>0</td>\n",
       "      <td>0</td>\n",
       "      <td>0</td>\n",
       "      <td>0</td>\n",
       "      <td>0</td>\n",
       "      <td>0</td>\n",
       "    </tr>\n",
       "    <tr>\n",
       "      <th>26055</th>\n",
       "      <td>347</td>\n",
       "      <td>20</td>\n",
       "      <td>1047</td>\n",
       "      <td>894</td>\n",
       "      <td>1</td>\n",
       "      <td>2</td>\n",
       "      <td>7</td>\n",
       "      <td>3</td>\n",
       "      <td>2</td>\n",
       "      <td>2</td>\n",
       "      <td>1</td>\n",
       "      <td>3</td>\n",
       "      <td>1</td>\n",
       "      <td>2</td>\n",
       "      <td>2</td>\n",
       "      <td>0</td>\n",
       "      <td>1</td>\n",
       "      <td>0</td>\n",
       "      <td>0</td>\n",
       "      <td>0</td>\n",
       "      <td>0</td>\n",
       "      <td>0</td>\n",
       "      <td>0</td>\n",
       "      <td>0</td>\n",
       "      <td>0</td>\n",
       "      <td>0</td>\n",
       "      <td>2</td>\n",
       "      <td>1</td>\n",
       "      <td>0</td>\n",
       "      <td>0</td>\n",
       "      <td>0</td>\n",
       "      <td>0</td>\n",
       "      <td>0</td>\n",
       "      <td>0</td>\n",
       "      <td>0</td>\n",
       "      <td>0</td>\n",
       "      <td>0</td>\n",
       "      <td>0</td>\n",
       "      <td>0</td>\n",
       "    </tr>\n",
       "    <tr>\n",
       "      <th>26056</th>\n",
       "      <td>5972</td>\n",
       "      <td>10</td>\n",
       "      <td>1268</td>\n",
       "      <td>7344</td>\n",
       "      <td>2</td>\n",
       "      <td>13</td>\n",
       "      <td>5</td>\n",
       "      <td>5</td>\n",
       "      <td>2</td>\n",
       "      <td>2</td>\n",
       "      <td>0</td>\n",
       "      <td>0</td>\n",
       "      <td>1</td>\n",
       "      <td>2</td>\n",
       "      <td>2</td>\n",
       "      <td>1</td>\n",
       "      <td>1</td>\n",
       "      <td>1</td>\n",
       "      <td>0</td>\n",
       "      <td>0</td>\n",
       "      <td>0</td>\n",
       "      <td>0</td>\n",
       "      <td>0</td>\n",
       "      <td>0</td>\n",
       "      <td>0</td>\n",
       "      <td>0</td>\n",
       "      <td>2</td>\n",
       "      <td>1</td>\n",
       "      <td>0</td>\n",
       "      <td>0</td>\n",
       "      <td>0</td>\n",
       "      <td>0</td>\n",
       "      <td>0</td>\n",
       "      <td>0</td>\n",
       "      <td>0</td>\n",
       "      <td>0</td>\n",
       "      <td>0</td>\n",
       "      <td>0</td>\n",
       "      <td>0</td>\n",
       "    </tr>\n",
       "    <tr>\n",
       "      <th>26057</th>\n",
       "      <td>24218</td>\n",
       "      <td>17</td>\n",
       "      <td>208</td>\n",
       "      <td>6169</td>\n",
       "      <td>2</td>\n",
       "      <td>5</td>\n",
       "      <td>7</td>\n",
       "      <td>5</td>\n",
       "      <td>2</td>\n",
       "      <td>2</td>\n",
       "      <td>1</td>\n",
       "      <td>0</td>\n",
       "      <td>1</td>\n",
       "      <td>3</td>\n",
       "      <td>2</td>\n",
       "      <td>0</td>\n",
       "      <td>1</td>\n",
       "      <td>0</td>\n",
       "      <td>0</td>\n",
       "      <td>0</td>\n",
       "      <td>0</td>\n",
       "      <td>0</td>\n",
       "      <td>0</td>\n",
       "      <td>0</td>\n",
       "      <td>0</td>\n",
       "      <td>0</td>\n",
       "      <td>2</td>\n",
       "      <td>1</td>\n",
       "      <td>0</td>\n",
       "      <td>0</td>\n",
       "      <td>0</td>\n",
       "      <td>0</td>\n",
       "      <td>0</td>\n",
       "      <td>0</td>\n",
       "      <td>0</td>\n",
       "      <td>0</td>\n",
       "      <td>0</td>\n",
       "      <td>0</td>\n",
       "      <td>0</td>\n",
       "    </tr>\n",
       "    <tr>\n",
       "      <th>26058</th>\n",
       "      <td>22448</td>\n",
       "      <td>21</td>\n",
       "      <td>41</td>\n",
       "      <td>3624</td>\n",
       "      <td>1</td>\n",
       "      <td>2</td>\n",
       "      <td>7</td>\n",
       "      <td>3</td>\n",
       "      <td>2</td>\n",
       "      <td>2</td>\n",
       "      <td>0</td>\n",
       "      <td>0</td>\n",
       "      <td>1</td>\n",
       "      <td>3</td>\n",
       "      <td>2</td>\n",
       "      <td>0</td>\n",
       "      <td>1</td>\n",
       "      <td>0</td>\n",
       "      <td>0</td>\n",
       "      <td>0</td>\n",
       "      <td>0</td>\n",
       "      <td>0</td>\n",
       "      <td>0</td>\n",
       "      <td>0</td>\n",
       "      <td>0</td>\n",
       "      <td>0</td>\n",
       "      <td>2</td>\n",
       "      <td>1</td>\n",
       "      <td>0</td>\n",
       "      <td>0</td>\n",
       "      <td>0</td>\n",
       "      <td>0</td>\n",
       "      <td>0</td>\n",
       "      <td>0</td>\n",
       "      <td>0</td>\n",
       "      <td>0</td>\n",
       "      <td>0</td>\n",
       "      <td>0</td>\n",
       "      <td>0</td>\n",
       "    </tr>\n",
       "  </tbody>\n",
       "</table>\n",
       "<p>26059 rows × 39 columns</p>\n",
       "</div>"
      ],
      "text/plain": [
       "       building_id  geo_level_1_id  geo_level_2_id  geo_level_3_id  count_floors_pre_eq  age  area_percentage  height_percentage  land_surface_condition  foundation_type  roof_type  ground_floor_type  other_floor_type  position  plan_configuration  has_superstructure_adobe_mud  has_superstructure_mud_mortar_stone  has_superstructure_stone_flag  has_superstructure_cement_mortar_stone  has_superstructure_mud_mortar_brick  has_superstructure_cement_mortar_brick  has_superstructure_timber  has_superstructure_bamboo  has_superstructure_rc_non_engineered  has_superstructure_rc_engineered  has_superstructure_other  legal_ownership_status  count_families  has_secondary_use  has_secondary_use_agriculture  has_secondary_use_hotel  has_secondary_use_rental  has_secondary_use_institution  has_secondary_use_school  has_secondary_use_industry  has_secondary_use_health_post  has_secondary_use_gov_office  has_secondary_use_use_police  has_secondary_use_other\n",
       "0            19838               6             435            7525                    1    6                5                  3                       2                2          0                  0                 1         3                   2                             1                                    1                              0                                       0                                    0                                       0                          0                          0                                     0                                 0                         0                       2               1                  0                              0                        0                         0                              0                         0                           0                              0                             0                             0                        0\n",
       "1              678               8             802            1716                    1    2                7                  5                       1                2          0                  3                 1         2                   2                             0                                    1                              0                                       0                                    0                                       0                          0                          0                                     0                                 0                         0                       2               1                  0                              0                        0                         0                              0                         0                           0                              0                             0                             0                        0\n",
       "2             2319              21             322            5535                    1    2                4                  3                       2                2          0                  0                 3         3                   2                             0                                    1                              0                                       0                                    0                                       0                          0                          0                                     0                                 0                         0                       2               1                  0                              0                        0                         0                              0                         0                           0                              0                             0                             0                        0\n",
       "3            14549              22             370            6597                    1    2                5                  3                       2                2          0                  0                 3         2                   2                             0                                    1                              0                                       0                                    0                                       0                          1                          1                                     0                                 0                         0                       2               1                  0                              0                        0                         0                              0                         0                           0                              0                             0                             0                        0\n",
       "4             5001              11             115             928                    2    6                7                  7                       2                2          0                  0                 3         2                   2                             1                                    0                              0                                       0                                    0                                       0                          0                          0                                     0                                 0                         0                       2               1                  0                              0                        0                         0                              0                         0                           0                              0                             0                             0                        0\n",
       "...            ...             ...             ...             ...                  ...  ...              ...                ...                     ...              ...        ...                ...               ...       ...                 ...                           ...                                  ...                            ...                                     ...                                  ...                                     ...                        ...                        ...                                   ...                               ...                       ...                     ...             ...                ...                            ...                      ...                       ...                            ...                       ...                         ...                            ...                           ...                           ...                      ...\n",
       "26054        11229              20             169            1422                    0    3                4                  2                       2                2          0                  0                 0         2                   2                             0                                    1                              0                                       0                                    0                                       0                          1                          1                                     0                                 0                         0                       2               1                  0                              0                        0                         0                              0                         0                           0                              0                             0                             0                        0\n",
       "26055          347              20            1047             894                    1    2                7                  3                       2                2          1                  3                 1         2                   2                             0                                    1                              0                                       0                                    0                                       0                          0                          0                                     0                                 0                         0                       2               1                  0                              0                        0                         0                              0                         0                           0                              0                             0                             0                        0\n",
       "26056         5972              10            1268            7344                    2   13                5                  5                       2                2          0                  0                 1         2                   2                             1                                    1                              1                                       0                                    0                                       0                          0                          0                                     0                                 0                         0                       2               1                  0                              0                        0                         0                              0                         0                           0                              0                             0                             0                        0\n",
       "26057        24218              17             208            6169                    2    5                7                  5                       2                2          1                  0                 1         3                   2                             0                                    1                              0                                       0                                    0                                       0                          0                          0                                     0                                 0                         0                       2               1                  0                              0                        0                         0                              0                         0                           0                              0                             0                             0                        0\n",
       "26058        22448              21              41            3624                    1    2                7                  3                       2                2          0                  0                 1         3                   2                             0                                    1                              0                                       0                                    0                                       0                          0                          0                                     0                                 0                         0                       2               1                  0                              0                        0                         0                              0                         0                           0                              0                             0                             0                        0\n",
       "\n",
       "[26059 rows x 39 columns]"
      ]
     },
     "execution_count": 12,
     "metadata": {},
     "output_type": "execute_result"
    }
   ],
   "source": [
    "# Encode variables\n",
    "le = LabelEncoder()\n",
    "train_enc = train.apply(le.fit_transform)\n",
    "train_enc"
   ]
  },
  {
   "cell_type": "code",
   "execution_count": 13,
   "id": "e2ac2404",
   "metadata": {
    "collapsed": true,
    "id": "e2ac2404",
    "outputId": "ffc2047a-e187-40f4-9db3-75acdaaea5ac"
   },
   "outputs": [
    {
     "name": "stdout",
     "output_type": "stream",
     "text": [
      "<class 'pandas.core.frame.DataFrame'>\n",
      "RangeIndex: 26059 entries, 0 to 26058\n",
      "Data columns (total 39 columns):\n",
      " #   Column                                  Non-Null Count  Dtype\n",
      "---  ------                                  --------------  -----\n",
      " 0   building_id                             26059 non-null  int64\n",
      " 1   geo_level_1_id                          26059 non-null  int64\n",
      " 2   geo_level_2_id                          26059 non-null  int64\n",
      " 3   geo_level_3_id                          26059 non-null  int64\n",
      " 4   count_floors_pre_eq                     26059 non-null  int64\n",
      " 5   age                                     26059 non-null  int64\n",
      " 6   area_percentage                         26059 non-null  int64\n",
      " 7   height_percentage                       26059 non-null  int64\n",
      " 8   land_surface_condition                  26059 non-null  int32\n",
      " 9   foundation_type                         26059 non-null  int32\n",
      " 10  roof_type                               26059 non-null  int32\n",
      " 11  ground_floor_type                       26059 non-null  int32\n",
      " 12  other_floor_type                        26059 non-null  int32\n",
      " 13  position                                26059 non-null  int32\n",
      " 14  plan_configuration                      26059 non-null  int32\n",
      " 15  has_superstructure_adobe_mud            26059 non-null  int64\n",
      " 16  has_superstructure_mud_mortar_stone     26059 non-null  int64\n",
      " 17  has_superstructure_stone_flag           26059 non-null  int64\n",
      " 18  has_superstructure_cement_mortar_stone  26059 non-null  int64\n",
      " 19  has_superstructure_mud_mortar_brick     26059 non-null  int64\n",
      " 20  has_superstructure_cement_mortar_brick  26059 non-null  int64\n",
      " 21  has_superstructure_timber               26059 non-null  int64\n",
      " 22  has_superstructure_bamboo               26059 non-null  int64\n",
      " 23  has_superstructure_rc_non_engineered    26059 non-null  int64\n",
      " 24  has_superstructure_rc_engineered        26059 non-null  int64\n",
      " 25  has_superstructure_other                26059 non-null  int64\n",
      " 26  legal_ownership_status                  26059 non-null  int32\n",
      " 27  count_families                          26059 non-null  int64\n",
      " 28  has_secondary_use                       26059 non-null  int64\n",
      " 29  has_secondary_use_agriculture           26059 non-null  int64\n",
      " 30  has_secondary_use_hotel                 26059 non-null  int64\n",
      " 31  has_secondary_use_rental                26059 non-null  int64\n",
      " 32  has_secondary_use_institution           26059 non-null  int64\n",
      " 33  has_secondary_use_school                26059 non-null  int64\n",
      " 34  has_secondary_use_industry              26059 non-null  int64\n",
      " 35  has_secondary_use_health_post           26059 non-null  int64\n",
      " 36  has_secondary_use_gov_office            26059 non-null  int64\n",
      " 37  has_secondary_use_use_police            26059 non-null  int64\n",
      " 38  has_secondary_use_other                 26059 non-null  int64\n",
      "dtypes: int32(8), int64(31)\n",
      "memory usage: 7.0 MB\n"
     ]
    }
   ],
   "source": [
    "train_enc.info()"
   ]
  },
  {
   "cell_type": "markdown",
   "id": "760011ff",
   "metadata": {},
   "source": [
    "## Modeling"
   ]
  },
  {
   "cell_type": "code",
   "execution_count": 14,
   "id": "26e9a716",
   "metadata": {
    "id": "26e9a716"
   },
   "outputs": [],
   "source": [
    "X = train_enc\n",
    "y = trainlabel['damage_grade']"
   ]
  },
  {
   "cell_type": "code",
   "execution_count": 15,
   "id": "b1a76fd8",
   "metadata": {
    "id": "b1a76fd8"
   },
   "outputs": [],
   "source": [
    "X_train, X_test, y_train, y_test = train_test_split(X,y,stratify=y, random_state=123)"
   ]
  },
  {
   "cell_type": "code",
   "execution_count": 16,
   "id": "533614b2",
   "metadata": {
    "colab": {
     "base_uri": "https://localhost:8080/",
     "height": 224
    },
    "id": "533614b2",
    "outputId": "772904a0-676d-45d4-e6fa-c15379ccf56c"
   },
   "outputs": [
    {
     "data": {
      "text/html": [
       "<div>\n",
       "<style scoped>\n",
       "    .dataframe tbody tr th:only-of-type {\n",
       "        vertical-align: middle;\n",
       "    }\n",
       "\n",
       "    .dataframe tbody tr th {\n",
       "        vertical-align: top;\n",
       "    }\n",
       "\n",
       "    .dataframe thead th {\n",
       "        text-align: right;\n",
       "    }\n",
       "</style>\n",
       "<table border=\"1\" class=\"dataframe\">\n",
       "  <thead>\n",
       "    <tr style=\"text-align: right;\">\n",
       "      <th></th>\n",
       "      <th>building_id</th>\n",
       "      <th>geo_level_1_id</th>\n",
       "      <th>geo_level_2_id</th>\n",
       "      <th>geo_level_3_id</th>\n",
       "      <th>count_floors_pre_eq</th>\n",
       "      <th>age</th>\n",
       "      <th>area_percentage</th>\n",
       "      <th>height_percentage</th>\n",
       "      <th>land_surface_condition</th>\n",
       "      <th>foundation_type</th>\n",
       "      <th>roof_type</th>\n",
       "      <th>ground_floor_type</th>\n",
       "      <th>other_floor_type</th>\n",
       "      <th>position</th>\n",
       "      <th>plan_configuration</th>\n",
       "      <th>has_superstructure_adobe_mud</th>\n",
       "      <th>has_superstructure_mud_mortar_stone</th>\n",
       "      <th>has_superstructure_stone_flag</th>\n",
       "      <th>has_superstructure_cement_mortar_stone</th>\n",
       "      <th>has_superstructure_mud_mortar_brick</th>\n",
       "      <th>has_superstructure_cement_mortar_brick</th>\n",
       "      <th>has_superstructure_timber</th>\n",
       "      <th>has_superstructure_bamboo</th>\n",
       "      <th>has_superstructure_rc_non_engineered</th>\n",
       "      <th>has_superstructure_rc_engineered</th>\n",
       "      <th>has_superstructure_other</th>\n",
       "      <th>legal_ownership_status</th>\n",
       "      <th>count_families</th>\n",
       "      <th>has_secondary_use</th>\n",
       "      <th>has_secondary_use_agriculture</th>\n",
       "      <th>has_secondary_use_hotel</th>\n",
       "      <th>has_secondary_use_rental</th>\n",
       "      <th>has_secondary_use_institution</th>\n",
       "      <th>has_secondary_use_school</th>\n",
       "      <th>has_secondary_use_industry</th>\n",
       "      <th>has_secondary_use_health_post</th>\n",
       "      <th>has_secondary_use_gov_office</th>\n",
       "      <th>has_secondary_use_use_police</th>\n",
       "      <th>has_secondary_use_other</th>\n",
       "    </tr>\n",
       "  </thead>\n",
       "  <tbody>\n",
       "    <tr>\n",
       "      <th>20786</th>\n",
       "      <td>5672</td>\n",
       "      <td>20</td>\n",
       "      <td>140</td>\n",
       "      <td>1028</td>\n",
       "      <td>0</td>\n",
       "      <td>2</td>\n",
       "      <td>8</td>\n",
       "      <td>1</td>\n",
       "      <td>2</td>\n",
       "      <td>2</td>\n",
       "      <td>1</td>\n",
       "      <td>0</td>\n",
       "      <td>0</td>\n",
       "      <td>2</td>\n",
       "      <td>2</td>\n",
       "      <td>0</td>\n",
       "      <td>0</td>\n",
       "      <td>0</td>\n",
       "      <td>0</td>\n",
       "      <td>0</td>\n",
       "      <td>0</td>\n",
       "      <td>0</td>\n",
       "      <td>0</td>\n",
       "      <td>1</td>\n",
       "      <td>0</td>\n",
       "      <td>0</td>\n",
       "      <td>2</td>\n",
       "      <td>0</td>\n",
       "      <td>1</td>\n",
       "      <td>0</td>\n",
       "      <td>0</td>\n",
       "      <td>0</td>\n",
       "      <td>0</td>\n",
       "      <td>0</td>\n",
       "      <td>1</td>\n",
       "      <td>0</td>\n",
       "      <td>0</td>\n",
       "      <td>0</td>\n",
       "      <td>0</td>\n",
       "    </tr>\n",
       "    <tr>\n",
       "      <th>1125</th>\n",
       "      <td>16994</td>\n",
       "      <td>4</td>\n",
       "      <td>470</td>\n",
       "      <td>5781</td>\n",
       "      <td>1</td>\n",
       "      <td>3</td>\n",
       "      <td>5</td>\n",
       "      <td>2</td>\n",
       "      <td>2</td>\n",
       "      <td>2</td>\n",
       "      <td>0</td>\n",
       "      <td>0</td>\n",
       "      <td>1</td>\n",
       "      <td>2</td>\n",
       "      <td>2</td>\n",
       "      <td>0</td>\n",
       "      <td>1</td>\n",
       "      <td>0</td>\n",
       "      <td>0</td>\n",
       "      <td>0</td>\n",
       "      <td>0</td>\n",
       "      <td>0</td>\n",
       "      <td>0</td>\n",
       "      <td>0</td>\n",
       "      <td>0</td>\n",
       "      <td>0</td>\n",
       "      <td>2</td>\n",
       "      <td>1</td>\n",
       "      <td>0</td>\n",
       "      <td>0</td>\n",
       "      <td>0</td>\n",
       "      <td>0</td>\n",
       "      <td>0</td>\n",
       "      <td>0</td>\n",
       "      <td>0</td>\n",
       "      <td>0</td>\n",
       "      <td>0</td>\n",
       "      <td>0</td>\n",
       "      <td>0</td>\n",
       "    </tr>\n",
       "    <tr>\n",
       "      <th>13343</th>\n",
       "      <td>8474</td>\n",
       "      <td>6</td>\n",
       "      <td>756</td>\n",
       "      <td>6727</td>\n",
       "      <td>2</td>\n",
       "      <td>4</td>\n",
       "      <td>11</td>\n",
       "      <td>6</td>\n",
       "      <td>2</td>\n",
       "      <td>2</td>\n",
       "      <td>1</td>\n",
       "      <td>0</td>\n",
       "      <td>3</td>\n",
       "      <td>2</td>\n",
       "      <td>2</td>\n",
       "      <td>0</td>\n",
       "      <td>1</td>\n",
       "      <td>0</td>\n",
       "      <td>0</td>\n",
       "      <td>0</td>\n",
       "      <td>0</td>\n",
       "      <td>0</td>\n",
       "      <td>0</td>\n",
       "      <td>0</td>\n",
       "      <td>0</td>\n",
       "      <td>0</td>\n",
       "      <td>2</td>\n",
       "      <td>1</td>\n",
       "      <td>0</td>\n",
       "      <td>0</td>\n",
       "      <td>0</td>\n",
       "      <td>0</td>\n",
       "      <td>0</td>\n",
       "      <td>0</td>\n",
       "      <td>0</td>\n",
       "      <td>0</td>\n",
       "      <td>0</td>\n",
       "      <td>0</td>\n",
       "      <td>0</td>\n",
       "    </tr>\n",
       "    <tr>\n",
       "      <th>6760</th>\n",
       "      <td>15570</td>\n",
       "      <td>20</td>\n",
       "      <td>1047</td>\n",
       "      <td>2939</td>\n",
       "      <td>0</td>\n",
       "      <td>2</td>\n",
       "      <td>5</td>\n",
       "      <td>2</td>\n",
       "      <td>0</td>\n",
       "      <td>2</td>\n",
       "      <td>0</td>\n",
       "      <td>3</td>\n",
       "      <td>0</td>\n",
       "      <td>2</td>\n",
       "      <td>2</td>\n",
       "      <td>0</td>\n",
       "      <td>1</td>\n",
       "      <td>1</td>\n",
       "      <td>0</td>\n",
       "      <td>0</td>\n",
       "      <td>0</td>\n",
       "      <td>0</td>\n",
       "      <td>0</td>\n",
       "      <td>0</td>\n",
       "      <td>0</td>\n",
       "      <td>0</td>\n",
       "      <td>2</td>\n",
       "      <td>1</td>\n",
       "      <td>0</td>\n",
       "      <td>0</td>\n",
       "      <td>0</td>\n",
       "      <td>0</td>\n",
       "      <td>0</td>\n",
       "      <td>0</td>\n",
       "      <td>0</td>\n",
       "      <td>0</td>\n",
       "      <td>0</td>\n",
       "      <td>0</td>\n",
       "      <td>0</td>\n",
       "    </tr>\n",
       "    <tr>\n",
       "      <th>26012</th>\n",
       "      <td>6201</td>\n",
       "      <td>17</td>\n",
       "      <td>577</td>\n",
       "      <td>7355</td>\n",
       "      <td>1</td>\n",
       "      <td>3</td>\n",
       "      <td>5</td>\n",
       "      <td>5</td>\n",
       "      <td>2</td>\n",
       "      <td>2</td>\n",
       "      <td>1</td>\n",
       "      <td>0</td>\n",
       "      <td>1</td>\n",
       "      <td>2</td>\n",
       "      <td>2</td>\n",
       "      <td>0</td>\n",
       "      <td>1</td>\n",
       "      <td>0</td>\n",
       "      <td>0</td>\n",
       "      <td>0</td>\n",
       "      <td>0</td>\n",
       "      <td>0</td>\n",
       "      <td>0</td>\n",
       "      <td>0</td>\n",
       "      <td>0</td>\n",
       "      <td>0</td>\n",
       "      <td>2</td>\n",
       "      <td>1</td>\n",
       "      <td>0</td>\n",
       "      <td>0</td>\n",
       "      <td>0</td>\n",
       "      <td>0</td>\n",
       "      <td>0</td>\n",
       "      <td>0</td>\n",
       "      <td>0</td>\n",
       "      <td>0</td>\n",
       "      <td>0</td>\n",
       "      <td>0</td>\n",
       "      <td>0</td>\n",
       "    </tr>\n",
       "  </tbody>\n",
       "</table>\n",
       "</div>"
      ],
      "text/plain": [
       "       building_id  geo_level_1_id  geo_level_2_id  geo_level_3_id  count_floors_pre_eq  age  area_percentage  height_percentage  land_surface_condition  foundation_type  roof_type  ground_floor_type  other_floor_type  position  plan_configuration  has_superstructure_adobe_mud  has_superstructure_mud_mortar_stone  has_superstructure_stone_flag  has_superstructure_cement_mortar_stone  has_superstructure_mud_mortar_brick  has_superstructure_cement_mortar_brick  has_superstructure_timber  has_superstructure_bamboo  has_superstructure_rc_non_engineered  has_superstructure_rc_engineered  has_superstructure_other  legal_ownership_status  count_families  has_secondary_use  has_secondary_use_agriculture  has_secondary_use_hotel  has_secondary_use_rental  has_secondary_use_institution  has_secondary_use_school  has_secondary_use_industry  has_secondary_use_health_post  has_secondary_use_gov_office  has_secondary_use_use_police  has_secondary_use_other\n",
       "20786         5672              20             140            1028                    0    2                8                  1                       2                2          1                  0                 0         2                   2                             0                                    0                              0                                       0                                    0                                       0                          0                          0                                     1                                 0                         0                       2               0                  1                              0                        0                         0                              0                         0                           1                              0                             0                             0                        0\n",
       "1125         16994               4             470            5781                    1    3                5                  2                       2                2          0                  0                 1         2                   2                             0                                    1                              0                                       0                                    0                                       0                          0                          0                                     0                                 0                         0                       2               1                  0                              0                        0                         0                              0                         0                           0                              0                             0                             0                        0\n",
       "13343         8474               6             756            6727                    2    4               11                  6                       2                2          1                  0                 3         2                   2                             0                                    1                              0                                       0                                    0                                       0                          0                          0                                     0                                 0                         0                       2               1                  0                              0                        0                         0                              0                         0                           0                              0                             0                             0                        0\n",
       "6760         15570              20            1047            2939                    0    2                5                  2                       0                2          0                  3                 0         2                   2                             0                                    1                              1                                       0                                    0                                       0                          0                          0                                     0                                 0                         0                       2               1                  0                              0                        0                         0                              0                         0                           0                              0                             0                             0                        0\n",
       "26012         6201              17             577            7355                    1    3                5                  5                       2                2          1                  0                 1         2                   2                             0                                    1                              0                                       0                                    0                                       0                          0                          0                                     0                                 0                         0                       2               1                  0                              0                        0                         0                              0                         0                           0                              0                             0                             0                        0"
      ]
     },
     "execution_count": 16,
     "metadata": {
      "tags": []
     },
     "output_type": "execute_result"
    }
   ],
   "source": [
    "X_train.head()"
   ]
  },
  {
   "cell_type": "markdown",
   "id": "98bed613",
   "metadata": {},
   "source": [
    "#### DECISION TREE CLASSIFIER"
   ]
  },
  {
   "cell_type": "code",
   "execution_count": null,
   "id": "cfe873dc",
   "metadata": {
    "id": "cfe873dc"
   },
   "outputs": [],
   "source": [
    "# Decision Tree with max_depth features adjusted\n",
    "pipe_forest = make_pipeline(StandardScaler(), DecisionTreeClassifier())\n",
    "params = {'decisiontreeclassifier__max_depth' : [2, 3, 4, 5]\n",
    "             }\n",
    "grid_forest = GridSearchCV(pipe_forest, param_grid = params)"
   ]
  },
  {
   "cell_type": "code",
   "execution_count": null,
   "id": "779edaa4",
   "metadata": {
    "id": "779edaa4",
    "outputId": "90cc49a4-0504-4d38-9b34-543118d47e25"
   },
   "outputs": [
    {
     "data": {
      "text/plain": [
       "GridSearchCV(estimator=Pipeline(steps=[('standardscaler', StandardScaler()),\n",
       "                                       ('decisiontreeclassifier',\n",
       "                                        DecisionTreeClassifier())]),\n",
       "             param_grid={'decisiontreeclassifier__max_depth': [2, 3, 4, 5]})"
      ]
     },
     "execution_count": 101,
     "metadata": {
      "tags": []
     },
     "output_type": "execute_result"
    }
   ],
   "source": [
    "grid_forest.fit(X_train,y_train)"
   ]
  },
  {
   "cell_type": "code",
   "execution_count": null,
   "id": "de9088cb",
   "metadata": {
    "id": "de9088cb",
    "outputId": "5f3744cf-42f3-416d-fa42-4d4debd0c00e"
   },
   "outputs": [
    {
     "data": {
      "text/plain": [
       "0.646815042210284"
      ]
     },
     "execution_count": 102,
     "metadata": {
      "tags": []
     },
     "output_type": "execute_result"
    }
   ],
   "source": [
    "grid_forest.score(X_test,y_test)"
   ]
  },
  {
   "cell_type": "code",
   "execution_count": null,
   "id": "c435a07c",
   "metadata": {
    "id": "c435a07c"
   },
   "outputs": [],
   "source": [
    "pred = grid_forest.predict(X_test)"
   ]
  },
  {
   "cell_type": "code",
   "execution_count": null,
   "id": "fdd74f76",
   "metadata": {
    "id": "fdd74f76",
    "outputId": "8dcbe286-0e44-4501-e363-14f8805b2f1c"
   },
   "outputs": [
    {
     "data": {
      "text/plain": [
       "0.646815042210284"
      ]
     },
     "execution_count": 105,
     "metadata": {
      "tags": []
     },
     "output_type": "execute_result"
    }
   ],
   "source": [
    "f1_score(y_test,pred, average='micro')"
   ]
  },
  {
   "cell_type": "code",
   "execution_count": null,
   "id": "4bde78a4",
   "metadata": {
    "id": "4bde78a4",
    "outputId": "4f02207e-29c7-44be-bdd4-e73f679113d1",
    "scrolled": true
   },
   "outputs": [
    {
     "data": {
      "text/plain": [
       "Pipeline(steps=[('standardscaler', StandardScaler()),\n",
       "                ('decisiontreeclassifier',\n",
       "                 DecisionTreeClassifier(max_depth=5))])"
      ]
     },
     "execution_count": 61,
     "metadata": {
      "tags": []
     },
     "output_type": "execute_result"
    }
   ],
   "source": [
    "grid_forest.best_estimator_"
   ]
  },
  {
   "cell_type": "code",
   "execution_count": null,
   "id": "5f6a887a",
   "metadata": {
    "id": "5f6a887a"
   },
   "outputs": [],
   "source": [
    "# # Decision Tree with min_samples_split and max_depth adjusted\n",
    "pipe_forest = make_pipeline(StandardScaler(), DecisionTreeClassifier())\n",
    "params = {'decisiontreeclassifier__max_depth' : [2, 3, 4, 5],\n",
    "          'decisiontreeclassifier__random_state' : [123]\n",
    "          ,'decisiontreeclassifier__min_samples_split' : [2, 3, 4]\n",
    "         }\n",
    "grid_forest = GridSearchCV(pipe_forest, param_grid = params)"
   ]
  },
  {
   "cell_type": "code",
   "execution_count": null,
   "id": "de482924",
   "metadata": {
    "id": "de482924",
    "outputId": "b8101821-fac4-4ea8-8a95-c03e4f16c9d5"
   },
   "outputs": [
    {
     "data": {
      "text/plain": [
       "GridSearchCV(estimator=Pipeline(steps=[('standardscaler', StandardScaler()),\n",
       "                                       ('decisiontreeclassifier',\n",
       "                                        DecisionTreeClassifier())]),\n",
       "             param_grid={'decisiontreeclassifier__max_depth': [2, 3, 4, 5],\n",
       "                         'decisiontreeclassifier__min_samples_split': [2, 3, 4],\n",
       "                         'decisiontreeclassifier__random_state': [123]})"
      ]
     },
     "execution_count": 109,
     "metadata": {
      "tags": []
     },
     "output_type": "execute_result"
    }
   ],
   "source": [
    "grid_forest.fit(X_train,y_train)"
   ]
  },
  {
   "cell_type": "code",
   "execution_count": null,
   "id": "ba702d2a",
   "metadata": {
    "id": "ba702d2a",
    "outputId": "cd91b4c6-4606-4745-ba41-9ff05ad90a2b"
   },
   "outputs": [
    {
     "data": {
      "text/plain": [
       "0.646815042210284"
      ]
     },
     "execution_count": 110,
     "metadata": {
      "tags": []
     },
     "output_type": "execute_result"
    }
   ],
   "source": [
    "grid_forest.score(X_test,y_test)"
   ]
  },
  {
   "cell_type": "code",
   "execution_count": null,
   "id": "b01ae0d8",
   "metadata": {
    "id": "b01ae0d8"
   },
   "outputs": [],
   "source": [
    "pred = grid_forest.predict(X_test)"
   ]
  },
  {
   "cell_type": "code",
   "execution_count": null,
   "id": "b8d1c22b",
   "metadata": {
    "id": "b8d1c22b",
    "outputId": "642e14ba-527c-40fd-d027-b364e8563dd1"
   },
   "outputs": [
    {
     "data": {
      "text/plain": [
       "0.646815042210284"
      ]
     },
     "execution_count": 112,
     "metadata": {
      "tags": []
     },
     "output_type": "execute_result"
    }
   ],
   "source": [
    "f1_score(y_test,pred, average='micro')"
   ]
  },
  {
   "cell_type": "code",
   "execution_count": null,
   "id": "1b13ad5a",
   "metadata": {
    "id": "1b13ad5a",
    "outputId": "410d180c-f986-46d4-c319-63a6e206c422",
    "scrolled": false
   },
   "outputs": [
    {
     "data": {
      "text/plain": [
       "Pipeline(steps=[('standardscaler', StandardScaler()),\n",
       "                ('decisiontreeclassifier',\n",
       "                 DecisionTreeClassifier(max_depth=5, random_state=123))])"
      ]
     },
     "execution_count": 66,
     "metadata": {
      "tags": []
     },
     "output_type": "execute_result"
    }
   ],
   "source": [
    "grid_forest.best_estimator_"
   ]
  },
  {
   "cell_type": "code",
   "execution_count": null,
   "id": "e0d8e17e",
   "metadata": {
    "id": "e0d8e17e"
   },
   "outputs": [],
   "source": [
    "# # Decision Tree with max_depth adjusted AGAIN\n",
    "pipe_forest = make_pipeline(StandardScaler(), DecisionTreeClassifier())\n",
    "params = {'decisiontreeclassifier__max_depth' : [5,6,7,8],\n",
    "          'decisiontreeclassifier__random_state' : [123]\n",
    "          ,'decisiontreeclassifier__min_samples_split' : [2, 3, 4]\n",
    "         }\n",
    "grid_forest = GridSearchCV(pipe_forest, param_grid = params)"
   ]
  },
  {
   "cell_type": "code",
   "execution_count": null,
   "id": "fb419910",
   "metadata": {
    "id": "fb419910",
    "outputId": "2797ed4b-3291-49ad-980f-0e90e8b5d852"
   },
   "outputs": [
    {
     "data": {
      "text/plain": [
       "GridSearchCV(estimator=Pipeline(steps=[('standardscaler', StandardScaler()),\n",
       "                                       ('decisiontreeclassifier',\n",
       "                                        DecisionTreeClassifier())]),\n",
       "             param_grid={'decisiontreeclassifier__max_depth': [5, 6, 7, 8],\n",
       "                         'decisiontreeclassifier__min_samples_split': [2, 3, 4],\n",
       "                         'decisiontreeclassifier__random_state': [123]})"
      ]
     },
     "execution_count": 114,
     "metadata": {
      "tags": []
     },
     "output_type": "execute_result"
    }
   ],
   "source": [
    "grid_forest.fit(X_train,y_train)"
   ]
  },
  {
   "cell_type": "code",
   "execution_count": null,
   "id": "f100a323",
   "metadata": {
    "id": "f100a323",
    "outputId": "1edbed09-7405-485c-a75c-328c6fe47f94"
   },
   "outputs": [
    {
     "data": {
      "text/plain": [
       "0.6660015349194167"
      ]
     },
     "execution_count": 115,
     "metadata": {
      "tags": []
     },
     "output_type": "execute_result"
    }
   ],
   "source": [
    "grid_forest.score(X_test,y_test)### best DT model"
   ]
  },
  {
   "cell_type": "code",
   "execution_count": null,
   "id": "2ad39fa8",
   "metadata": {
    "id": "2ad39fa8"
   },
   "outputs": [],
   "source": [
    "pred = grid_forest.predict(X_test)"
   ]
  },
  {
   "cell_type": "code",
   "execution_count": null,
   "id": "996ca75f",
   "metadata": {
    "id": "996ca75f",
    "outputId": "bd14dcec-bb9a-4329-c2e4-d2ff86d5bc5f"
   },
   "outputs": [
    {
     "data": {
      "text/plain": [
       "0.6660015349194167"
      ]
     },
     "execution_count": 117,
     "metadata": {
      "tags": []
     },
     "output_type": "execute_result"
    }
   ],
   "source": [
    "f1_score(y_test,pred, average='micro')"
   ]
  },
  {
   "cell_type": "code",
   "execution_count": null,
   "id": "d031f669",
   "metadata": {
    "id": "d031f669",
    "outputId": "2e9f546f-7ccb-421e-8d79-9f48473da512",
    "scrolled": true
   },
   "outputs": [
    {
     "data": {
      "text/plain": [
       "Pipeline(steps=[('standardscaler', StandardScaler()),\n",
       "                ('decisiontreeclassifier',\n",
       "                 DecisionTreeClassifier(max_depth=7, min_samples_split=4,\n",
       "                                        random_state=123))])"
      ]
     },
     "execution_count": 70,
     "metadata": {
      "tags": []
     },
     "output_type": "execute_result"
    }
   ],
   "source": [
    "grid_forest.best_estimator_"
   ]
  },
  {
   "cell_type": "code",
   "execution_count": null,
   "id": "51e1764e",
   "metadata": {
    "id": "51e1764e"
   },
   "outputs": [],
   "source": [
    "# Clean Decision Tree pipeline\n",
    "pipe_forest = make_pipeline(StandardScaler(), DecisionTreeClassifier())\n",
    "params = {\n",
    "          'decisiontreeclassifier__random_state' : [123]}\n",
    "          \n",
    "grid_forest = GridSearchCV(pipe_forest, param_grid = params)"
   ]
  },
  {
   "cell_type": "code",
   "execution_count": null,
   "id": "35123b40",
   "metadata": {
    "id": "35123b40",
    "outputId": "f9cd1dc7-74ea-4b8c-ba64-e6313758c36e"
   },
   "outputs": [
    {
     "data": {
      "text/plain": [
       "GridSearchCV(estimator=Pipeline(steps=[('standardscaler', StandardScaler()),\n",
       "                                       ('decisiontreeclassifier',\n",
       "                                        DecisionTreeClassifier())]),\n",
       "             param_grid={'decisiontreeclassifier__random_state': [123]})"
      ]
     },
     "execution_count": 119,
     "metadata": {
      "tags": []
     },
     "output_type": "execute_result"
    }
   ],
   "source": [
    "grid_forest.fit(X_train,y_train)"
   ]
  },
  {
   "cell_type": "code",
   "execution_count": null,
   "id": "b6f54b64",
   "metadata": {
    "id": "b6f54b64",
    "outputId": "2bdfb93f-6a9b-439e-8d1b-ec057658c56d"
   },
   "outputs": [
    {
     "data": {
      "text/plain": [
       "0.5938603223330775"
      ]
     },
     "execution_count": 120,
     "metadata": {
      "tags": []
     },
     "output_type": "execute_result"
    }
   ],
   "source": [
    "grid_forest.score(X_test,y_test)"
   ]
  },
  {
   "cell_type": "code",
   "execution_count": null,
   "id": "7a38ac6c",
   "metadata": {
    "id": "7a38ac6c"
   },
   "outputs": [],
   "source": [
    "pred = grid_forest.predict(X_test)"
   ]
  },
  {
   "cell_type": "code",
   "execution_count": null,
   "id": "de488a1f",
   "metadata": {
    "id": "de488a1f",
    "outputId": "1291367b-843e-4267-8140-d75dfeb7b05e"
   },
   "outputs": [
    {
     "data": {
      "text/plain": [
       "0.5938603223330775"
      ]
     },
     "execution_count": 122,
     "metadata": {
      "tags": []
     },
     "output_type": "execute_result"
    }
   ],
   "source": [
    "f1_score(y_test,pred, average='micro')"
   ]
  },
  {
   "cell_type": "code",
   "execution_count": null,
   "id": "384d2e1c",
   "metadata": {
    "id": "384d2e1c",
    "outputId": "538fb472-e14a-4881-a7d7-71a7598ed19d",
    "scrolled": false
   },
   "outputs": [
    {
     "data": {
      "text/plain": [
       "Pipeline(steps=[('standardscaler', StandardScaler()),\n",
       "                ('decisiontreeclassifier',\n",
       "                 DecisionTreeClassifier(max_depth=5, random_state=123))])"
      ]
     },
     "execution_count": 66,
     "metadata": {
      "tags": []
     },
     "output_type": "execute_result"
    }
   ],
   "source": [
    "grid_forest.best_estimator_"
   ]
  },
  {
   "cell_type": "code",
   "execution_count": null,
   "id": "ae0cea1f",
   "metadata": {
    "id": "ae0cea1f"
   },
   "outputs": [],
   "source": [
    "# # Decision Tree with min_samples_split adjusted again\n",
    "pipe_forest = make_pipeline(StandardScaler(), DecisionTreeClassifier())\n",
    "params = {'decisiontreeclassifier__max_depth' : [5,6,7,8],\n",
    "          'decisiontreeclassifier__random_state' : [123]\n",
    "          ,'decisiontreeclassifier__min_samples_split' : [4,5,6,7]\n",
    "         }\n",
    "grid_forest = GridSearchCV(pipe_forest, param_grid = params)"
   ]
  },
  {
   "cell_type": "code",
   "execution_count": null,
   "id": "8de6dda6",
   "metadata": {
    "id": "8de6dda6",
    "outputId": "2320049f-5485-4e2d-9684-7c15f1318183"
   },
   "outputs": [
    {
     "data": {
      "text/plain": [
       "GridSearchCV(estimator=Pipeline(steps=[('standardscaler', StandardScaler()),\n",
       "                                       ('decisiontreeclassifier',\n",
       "                                        DecisionTreeClassifier())]),\n",
       "             param_grid={'decisiontreeclassifier__max_depth': [5, 6, 7, 8],\n",
       "                         'decisiontreeclassifier__min_samples_split': [4, 5, 6,\n",
       "                                                                       7],\n",
       "                         'decisiontreeclassifier__random_state': [123]})"
      ]
     },
     "execution_count": 124,
     "metadata": {
      "tags": []
     },
     "output_type": "execute_result"
    }
   ],
   "source": [
    "grid_forest.fit(X_train,y_train)"
   ]
  },
  {
   "cell_type": "code",
   "execution_count": null,
   "id": "1103eeac",
   "metadata": {
    "id": "1103eeac",
    "outputId": "954961f9-4655-47a6-c260-68e7110939b2"
   },
   "outputs": [
    {
     "data": {
      "text/plain": [
       "0.6658480429777437"
      ]
     },
     "execution_count": 125,
     "metadata": {
      "tags": []
     },
     "output_type": "execute_result"
    }
   ],
   "source": [
    "grid_forest.score(X_test,y_test)"
   ]
  },
  {
   "cell_type": "code",
   "execution_count": null,
   "id": "e0d68eb2",
   "metadata": {
    "id": "e0d68eb2"
   },
   "outputs": [],
   "source": [
    "pred = grid_forest.predict(X_test)"
   ]
  },
  {
   "cell_type": "code",
   "execution_count": null,
   "id": "8fac1ef3",
   "metadata": {
    "id": "8fac1ef3",
    "outputId": "9f73e6dd-edb5-44b3-bc39-2c82a095bac6"
   },
   "outputs": [
    {
     "data": {
      "text/plain": [
       "0.6658480429777437"
      ]
     },
     "execution_count": 127,
     "metadata": {
      "tags": []
     },
     "output_type": "execute_result"
    }
   ],
   "source": [
    "f1_score(y_test,pred, average='micro')"
   ]
  },
  {
   "cell_type": "code",
   "execution_count": null,
   "id": "587d3745",
   "metadata": {
    "id": "587d3745",
    "outputId": "23322a13-114b-4926-82b8-b12c36f706e6",
    "scrolled": false
   },
   "outputs": [
    {
     "data": {
      "text/plain": [
       "Pipeline(steps=[('standardscaler', StandardScaler()),\n",
       "                ('decisiontreeclassifier',\n",
       "                 DecisionTreeClassifier(max_depth=7, min_samples_split=7,\n",
       "                                        random_state=123))])"
      ]
     },
     "execution_count": 78,
     "metadata": {
      "tags": []
     },
     "output_type": "execute_result"
    }
   ],
   "source": [
    "grid_forest.best_estimator_"
   ]
  },
  {
   "cell_type": "code",
   "execution_count": null,
   "id": "78643796",
   "metadata": {
    "id": "78643796"
   },
   "outputs": [],
   "source": [
    "# # Decision Tree with min_samples_split and max_depth adjusted ONCE AGAIN\n",
    "pipe_forest = make_pipeline(StandardScaler(), DecisionTreeClassifier())\n",
    "params = {'decisiontreeclassifier__max_depth' : [7,8,9,10,11],\n",
    "          'decisiontreeclassifier__random_state' : [123]\n",
    "          ,'decisiontreeclassifier__min_samples_split' : [6,7,8,9,10]\n",
    "         }\n",
    "grid_forest = GridSearchCV(pipe_forest, param_grid = params)"
   ]
  },
  {
   "cell_type": "code",
   "execution_count": null,
   "id": "01a608d9",
   "metadata": {
    "id": "01a608d9",
    "outputId": "fd4e0255-d703-498a-af75-bb07782a9e02"
   },
   "outputs": [
    {
     "data": {
      "text/plain": [
       "GridSearchCV(estimator=Pipeline(steps=[('standardscaler', StandardScaler()),\n",
       "                                       ('decisiontreeclassifier',\n",
       "                                        DecisionTreeClassifier())]),\n",
       "             param_grid={'decisiontreeclassifier__max_depth': [7, 8, 9, 10, 11],\n",
       "                         'decisiontreeclassifier__min_samples_split': [6, 7, 8,\n",
       "                                                                       9, 10],\n",
       "                         'decisiontreeclassifier__random_state': [123]})"
      ]
     },
     "execution_count": 129,
     "metadata": {
      "tags": []
     },
     "output_type": "execute_result"
    }
   ],
   "source": [
    "grid_forest.fit(X_train,y_train)"
   ]
  },
  {
   "cell_type": "code",
   "execution_count": null,
   "id": "3bac356c",
   "metadata": {
    "id": "3bac356c",
    "outputId": "4dd6385b-ca68-4075-a566-c41c573d69a2"
   },
   "outputs": [
    {
     "data": {
      "text/plain": [
       "0.6658480429777437"
      ]
     },
     "execution_count": 81,
     "metadata": {
      "tags": []
     },
     "output_type": "execute_result"
    }
   ],
   "source": [
    "grid_forest.score(X_test,y_test)"
   ]
  },
  {
   "cell_type": "code",
   "execution_count": null,
   "id": "c15bc0c5",
   "metadata": {
    "id": "c15bc0c5"
   },
   "outputs": [],
   "source": [
    "pred = grid_forest.predict(X_test)"
   ]
  },
  {
   "cell_type": "code",
   "execution_count": null,
   "id": "0e7f4286",
   "metadata": {
    "id": "0e7f4286",
    "outputId": "8c964afd-a310-4336-8d5a-e3bf496fd5c8"
   },
   "outputs": [
    {
     "data": {
      "text/plain": [
       "0.6660015349194167"
      ]
     },
     "execution_count": 117,
     "metadata": {
      "tags": []
     },
     "output_type": "execute_result"
    }
   ],
   "source": [
    "f1_score(y_test,pred, average='micro')"
   ]
  },
  {
   "cell_type": "code",
   "execution_count": null,
   "id": "811b89ed",
   "metadata": {
    "id": "811b89ed",
    "outputId": "c2f006b6-fd01-4dd8-9633-8e441cda561e",
    "scrolled": false
   },
   "outputs": [
    {
     "data": {
      "text/plain": [
       "Pipeline(steps=[('standardscaler', StandardScaler()),\n",
       "                ('decisiontreeclassifier',\n",
       "                 DecisionTreeClassifier(max_depth=7, min_samples_split=7,\n",
       "                                        random_state=123))])"
      ]
     },
     "execution_count": 82,
     "metadata": {
      "tags": []
     },
     "output_type": "execute_result"
    }
   ],
   "source": [
    "grid_forest.best_estimator_"
   ]
  },
  {
   "cell_type": "markdown",
   "id": "a55114c9",
   "metadata": {},
   "source": [
    "#### BAGGING ESTIMATOR"
   ]
  },
  {
   "cell_type": "code",
   "execution_count": null,
   "id": "f7667b05",
   "metadata": {
    "id": "f7667b05"
   },
   "outputs": [],
   "source": [
    "# Bagging estimator with n_estimators, max_features, max_samples adjusted\n",
    "pipe_bagged = make_pipeline(StandardScaler(), BaggingClassifier())\n",
    "params = {'baggingclassifier__n_estimators' : [10,20,30,40,50],\n",
    "          'baggingclassifier__random_state' : [123]\n",
    "          ,'baggingclassifier__max_features' : [1,6,7,8,9,10],\n",
    "          'baggingclassifier__max_samples' : [1, 6,7,8,9,10]\n",
    "         }\n",
    "grid_bagged = GridSearchCV(pipe_bagged, param_grid = params)"
   ]
  },
  {
   "cell_type": "code",
   "execution_count": null,
   "id": "2d477dae",
   "metadata": {
    "id": "2d477dae",
    "outputId": "847abb01-1757-45ac-9e44-e85285e6785e"
   },
   "outputs": [
    {
     "data": {
      "text/plain": [
       "GridSearchCV(estimator=Pipeline(steps=[('standardscaler', StandardScaler()),\n",
       "                                       ('baggingclassifier',\n",
       "                                        BaggingClassifier())]),\n",
       "             param_grid={'baggingclassifier__max_features': [1, 6, 7, 8, 9, 10],\n",
       "                         'baggingclassifier__max_samples': [1, 6, 7, 8, 9, 10],\n",
       "                         'baggingclassifier__n_estimators': [10, 20, 30, 40,\n",
       "                                                             50],\n",
       "                         'baggingclassifier__random_state': [123]})"
      ]
     },
     "execution_count": 131,
     "metadata": {
      "tags": []
     },
     "output_type": "execute_result"
    }
   ],
   "source": [
    "grid_bagged.fit(X_train,y_train)"
   ]
  },
  {
   "cell_type": "code",
   "execution_count": null,
   "id": "13d71c2c",
   "metadata": {
    "id": "13d71c2c",
    "outputId": "d16c5ea3-869d-4aee-a10e-19b1ee71d928"
   },
   "outputs": [
    {
     "data": {
      "text/plain": [
       "0.5613200306983883"
      ]
     },
     "execution_count": 132,
     "metadata": {
      "tags": []
     },
     "output_type": "execute_result"
    }
   ],
   "source": [
    "grid_bagged.score(X_test,y_test)"
   ]
  },
  {
   "cell_type": "code",
   "execution_count": null,
   "id": "3c1582d9",
   "metadata": {
    "id": "3c1582d9"
   },
   "outputs": [],
   "source": [
    "pred = grid_bagged.predict(X_test)"
   ]
  },
  {
   "cell_type": "code",
   "execution_count": null,
   "id": "47e6ce24",
   "metadata": {
    "id": "47e6ce24",
    "outputId": "fbb962c2-5044-4766-895c-4eae38c130c5"
   },
   "outputs": [
    {
     "data": {
      "text/plain": [
       "0.5613200306983883"
      ]
     },
     "execution_count": 134,
     "metadata": {
      "tags": []
     },
     "output_type": "execute_result"
    }
   ],
   "source": [
    "f1_score(y_test,pred, average='micro')"
   ]
  },
  {
   "cell_type": "code",
   "execution_count": null,
   "id": "f26f72a0",
   "metadata": {
    "id": "f26f72a0",
    "outputId": "22cf8ae3-d3fb-4e41-aa1a-1949df2bff30",
    "scrolled": false
   },
   "outputs": [
    {
     "data": {
      "text/plain": [
       "Pipeline(steps=[('standardscaler', StandardScaler()),\n",
       "                ('baggingclassifier',\n",
       "                 BaggingClassifier(max_features=10, max_samples=8,\n",
       "                                   n_estimators=40, random_state=123))])"
      ]
     },
     "execution_count": 86,
     "metadata": {
      "tags": []
     },
     "output_type": "execute_result"
    }
   ],
   "source": [
    "grid_bagged.best_estimator_"
   ]
  },
  {
   "cell_type": "code",
   "execution_count": null,
   "id": "572688dc",
   "metadata": {
    "id": "572688dc"
   },
   "outputs": [],
   "source": [
    "# Bagging with max_features adjusted AGAIN\n",
    "pipe_bagged = make_pipeline(StandardScaler(), BaggingClassifier())\n",
    "params = {\n",
    "          'baggingclassifier__random_state' : [123]\n",
    "          ,'baggingclassifier__max_features' : [9,10, 12, 14, 16, 20]\n",
    "         }\n",
    "grid_bagged = GridSearchCV(pipe_bagged, param_grid = params)"
   ]
  },
  {
   "cell_type": "code",
   "execution_count": null,
   "id": "39a608f7",
   "metadata": {
    "id": "39a608f7",
    "outputId": "60e3da5a-5d02-489c-dfed-9c23fc0061d7"
   },
   "outputs": [
    {
     "data": {
      "text/plain": [
       "GridSearchCV(estimator=Pipeline(steps=[('standardscaler', StandardScaler()),\n",
       "                                       ('baggingclassifier',\n",
       "                                        BaggingClassifier())]),\n",
       "             param_grid={'baggingclassifier__max_features': [9, 10, 12, 14, 16,\n",
       "                                                             20],\n",
       "                         'baggingclassifier__random_state': [123]})"
      ]
     },
     "execution_count": 19,
     "metadata": {
      "tags": []
     },
     "output_type": "execute_result"
    }
   ],
   "source": [
    "grid_bagged.fit(X_train,y_train)"
   ]
  },
  {
   "cell_type": "code",
   "execution_count": null,
   "id": "b2d594a5",
   "metadata": {
    "id": "b2d594a5",
    "outputId": "c5d8a4db-cadb-4800-c24a-9ba9f25e40fa"
   },
   "outputs": [
    {
     "data": {
      "text/plain": [
       "0.6681504221028396"
      ]
     },
     "execution_count": 20,
     "metadata": {
      "tags": []
     },
     "output_type": "execute_result"
    }
   ],
   "source": [
    "############### best score ######################\n",
    "grid_bagged.score(X_test,y_test)"
   ]
  },
  {
   "cell_type": "code",
   "execution_count": null,
   "id": "1da626f6",
   "metadata": {
    "id": "1da626f6",
    "outputId": "60c75508-7e4c-4245-ca1a-ca4089237a3c"
   },
   "outputs": [
    {
     "data": {
      "text/plain": [
       "0.6681504221028396"
      ]
     },
     "execution_count": 138,
     "metadata": {
      "tags": []
     },
     "output_type": "execute_result"
    }
   ],
   "source": [
    "pred = grid_bagged.predict(X_test)\n",
    "\n",
    "f1_score(y_test,pred, average='micro')"
   ]
  },
  {
   "cell_type": "code",
   "execution_count": null,
   "id": "37490567",
   "metadata": {
    "id": "37490567",
    "outputId": "3ff01193-0027-4c3e-c524-80466944a274",
    "scrolled": true
   },
   "outputs": [
    {
     "data": {
      "text/plain": [
       "Pipeline(steps=[('standardscaler', StandardScaler()),\n",
       "                ('baggingclassifier',\n",
       "                 BaggingClassifier(max_features=9, random_state=123))])"
      ]
     },
     "execution_count": 24,
     "metadata": {
      "tags": []
     },
     "output_type": "execute_result"
    }
   ],
   "source": [
    "grid_bagged.best_estimator_"
   ]
  },
  {
   "cell_type": "code",
   "execution_count": null,
   "id": "5fc40761",
   "metadata": {
    "id": "5fc40761"
   },
   "outputs": [],
   "source": [
    "#Clean Bagging Estimator\n",
    "pipe_bagged = make_pipeline(StandardScaler(), BaggingClassifier())\n",
    "params = {\n",
    "          'baggingclassifier__random_state' : [123]\n",
    "}\n",
    "grid_bagged = GridSearchCV(pipe_bagged, param_grid = params)"
   ]
  },
  {
   "cell_type": "code",
   "execution_count": null,
   "id": "7c620740",
   "metadata": {
    "id": "7c620740",
    "outputId": "c0ab23eb-e594-45af-8b14-737290548949"
   },
   "outputs": [
    {
     "data": {
      "text/plain": [
       "GridSearchCV(estimator=Pipeline(steps=[('standardscaler', StandardScaler()),\n",
       "                                       ('baggingclassifier',\n",
       "                                        BaggingClassifier())]),\n",
       "             param_grid={'baggingclassifier__random_state': [123]})"
      ]
     },
     "execution_count": 141,
     "metadata": {
      "tags": []
     },
     "output_type": "execute_result"
    }
   ],
   "source": [
    "grid_bagged.fit(X_train,y_train)"
   ]
  },
  {
   "cell_type": "code",
   "execution_count": null,
   "id": "5a676acc",
   "metadata": {
    "id": "5a676acc",
    "outputId": "eed45943-a2ac-49d9-b42a-6666958c2264"
   },
   "outputs": [
    {
     "data": {
      "text/plain": [
       "0.6555640828856485"
      ]
     },
     "execution_count": 142,
     "metadata": {
      "tags": []
     },
     "output_type": "execute_result"
    }
   ],
   "source": [
    "grid_bagged.score(X_test,y_test)"
   ]
  },
  {
   "cell_type": "code",
   "execution_count": null,
   "id": "dddf9c26",
   "metadata": {
    "id": "dddf9c26",
    "outputId": "70077ec9-8672-4626-c85b-137c10737270"
   },
   "outputs": [
    {
     "data": {
      "text/plain": [
       "0.6555640828856485"
      ]
     },
     "execution_count": 146,
     "metadata": {
      "tags": []
     },
     "output_type": "execute_result"
    }
   ],
   "source": [
    "pred = grid_bagged.predict(X_test)\n",
    "\n",
    "f1_score(y_test,pred, average='micro')"
   ]
  },
  {
   "cell_type": "code",
   "execution_count": null,
   "id": "5d0adf68",
   "metadata": {
    "id": "5d0adf68",
    "outputId": "ab167fb2-22cf-4a0f-86d0-663c570c5336"
   },
   "outputs": [
    {
     "data": {
      "text/plain": [
       "Pipeline(steps=[('standardscaler', StandardScaler()),\n",
       "                ('baggingclassifier', BaggingClassifier(random_state=123))])"
      ]
     },
     "execution_count": 144,
     "metadata": {
      "tags": []
     },
     "output_type": "execute_result"
    }
   ],
   "source": [
    "grid_bagged.best_estimator_"
   ]
  },
  {
   "cell_type": "markdown",
   "id": "8ae130f2",
   "metadata": {},
   "source": [
    "#### AdaBoost"
   ]
  },
  {
   "cell_type": "code",
   "execution_count": null,
   "id": "1da31f1b",
   "metadata": {
    "id": "1da31f1b"
   },
   "outputs": [],
   "source": [
    "#Clean Adaboost Estimator\n",
    "pipe_ada = make_pipeline(StandardScaler(), AdaBoostClassifier())\n",
    "params = {\n",
    "          'adaboostclassifier__random_state' : [123]\n",
    "}\n",
    "grid_ada = GridSearchCV(pipe_ada, param_grid = params)"
   ]
  },
  {
   "cell_type": "code",
   "execution_count": null,
   "id": "92d9fe4f",
   "metadata": {
    "id": "92d9fe4f",
    "outputId": "069c5511-9977-4b4a-9aaa-3a5c3c6551f5"
   },
   "outputs": [
    {
     "data": {
      "text/plain": [
       "GridSearchCV(estimator=Pipeline(steps=[('standardscaler', StandardScaler()),\n",
       "                                       ('adaboostclassifier',\n",
       "                                        AdaBoostClassifier())]),\n",
       "             param_grid={'adaboostclassifier__random_state': [123]})"
      ]
     },
     "execution_count": 21,
     "metadata": {
      "tags": []
     },
     "output_type": "execute_result"
    }
   ],
   "source": [
    "grid_ada.fit(X_train,y_train)"
   ]
  },
  {
   "cell_type": "code",
   "execution_count": null,
   "id": "126c4e61",
   "metadata": {
    "id": "126c4e61",
    "outputId": "f5101688-0e9b-43c7-e27d-b9b27a036062"
   },
   "outputs": [
    {
     "data": {
      "text/plain": [
       "0.6526477359938603"
      ]
     },
     "execution_count": 22,
     "metadata": {
      "tags": []
     },
     "output_type": "execute_result"
    }
   ],
   "source": [
    "grid_ada.score(X_test,y_test)"
   ]
  },
  {
   "cell_type": "code",
   "execution_count": null,
   "id": "d4b4a643",
   "metadata": {
    "id": "d4b4a643",
    "outputId": "4083c7a5-41c7-4a92-e8e9-155e5d95faa6"
   },
   "outputs": [
    {
     "data": {
      "text/plain": [
       "0.6526477359938603"
      ]
     },
     "execution_count": 23,
     "metadata": {
      "tags": []
     },
     "output_type": "execute_result"
    }
   ],
   "source": [
    "pred = grid_ada.predict(X_test)\n",
    "\n",
    "f1_score(y_test,pred, average='micro')"
   ]
  },
  {
   "cell_type": "code",
   "execution_count": null,
   "id": "1b44a7b3",
   "metadata": {
    "id": "1b44a7b3",
    "outputId": "b7c08b02-0e31-4598-e60e-bf207e1a0355"
   },
   "outputs": [
    {
     "data": {
      "text/plain": [
       "Pipeline(steps=[('standardscaler', StandardScaler()),\n",
       "                ('adaboostclassifier', AdaBoostClassifier(random_state=123))])"
      ]
     },
     "execution_count": 24,
     "metadata": {
      "tags": []
     },
     "output_type": "execute_result"
    }
   ],
   "source": [
    "grid_ada.best_estimator_"
   ]
  },
  {
   "cell_type": "code",
   "execution_count": null,
   "id": "2935d749",
   "metadata": {
    "id": "2935d749"
   },
   "outputs": [],
   "source": [
    "# Adaboost with n_estimators, learning_rate, algorithm adjusted\n",
    "pipe_ada = make_pipeline(StandardScaler(), AdaBoostClassifier())\n",
    "params = {'adaboostclassifier__n_estimators':[30,40,50,60,70],\n",
    "    'adaboostclassifier__learning_rate':[.1,.3,1.0,1.3,3],\n",
    "    'adaboostclassifier__algorithm':['SAMME.R','SAMME'],\n",
    "     'adaboostclassifier__random_state' : [123]\n",
    "}\n",
    "grid_ada = GridSearchCV(pipe_ada, param_grid = params)"
   ]
  },
  {
   "cell_type": "code",
   "execution_count": null,
   "id": "932b2e9b",
   "metadata": {
    "id": "932b2e9b",
    "outputId": "256aa97b-e7dd-4066-bef2-4d2f0998bff4"
   },
   "outputs": [
    {
     "data": {
      "text/plain": [
       "GridSearchCV(estimator=Pipeline(steps=[('standardscaler', StandardScaler()),\n",
       "                                       ('adaboostclassifier',\n",
       "                                        AdaBoostClassifier())]),\n",
       "             param_grid={'adaboostclassifier__algorithm': ['SAMME.R', 'SAMME'],\n",
       "                         'adaboostclassifier__learning_rate': [0.1, 0.3, 1.0,\n",
       "                                                               1.3, 3],\n",
       "                         'adaboostclassifier__n_estimators': [30, 40, 50, 60,\n",
       "                                                              70],\n",
       "                         'adaboostclassifier__random_state': [123]})"
      ]
     },
     "execution_count": 27,
     "metadata": {
      "tags": []
     },
     "output_type": "execute_result"
    }
   ],
   "source": [
    "grid_ada.fit(X_train,y_train)"
   ]
  },
  {
   "cell_type": "code",
   "execution_count": null,
   "id": "153f00d9",
   "metadata": {
    "id": "153f00d9",
    "outputId": "7e6d2c2a-8430-40b4-da2d-58451c6743c1"
   },
   "outputs": [
    {
     "data": {
      "text/plain": [
       "0.6600153491941673"
      ]
     },
     "execution_count": 28,
     "metadata": {
      "tags": []
     },
     "output_type": "execute_result"
    }
   ],
   "source": [
    "grid_ada.score(X_test,y_test)"
   ]
  },
  {
   "cell_type": "code",
   "execution_count": null,
   "id": "7fc83ad1",
   "metadata": {
    "id": "7fc83ad1",
    "outputId": "bf9ba843-e987-475d-d29e-96a50ab7470a"
   },
   "outputs": [
    {
     "data": {
      "text/plain": [
       "0.6600153491941673"
      ]
     },
     "execution_count": 29,
     "metadata": {
      "tags": []
     },
     "output_type": "execute_result"
    }
   ],
   "source": [
    "pred = grid_ada.predict(X_test)\n",
    "\n",
    "f1_score(y_test,pred, average='micro')"
   ]
  },
  {
   "cell_type": "code",
   "execution_count": null,
   "id": "w60b_1cYMuVD",
   "metadata": {
    "id": "w60b_1cYMuVD",
    "outputId": "29333e29-db4b-48ad-e623-59f331fe76ba"
   },
   "outputs": [
    {
     "data": {
      "text/plain": [
       "Pipeline(steps=[('standardscaler', StandardScaler()),\n",
       "                ('adaboostclassifier',\n",
       "                 AdaBoostClassifier(learning_rate=1.3, n_estimators=70,\n",
       "                                    random_state=123))])"
      ]
     },
     "execution_count": 30,
     "metadata": {
      "tags": []
     },
     "output_type": "execute_result"
    }
   ],
   "source": [
    "grid_ada.best_estimator_"
   ]
  },
  {
   "cell_type": "code",
   "execution_count": null,
   "id": "nzNjGPJoMuVE",
   "metadata": {
    "id": "nzNjGPJoMuVE"
   },
   "outputs": [],
   "source": [
    "# Adaboost with n_estimators, learning_rate adjusted AGAIN\n",
    "pipe_ada = make_pipeline(StandardScaler(), AdaBoostClassifier())\n",
    "params = {'adaboostclassifier__n_estimators':[70,80,90,100,110],\n",
    "    'adaboostclassifier__learning_rate':[1.3,2, 2.3, 3],\n",
    "    'adaboostclassifier__random_state' : [123]\n",
    "}\n",
    "grid_ada = GridSearchCV(pipe_ada, param_grid = params)"
   ]
  },
  {
   "cell_type": "code",
   "execution_count": null,
   "id": "2xl4s0aoMuVE",
   "metadata": {
    "id": "2xl4s0aoMuVE",
    "outputId": "f798c905-63c3-46f2-9416-b434b6af7c9c"
   },
   "outputs": [
    {
     "data": {
      "text/plain": [
       "GridSearchCV(estimator=Pipeline(steps=[('standardscaler', StandardScaler()),\n",
       "                                       ('adaboostclassifier',\n",
       "                                        AdaBoostClassifier())]),\n",
       "             param_grid={'adaboostclassifier__learning_rate': [1.3, 2, 2.3, 3],\n",
       "                         'adaboostclassifier__n_estimators': [70, 80, 90, 100,\n",
       "                                                              110],\n",
       "                         'adaboostclassifier__random_state': [123]})"
      ]
     },
     "execution_count": 33,
     "metadata": {
      "tags": []
     },
     "output_type": "execute_result"
    }
   ],
   "source": [
    "grid_ada.fit(X_train,y_train)"
   ]
  },
  {
   "cell_type": "code",
   "execution_count": null,
   "id": "UJKIf5CCMuVE",
   "metadata": {
    "id": "UJKIf5CCMuVE",
    "outputId": "0eb83b7d-4b3c-4efb-e1ab-26b4905d2878"
   },
   "outputs": [
    {
     "data": {
      "text/plain": [
       "0.6600153491941673"
      ]
     },
     "execution_count": 34,
     "metadata": {
      "tags": []
     },
     "output_type": "execute_result"
    }
   ],
   "source": [
    "grid_ada.score(X_test,y_test)"
   ]
  },
  {
   "cell_type": "code",
   "execution_count": null,
   "id": "YIKeYBk3MuVE",
   "metadata": {
    "id": "YIKeYBk3MuVE",
    "outputId": "a9984b63-a04b-46b3-8c9c-544d93f2bb7f"
   },
   "outputs": [
    {
     "data": {
      "text/plain": [
       "0.6600153491941673"
      ]
     },
     "execution_count": 35,
     "metadata": {
      "tags": []
     },
     "output_type": "execute_result"
    }
   ],
   "source": [
    "pred = grid_ada.predict(X_test)\n",
    "\n",
    "f1_score(y_test,pred, average='micro')"
   ]
  },
  {
   "cell_type": "code",
   "execution_count": null,
   "id": "rGAUZOQtMuVF",
   "metadata": {
    "id": "rGAUZOQtMuVF",
    "outputId": "44fa6e8d-5816-4708-df58-a5d6f0ab140f"
   },
   "outputs": [
    {
     "data": {
      "text/plain": [
       "Pipeline(steps=[('standardscaler', StandardScaler()),\n",
       "                ('adaboostclassifier',\n",
       "                 AdaBoostClassifier(learning_rate=1.3, n_estimators=80,\n",
       "                                    random_state=123))])"
      ]
     },
     "execution_count": 36,
     "metadata": {
      "tags": []
     },
     "output_type": "execute_result"
    }
   ],
   "source": [
    "grid_ada.best_estimator_"
   ]
  },
  {
   "cell_type": "code",
   "execution_count": null,
   "id": "28e0a18d",
   "metadata": {},
   "outputs": [],
   "source": [
    "# MY BEST MODEL: using ALL variables....\n",
    "# Pipeline(steps=[('standardscaler', StandardScaler()),\n",
    "#                 ('baggingclassifier', < with base estimator of Decision Tree Classifier>\n",
    "#                  BaggingClassifier(max_features=9, random_state=123))])\n",
    "# Accuracy score: .668"
   ]
  }
 ],
 "metadata": {
  "accelerator": "GPU",
  "colab": {
   "name": "ChrisMartinModeling.ipynb",
   "provenance": []
  },
  "kernelspec": {
   "display_name": "Python 3",
   "language": "python",
   "name": "python3"
  },
  "language_info": {
   "codemirror_mode": {
    "name": "ipython",
    "version": 3
   },
   "file_extension": ".py",
   "mimetype": "text/x-python",
   "name": "python",
   "nbconvert_exporter": "python",
   "pygments_lexer": "ipython3",
   "version": "3.8.5"
  }
 },
 "nbformat": 4,
 "nbformat_minor": 5
}
