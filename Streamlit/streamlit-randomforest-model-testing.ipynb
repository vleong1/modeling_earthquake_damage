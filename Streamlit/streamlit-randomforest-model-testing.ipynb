{
 "cells": [
  {
   "cell_type": "markdown",
   "metadata": {},
   "source": [
    "## FOR DEMO PURPOSES ONLY --\n",
    "\n",
    "- Used our best model estimator (RandomForestClassifier) and top 5 permutation feature importances to create the Streamlit app\n",
    "- Since we're only using 5 features, had to re-GridSearchCV to find the best hyperparams for these subset of features (max_depth = 4, max_features = 2)\n",
    "- The test score continued to perform slightly better than the baseline accuracy score, so it was still ok to utilize for demo purposes"
   ]
  },
  {
   "cell_type": "code",
   "execution_count": 1,
   "metadata": {},
   "outputs": [],
   "source": [
    "from os import lseek\n",
    "import pandas as pd\n",
    "import numpy as np\n",
    "from sklearn.ensemble import RandomForestClassifier\n",
    "from sklearn.model_selection import train_test_split\n",
    "from sklearn.preprocessing import StandardScaler, LabelEncoder\n",
    "from sklearn.pipeline import make_pipeline\n",
    "import pickle\n",
    "from sklearn.model_selection import GridSearchCV"
   ]
  },
  {
   "cell_type": "code",
   "execution_count": 4,
   "metadata": {},
   "outputs": [],
   "source": [
    "# load in data\n",
    "train_values = pd.read_csv('../data/Proj5_train_values.csv')\n",
    "train_labels = pd.read_csv('../data/Proj5_train_labels.csv')\n",
    "\n",
    "# Label Encode features\n",
    "\n",
    "le = LabelEncoder()\n",
    "train_enc = train_values.apply(le.fit_transform)\n",
    "train_enc\n",
    "\n",
    "# merge train values + labels\n",
    "\n",
    "earthquake_encoded = pd.merge(train_enc, train_labels, on = 'building_id')\n",
    "\n",
    "# set a subset of X + y using the 5 permutation feature importances\n",
    "X = earthquake_encoded[['age', 'count_families', 'foundation_type', 'roof_type', 'has_superstructure_mud_mortar_stone']]\n",
    "y = earthquake_encoded['damage_grade']\n",
    "\n",
    "# tts\n",
    "X_train, X_test, y_train, y_test = train_test_split(X, y, stratify = y, random_state = 123)\n",
    "\n",
    "# scale\n",
    "sscaler = StandardScaler()\n",
    "X_train_scaled = sscaler.fit_transform(X_train)\n",
    "X_test_scaled = sscaler.transform(X_test)"
   ]
  },
  {
   "cell_type": "code",
   "execution_count": 5,
   "metadata": {},
   "outputs": [
    {
     "data": {
      "text/plain": [
       "2    0.569332\n",
       "3    0.334892\n",
       "1    0.095776\n",
       "Name: damage_grade, dtype: float64"
      ]
     },
     "execution_count": 5,
     "metadata": {},
     "output_type": "execute_result"
    }
   ],
   "source": [
    "# baseline score -- reminder\n",
    "\n",
    "y.value_counts(normalize = True)"
   ]
  },
  {
   "cell_type": "code",
   "execution_count": 13,
   "metadata": {},
   "outputs": [
    {
     "name": "stdout",
     "output_type": "stream",
     "text": [
      "Train Score: 0.5694096894613775\n",
      "Test Score: 0.5694683731233079\n"
     ]
    },
    {
     "data": {
      "text/plain": [
       "{'randomforestclassifier__max_depth': 4,\n",
       " 'randomforestclassifier__max_features': 2}"
      ]
     },
     "execution_count": 13,
     "metadata": {},
     "output_type": "execute_result"
    }
   ],
   "source": [
    "# Random Forest\n",
    "\n",
    "pipe_forest = make_pipeline(StandardScaler(), RandomForestClassifier(n_jobs = -1, random_state = 123))\n",
    "\n",
    "params = {'randomforestclassifier__max_depth' : [2, 3, 4, 5],\n",
    "          'randomforestclassifier__max_features' : [1, 2, 3, 4, 5]}\n",
    "\n",
    "grid_forest = GridSearchCV(pipe_forest, param_grid = params)\n",
    "\n",
    "grid_forest.fit(X_train, y_train)\n",
    "\n",
    "print(f'Train Score: {grid_forest.score(X_train, y_train)}')\n",
    "print(f'Test Score: {grid_forest.score(X_test, y_test)}')\n",
    "\n",
    "grid_forest.best_params_"
   ]
  }
 ],
 "metadata": {
  "kernelspec": {
   "display_name": "Python 3",
   "language": "python",
   "name": "python3"
  },
  "language_info": {
   "codemirror_mode": {
    "name": "ipython",
    "version": 3
   },
   "file_extension": ".py",
   "mimetype": "text/x-python",
   "name": "python",
   "nbconvert_exporter": "python",
   "pygments_lexer": "ipython3",
   "version": "3.7.4"
  }
 },
 "nbformat": 4,
 "nbformat_minor": 4
}
