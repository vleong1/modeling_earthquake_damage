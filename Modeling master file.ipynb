{
 "cells": [
  {
   "cell_type": "code",
   "execution_count": null,
   "id": "052fa317",
   "metadata": {},
   "outputs": [],
   "source": []
  },
  {
   "cell_type": "code",
   "execution_count": null,
   "id": "105ad618",
   "metadata": {},
   "outputs": [],
   "source": []
  },
  {
   "cell_type": "code",
   "execution_count": null,
   "id": "6459ddc5",
   "metadata": {},
   "outputs": [],
   "source": []
  },
  {
   "cell_type": "markdown",
   "id": "75a2ed39",
   "metadata": {},
   "source": [
    "### DECISION TREE CLASSIFIER"
   ]
  },
  {
   "cell_type": "code",
   "execution_count": null,
   "id": "e0d8e17e",
   "metadata": {
    "id": "e0d8e17e"
   },
   "outputs": [],
   "source": [
    "# Best Decision Tree model: with max_depth adjusted AGAIN\n",
    "pipe_forest = make_pipeline(StandardScaler(), DecisionTreeClassifier())\n",
    "params = {'decisiontreeclassifier__max_depth' : [5,6,7,8],\n",
    "          'decisiontreeclassifier__random_state' : [123]\n",
    "          ,'decisiontreeclassifier__min_samples_split' : [2, 3, 4]\n",
    "         }\n",
    "grid_forest = GridSearchCV(pipe_forest, param_grid = params)"
   ]
  },
  {
   "cell_type": "code",
   "execution_count": null,
   "id": "fb419910",
   "metadata": {
    "id": "fb419910",
    "outputId": "2797ed4b-3291-49ad-980f-0e90e8b5d852"
   },
   "outputs": [
    {
     "data": {
      "text/plain": [
       "GridSearchCV(estimator=Pipeline(steps=[('standardscaler', StandardScaler()),\n",
       "                                       ('decisiontreeclassifier',\n",
       "                                        DecisionTreeClassifier())]),\n",
       "             param_grid={'decisiontreeclassifier__max_depth': [5, 6, 7, 8],\n",
       "                         'decisiontreeclassifier__min_samples_split': [2, 3, 4],\n",
       "                         'decisiontreeclassifier__random_state': [123]})"
      ]
     },
     "execution_count": 114,
     "metadata": {
      "tags": []
     },
     "output_type": "execute_result"
    }
   ],
   "source": [
    "grid_forest.fit(X_train,y_train)"
   ]
  },
  {
   "cell_type": "code",
   "execution_count": null,
   "id": "f100a323",
   "metadata": {
    "id": "f100a323",
    "outputId": "1edbed09-7405-485c-a75c-328c6fe47f94"
   },
   "outputs": [
    {
     "data": {
      "text/plain": [
       "0.6660015349194167"
      ]
     },
     "execution_count": 115,
     "metadata": {
      "tags": []
     },
     "output_type": "execute_result"
    }
   ],
   "source": [
    "grid_forest.score(X_test,y_test)### best DT model"
   ]
  },
  {
   "cell_type": "code",
   "execution_count": null,
   "id": "2ad39fa8",
   "metadata": {
    "id": "2ad39fa8"
   },
   "outputs": [],
   "source": [
    "pred = grid_forest.predict(X_test)"
   ]
  },
  {
   "cell_type": "code",
   "execution_count": null,
   "id": "996ca75f",
   "metadata": {
    "id": "996ca75f",
    "outputId": "bd14dcec-bb9a-4329-c2e4-d2ff86d5bc5f"
   },
   "outputs": [
    {
     "data": {
      "text/plain": [
       "0.6660015349194167"
      ]
     },
     "execution_count": 117,
     "metadata": {
      "tags": []
     },
     "output_type": "execute_result"
    }
   ],
   "source": [
    "f1_score(y_test,pred, average='micro')"
   ]
  },
  {
   "cell_type": "code",
   "execution_count": null,
   "id": "d031f669",
   "metadata": {
    "id": "d031f669",
    "outputId": "2e9f546f-7ccb-421e-8d79-9f48473da512",
    "scrolled": true
   },
   "outputs": [
    {
     "data": {
      "text/plain": [
       "Pipeline(steps=[('standardscaler', StandardScaler()),\n",
       "                ('decisiontreeclassifier',\n",
       "                 DecisionTreeClassifier(max_depth=7, min_samples_split=4,\n",
       "                                        random_state=123))])"
      ]
     },
     "execution_count": 70,
     "metadata": {
      "tags": []
     },
     "output_type": "execute_result"
    }
   ],
   "source": [
    "grid_forest.best_estimator_"
   ]
  },
  {
   "cell_type": "markdown",
   "id": "cf631dcb",
   "metadata": {},
   "source": [
    "#### Best Decision Tree model hyperparameters:\n",
    "    max_depth = 7\n",
    "    min_samples_split=4\n",
    "    Accuracy: 66.6%"
   ]
  },
  {
   "cell_type": "markdown",
   "id": "b220e32d",
   "metadata": {},
   "source": [
    "#### Decision Tree models tested:\n",
    "    With default parameters: 59.39%\n",
    "    With max_depth = 5: 64.68%\n",
    "    With max_depth = 7 & min_samples_split = 4: 66%\n",
    "    With max_depth = 7 & min_samples_split = 7: 66.58%\n",
    "        "
   ]
  },
  {
   "cell_type": "markdown",
   "id": "eca1cb33",
   "metadata": {},
   "source": [
    "### BAGGING CLASSIFIER"
   ]
  },
  {
   "cell_type": "code",
   "execution_count": null,
   "id": "3d8ced95",
   "metadata": {},
   "outputs": [],
   "source": [
    "pipe_bagged = make_pipeline(StandardScaler(), BaggingClassifier())\n",
    "params = {\n",
    "          'baggingclassifier__random_state' : [123]\n",
    "          ,'baggingclassifier__max_features' : [9,10, 12, 14, 16, 20]\n",
    "         }\n",
    "grid_bagged = GridSearchCV(pipe_bagged, param_grid = params)"
   ]
  },
  {
   "cell_type": "code",
   "execution_count": null,
   "id": "20991c41",
   "metadata": {},
   "outputs": [],
   "source": [
    "grid_bagged.fit(X_train,y_train)"
   ]
  },
  {
   "cell_type": "code",
   "execution_count": null,
   "id": "4f8e9178",
   "metadata": {},
   "outputs": [],
   "source": [
    "############### best score ######################\n",
    "grid_bagged.score(X_test,y_test)\n",
    "0.6681504221028396"
   ]
  },
  {
   "cell_type": "code",
   "execution_count": null,
   "id": "e72484fc",
   "metadata": {},
   "outputs": [],
   "source": [
    "pred = grid_bagged.predict(X_test)\n",
    "\n",
    "f1_score(y_test,pred, average='micro')"
   ]
  },
  {
   "cell_type": "code",
   "execution_count": null,
   "id": "1fdbd09e",
   "metadata": {},
   "outputs": [],
   "source": [
    "grid_bagged.best_estimator_"
   ]
  },
  {
   "cell_type": "markdown",
   "id": "c1a1e531",
   "metadata": {},
   "source": [
    "#### Best Bagging Classifier model hyperparameters:\n",
    "    max_depth = 7\n",
    "    min_samples_split=4\n",
    "    Accuracy: 66.82%"
   ]
  },
  {
   "cell_type": "markdown",
   "id": "06b59450",
   "metadata": {},
   "source": [
    "#### Bagging Classifier models tested:¶\n",
    "    With default parameters: 59.39%\n",
    "    With max_features=10, max_samples=8, n_estimators=40: 56.13%\n",
    "    With max_depth = 7 & min_samples_split = 4: 66%\n",
    "    With max_depth = 7 & min_samples_split = 7: 66.58%"
   ]
  },
  {
   "cell_type": "code",
   "execution_count": null,
   "id": "59c7c95c",
   "metadata": {},
   "outputs": [],
   "source": []
  },
  {
   "cell_type": "code",
   "execution_count": null,
   "id": "f2a5c594",
   "metadata": {},
   "outputs": [],
   "source": []
  },
  {
   "cell_type": "code",
   "execution_count": null,
   "id": "bc870e85",
   "metadata": {},
   "outputs": [],
   "source": []
  },
  {
   "cell_type": "code",
   "execution_count": null,
   "id": "7d674726",
   "metadata": {},
   "outputs": [],
   "source": []
  },
  {
   "cell_type": "code",
   "execution_count": null,
   "id": "f7149a59",
   "metadata": {},
   "outputs": [],
   "source": []
  }
 ],
 "metadata": {
  "kernelspec": {
   "display_name": "Python 3",
   "language": "python",
   "name": "python3"
  },
  "language_info": {
   "codemirror_mode": {
    "name": "ipython",
    "version": 3
   },
   "file_extension": ".py",
   "mimetype": "text/x-python",
   "name": "python",
   "nbconvert_exporter": "python",
   "pygments_lexer": "ipython3",
   "version": "3.8.5"
  }
 },
 "nbformat": 4,
 "nbformat_minor": 5
}
