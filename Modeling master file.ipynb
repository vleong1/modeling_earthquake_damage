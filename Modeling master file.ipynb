{
 "cells": [
  {
   "cell_type": "code",
   "execution_count": null,
   "id": "aba1137c",
   "metadata": {},
   "outputs": [],
   "source": []
  },
  {
   "cell_type": "code",
   "execution_count": null,
   "id": "c12b40d9",
   "metadata": {},
   "outputs": [],
   "source": []
  },
  {
   "cell_type": "code",
   "execution_count": null,
   "id": "b1cab0bb",
   "metadata": {},
   "outputs": [],
   "source": []
  },
  {
   "cell_type": "code",
   "execution_count": null,
   "id": "0a604f0f",
   "metadata": {},
   "outputs": [],
   "source": []
  },
  {
   "cell_type": "code",
   "execution_count": null,
   "id": "e0d8e17e",
   "metadata": {
    "id": "e0d8e17e"
   },
   "outputs": [],
   "source": [
    "# Best Decision Tree model: with max_depth adjusted AGAIN\n",
    "pipe_forest = make_pipeline(StandardScaler(), DecisionTreeClassifier())\n",
    "params = {'decisiontreeclassifier__max_depth' : [5,6,7,8],\n",
    "          'decisiontreeclassifier__random_state' : [123]\n",
    "          ,'decisiontreeclassifier__min_samples_split' : [2, 3, 4]\n",
    "         }\n",
    "grid_forest = GridSearchCV(pipe_forest, param_grid = params)"
   ]
  },
  {
   "cell_type": "code",
   "execution_count": null,
   "id": "fb419910",
   "metadata": {
    "id": "fb419910",
    "outputId": "2797ed4b-3291-49ad-980f-0e90e8b5d852"
   },
   "outputs": [
    {
     "data": {
      "text/plain": [
       "GridSearchCV(estimator=Pipeline(steps=[('standardscaler', StandardScaler()),\n",
       "                                       ('decisiontreeclassifier',\n",
       "                                        DecisionTreeClassifier())]),\n",
       "             param_grid={'decisiontreeclassifier__max_depth': [5, 6, 7, 8],\n",
       "                         'decisiontreeclassifier__min_samples_split': [2, 3, 4],\n",
       "                         'decisiontreeclassifier__random_state': [123]})"
      ]
     },
     "execution_count": 114,
     "metadata": {
      "tags": []
     },
     "output_type": "execute_result"
    }
   ],
   "source": [
    "grid_forest.fit(X_train,y_train)"
   ]
  },
  {
   "cell_type": "code",
   "execution_count": null,
   "id": "f100a323",
   "metadata": {
    "id": "f100a323",
    "outputId": "1edbed09-7405-485c-a75c-328c6fe47f94"
   },
   "outputs": [
    {
     "data": {
      "text/plain": [
       "0.6660015349194167"
      ]
     },
     "execution_count": 115,
     "metadata": {
      "tags": []
     },
     "output_type": "execute_result"
    }
   ],
   "source": [
    "grid_forest.score(X_test,y_test)### best DT model"
   ]
  },
  {
   "cell_type": "code",
   "execution_count": null,
   "id": "2ad39fa8",
   "metadata": {
    "id": "2ad39fa8"
   },
   "outputs": [],
   "source": [
    "pred = grid_forest.predict(X_test)"
   ]
  },
  {
   "cell_type": "code",
   "execution_count": null,
   "id": "996ca75f",
   "metadata": {
    "id": "996ca75f",
    "outputId": "bd14dcec-bb9a-4329-c2e4-d2ff86d5bc5f"
   },
   "outputs": [
    {
     "data": {
      "text/plain": [
       "0.6660015349194167"
      ]
     },
     "execution_count": 117,
     "metadata": {
      "tags": []
     },
     "output_type": "execute_result"
    }
   ],
   "source": [
    "f1_score(y_test,pred, average='micro')"
   ]
  },
  {
   "cell_type": "code",
   "execution_count": null,
   "id": "d031f669",
   "metadata": {
    "id": "d031f669",
    "outputId": "2e9f546f-7ccb-421e-8d79-9f48473da512",
    "scrolled": true
   },
   "outputs": [
    {
     "data": {
      "text/plain": [
       "Pipeline(steps=[('standardscaler', StandardScaler()),\n",
       "                ('decisiontreeclassifier',\n",
       "                 DecisionTreeClassifier(max_depth=7, min_samples_split=4,\n",
       "                                        random_state=123))])"
      ]
     },
     "execution_count": 70,
     "metadata": {
      "tags": []
     },
     "output_type": "execute_result"
    }
   ],
   "source": [
    "grid_forest.best_estimator_"
   ]
  },
  {
   "cell_type": "markdown",
   "id": "859b7023",
   "metadata": {},
   "source": [
    "Best Decision Tree model hyperparameters:\n",
    "    max_depth = 7\n",
    "    min_samples_split=4"
   ]
  },
  {
   "cell_type": "code",
   "execution_count": null,
   "id": "234edccd",
   "metadata": {},
   "outputs": [],
   "source": [
    "Decision Tree models tested:\n",
    "    With default parameters: 59.39%\n",
    "    With max_depth = 5: 64.68%\n",
    "    With max_depth = 7 & min_samples_split = 4: 66%\n",
    "    With max_depth = 7 & min_samples_split = 7: 66.58%\n",
    "        "
   ]
  }
 ],
 "metadata": {
  "kernelspec": {
   "display_name": "Python 3",
   "language": "python",
   "name": "python3"
  },
  "language_info": {
   "codemirror_mode": {
    "name": "ipython",
    "version": 3
   },
   "file_extension": ".py",
   "mimetype": "text/x-python",
   "name": "python",
   "nbconvert_exporter": "python",
   "pygments_lexer": "ipython3",
   "version": "3.8.5"
  }
 },
 "nbformat": 4,
 "nbformat_minor": 5
}
